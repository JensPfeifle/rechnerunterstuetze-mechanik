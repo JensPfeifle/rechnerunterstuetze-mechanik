{
 "cells": [
  {
   "cell_type": "code",
   "execution_count": 1,
   "metadata": {},
   "outputs": [],
   "source": [
    "import numpy as np\n",
    "import matplotlib.pyplot as plt\n",
    "import scipy.sparse\n",
    "import pickle\n",
    "import logging\n",
    "#logging.basicConfig(level=logging.DEBUG)"
   ]
  },
  {
   "cell_type": "markdown",
   "metadata": {},
   "source": [
    "# Integration"
   ]
  },
  {
   "cell_type": "code",
   "execution_count": 2,
   "metadata": {},
   "outputs": [
    {
     "name": "stdout",
     "output_type": "stream",
     "text": [
      "[0 1 2]\n",
      "[3, 2, 1]\n"
     ]
    },
    {
     "data": {
      "text/plain": [
       "array([0, 2, 2])"
      ]
     },
     "execution_count": 2,
     "metadata": {},
     "output_type": "execute_result"
    }
   ],
   "source": [
    "a = np.arange(0,3)\n",
    "b = [3,2,1]\n",
    "#b = np.arange(3,0,-1)\n",
    "print(a)\n",
    "print(b)\n",
    "a*b"
   ]
  },
  {
   "cell_type": "code",
   "execution_count": 3,
   "metadata": {},
   "outputs": [],
   "source": [
    "def save_obj(obj, name):\n",
    "    with open('obj/' + name + '.pkl', 'wb') as f:\n",
    "        pickle.dump(obj, f, pickle.HIGHEST_PROTOCOL)\n",
    "\n",
    "\n",
    "def load_obj(name):\n",
    "    with open('obj/' + name + '.pkl', 'rb') as f:\n",
    "        return pickle.load(f)\n",
    "    \n",
    "    \n",
    "def quad_Gauss(f, a, b, N):\n",
    "    \"\"\"\n",
    "    Approximate the integral of any (callable) function f\n",
    "    on the interval a,b\n",
    "    using Gauss Quadrature with N support points.\n",
    "    Weights/support points are loaded for the reference interval [0,1]\n",
    "    and must be transformed to the integration interval.\n",
    "    \"\"\"\n",
    "    try:\n",
    "        weights = load_obj(\"testat2_lambda\")[N]\n",
    "    except KeyError as e:\n",
    "        print(\"Weights for N={} not available\".format(N))\n",
    "        return\n",
    "    \n",
    "    try:\n",
    "        support_points = load_obj(\"testat2_tau\")[N]\n",
    "    except KeyError as e:\n",
    "        print(\"Gausspts for N={} not available\".format(N))\n",
    "        return\n",
    "    \n",
    "    logging.debug(\"quad: Gauss pts: {}\".format(support_points))\n",
    "    support_points = [a + (b-a)*t for t in support_points]  # transformation to a-b\n",
    "    function_values = [f(t) for t in support_points]\n",
    "    logging.debug(\"quad: Gauss pts transformed: {}\".format(support_points))\n",
    "    logging.debug(\"quad: f @ Gauss pts: {}\".format(function_values))\n",
    "    logging.debug(\"quad: weights: {}\".format(weights))\n",
    "    \n",
    "    return float((b-a) * np.sum(np.multiply(weights,function_values)))\n"
   ]
  },
  {
   "cell_type": "markdown",
   "metadata": {},
   "source": [
    "# Ansatzfunctions"
   ]
  },
  {
   "cell_type": "code",
   "execution_count": 4,
   "metadata": {},
   "outputs": [],
   "source": [
    "def phi(x, i, vx):\n",
    "    \"\"\"\n",
    "    Piecewise linear ansatzfunction\n",
    "    Returns np.ndarray of values phi_i(x)\n",
    "    \n",
    "    x:\n",
    "    i:  index of ansatzfunktion\n",
    "    vx: node vector (discretization)\n",
    "    \"\"\"\n",
    "    \n",
    "    if not type(x) == np.ndarray:\n",
    "        x = np.array([x])\n",
    "        \n",
    "    phi = np.zeros(len(x))\n",
    "    for n,x_ in enumerate(x):\n",
    "        if i == 0 and x_ == vx[0]:\n",
    "            phi[n] = 1.0\n",
    "        elif i == len(vx)-1 and x_ == vx[-1]:\n",
    "            phi[n] = 1.0\n",
    "        elif vx[i-1] <= x_ < vx[i]:\n",
    "            assert i != 0\n",
    "            phi[n] = (x_ - vx[i-1])/(vx[i] - vx[i-1])\n",
    "        elif vx[i] <= x_ < vx[i+1]:\n",
    "            phi[n] = (x_ - vx[i+1])/(vx[i] - vx[i+1])\n",
    "        else: \n",
    "            phi[n] = 0        \n",
    "    return phi\n",
    "\n",
    "def dphi(x, i, vx):\n",
    "    \"\"\"\n",
    "    Derivative of piecewise linear ansatzfunction by x\n",
    "    Returns np.ndarray of values dphi_i(x)\n",
    "    \n",
    "    x:\n",
    "    i:  index of ansatzfunktion\n",
    "    vx: node vector (discretization)\n",
    "    \"\"\"\n",
    "    \n",
    "    numpyarray = True\n",
    "    if not type(x) == np.ndarray:\n",
    "        x = np.array([x])\n",
    "        numpyarray = False\n",
    "        \n",
    "    dphi = np.zeros(len(x))\n",
    "    for n,x_ in enumerate(x):\n",
    "        if i == 0 and x_ == vx[0]:\n",
    "            dphi[n] = -1.0\n",
    "        elif i == len(vx)-1 and x_ == vx[-1]:\n",
    "            dphi[n] = 1.0\n",
    "        elif vx[i-1] < x_ <= vx[i]:\n",
    "            assert i != 0\n",
    "            dphi[n] = 1/(vx[i] - vx[i-1])\n",
    "        elif vx[i] < x_ < vx[i+1]:\n",
    "            dphi[n] = 1/(vx[i] - vx[i+1])\n",
    "        else: \n",
    "            dphi[n] = 0\n",
    "            \n",
    "    if not numpyarray:\n",
    "        return float(dphi)\n",
    "    else:\n",
    "        return dphi"
   ]
  },
  {
   "cell_type": "code",
   "execution_count": 5,
   "metadata": {},
   "outputs": [
    {
     "data": {
      "image/png": "[encoded data removed]",
      "text/plain": [
       "<Figure size 432x288 with 2 Axes>"
      ]
     },
     "metadata": {
      "needs_background": "light"
     },
     "output_type": "display_data"
    }
   ],
   "source": [
    "fig, (ax1,ax2) = plt.subplots(1,2)\n",
    "\n",
    "vx = np.array([0,1,2,3,4,5,6,7,8,9])\n",
    "\n",
    "x = np.linspace(0,max(vx),100)\n",
    "#print(x)\n",
    "    \n",
    "for i in range(len(vx)):\n",
    "#    print(phi(x, i, vx))\n",
    "    ax1.plot(x,  phi(x, i, vx), label=\"phi {}\".format(i))\n",
    "    if i in [4]:\n",
    "        ax2.plot(x, dphi(x, i, vx), label=\"dphi {}\".format(i))\n",
    "\n",
    "ax1.legend()\n",
    "ax2.legend()\n",
    "plt.show()"
   ]
  },
  {
   "cell_type": "markdown",
   "metadata": {},
   "source": [
    "# Assembly"
   ]
  },
  {
   "cell_type": "code",
   "execution_count": 6,
   "metadata": {},
   "outputs": [],
   "source": [
    "def IntegrateFunction(aa, bb, func, order, i, k, vx):\n",
    "    \"\"\"\n",
    "    Integrates func(x) ∂φi(x) ∂φk(x) dx on [aa,bb]\n",
    "    using Gauss Quadrature\n",
    "    \n",
    "    order: specifies number of integration points\n",
    "    \n",
    "    \"\"\"\n",
    "    \n",
    "    f = lambda x: func(x) * dphi(x, i, vx) * dphi(x, k, vx)\n",
    "    return quad_Gauss(f, aa, bb, N = order)\n",
    "    \n",
    "\n",
    "\n",
    "def NodeStiffness(i, vx, f, order):\n",
    "    \"\"\"\n",
    "    Get contributions to stiffness matrix from node i\n",
    "    \n",
    "    Parameters:\n",
    "        i: node id\n",
    "        vx: node vector\n",
    "        f: function ?\n",
    "        order: number of integration points to use\n",
    "    Returns (ii,jj,vv):\n",
    "            ii: row indices\n",
    "            jj: column indices\n",
    "            vv: values\n",
    "    \"\"\"\n",
    "    nvx = len(vx)\n",
    "    \n",
    "    iijjvv = []\n",
    "\n",
    "    if i == 0:\n",
    "        a = vx[0]\n",
    "        b = vx[1]\n",
    "        v = IntegrateFunction(a, b, f, order, i, 0, vx)\n",
    "        iijjvv.append((i,0,v))\n",
    "        v = IntegrateFunction(a, b, f, order, i, 1, vx)\n",
    "        iijjvv.append((i,1,v))\n",
    "    elif i == nvx-1:\n",
    "        a = vx[-2]\n",
    "        b = vx[-1]\n",
    "        v = IntegrateFunction(a, b, f, order, i, i-1, vx)\n",
    "        iijjvv.append((i,i-1,v))\n",
    "        v = IntegrateFunction(a, b, f, order, i, i, vx)\n",
    "        iijjvv.append((i,i  ,v))\n",
    "    else:\n",
    "        a = vx[i-1]\n",
    "        b = vx[i]\n",
    "        v = IntegrateFunction(a, b, f, order, i, i-1, vx) \n",
    "        iijjvv.append((i,i-1,v))\n",
    "        v = IntegrateFunction(a, b, f, order, i, i, vx)\n",
    "        iijjvv.append((i,i,v))\n",
    "        \n",
    "        a = vx[i]\n",
    "        b = vx[i+1]\n",
    "        v = IntegrateFunction(a, b, f, order, i, i, vx)\n",
    "        iijjvv.append((i,i,v))\n",
    "        v = IntegrateFunction(a, b, f, order, i, i+1, vx)\n",
    "        iijjvv.append((i,i+1,v))\n",
    "        \n",
    "    ii,jj, vv = zip(*iijjvv)\n",
    "    \n",
    "    return ii, jj, vv"
   ]
  },
  {
   "cell_type": "code",
   "execution_count": 14,
   "metadata": {},
   "outputs": [
    {
     "name": "stdout",
     "output_type": "stream",
     "text": [
      "\n",
      "Knoten 0:\n",
      "[[ 1. -1.  0.]\n",
      " [ 0.  0.  0.]\n",
      " [ 0.  0.  0.]]\n",
      "\n",
      "Knoten 1:\n",
      "[[ 0.  0.  0.]\n",
      " [-1.  2. -1.]\n",
      " [ 0.  0.  0.]]\n",
      "\n",
      "Knoten 2:\n",
      "[[ 0.  0.  0.]\n",
      " [ 0.  0.  0.]\n",
      " [ 0. -1.  1.]]\n"
     ]
    }
   ],
   "source": [
    "# doctest this!\n",
    "\n",
    "\n",
    "EA = lambda x: 1\n",
    "vx = np.array([0,1,2])\n",
    "\n",
    "for e in range(len(vx)):\n",
    "    print()\n",
    "    print(\"Knoten {}:\".format(e))\n",
    "    ii,jj,vv = NodeStiffness(e, vx, EA, order = 1)\n",
    "    Ke = scipy.sparse.csr_matrix((vv, (ii, jj)), shape=[len(vx),len(vx)])\n",
    "    print(Ke.toarray())"
   ]
  },
  {
   "cell_type": "code",
   "execution_count": null,
   "metadata": {},
   "outputs": [],
   "source": []
  }
 ],
 "metadata": {
  "kernelspec": {
   "display_name": "Python 3",
   "language": "python",
   "name": "python3"
  },
  "language_info": {
   "codemirror_mode": {
    "name": "ipython",
    "version": 3
   },
   "file_extension": ".py",
   "mimetype": "text/x-python",
   "name": "python",
   "nbconvert_exporter": "python",
   "pygments_lexer": "ipython3",
   "version": "3.6.7"
  },
  "toc": {
   "base_numbering": 1,
   "nav_menu": {},
   "number_sections": true,
   "sideBar": true,
   "skip_h1_title": false,
   "title_cell": "Table of Contents",
   "title_sidebar": "Contents",
   "toc_cell": false,
   "toc_position": {},
   "toc_section_display": true,
   "toc_window_display": false
  }
 },
 "nbformat": 4,
 "nbformat_minor": 2
}
