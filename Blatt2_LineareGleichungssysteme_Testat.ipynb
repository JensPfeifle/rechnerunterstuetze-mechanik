{
 "cells": [
  {
   "cell_type": "markdown",
   "metadata": {},
   "source": [
    "#   Testat 1 (08.11.2018)"
   ]
  },
  {
   "cell_type": "code",
   "execution_count": 1,
   "metadata": {
    "scrolled": true
   },
   "outputs": [],
   "source": [
    "import numpy as np\n",
    "from numpy import zeros, sqrt\n",
    "import numpy.linalg as la\n",
    "from rum.basics import matprint"
   ]
  },
  {
   "cell_type": "code",
   "execution_count": 2,
   "metadata": {},
   "outputs": [
    {
     "name": "stdout",
     "output_type": "stream",
     "text": [
      " 4 2 -1   0   0   0 \n",
      " 2 4  1   1   0   1 \n",
      "-1 1  5   3  -1   2 \n",
      " 0 1  3   4 1.1 2.5 \n",
      " 0 0 -1 1.1 2.4   1 \n",
      " 0 1  2 2.5   1   3 \n"
     ]
    }
   ],
   "source": [
    "A = np.array([[4.0, 2.0, -1.0, 0.0, 0.0, 0.0],\n",
    "              [2.0, 4.0, 1.0, 1.0, 0.0, 1.0],\n",
    "              [-1.0, 1.0, 5.0, 3.0, -1, 2.0],\n",
    "              [0.0, 1.0, 3.0, 4.0, 1.1, 2.5],\n",
    "              [0.0, 0.0, -1, 1.1, 2.4, 1.0],\n",
    "              [0.0, 1.0, 2.0, 2.5, 1.0, 3.0]])\n",
    "matprint(A)"
   ]
  },
  {
   "cell_type": "markdown",
   "metadata": {},
   "source": [
    "## (a) Zeigen Sie, dass die Matrix A positiv definit ist."
   ]
  },
  {
   "cell_type": "code",
   "execution_count": 3,
   "metadata": {},
   "outputs": [],
   "source": [
    "def test_spd(A):\n",
    "    \"\"\" \n",
    "    Returns True if the A is symmetric positive-definite (spd)\n",
    "    else returns False\n",
    "    \"\"\"\n",
    "    # symmetry\n",
    "    if not (A.transpose() == A).all():\n",
    "        return False\n",
    "    # positive eigenvalues\n",
    "    lamdas, _ = la.eigh(A)\n",
    "    for l in lamdas:\n",
    "        if l <= 0:\n",
    "            return False\n",
    "    return True"
   ]
  },
  {
   "cell_type": "code",
   "execution_count": 4,
   "metadata": {},
   "outputs": [
    {
     "name": "stdout",
     "output_type": "stream",
     "text": [
      "A ist spd.\n"
     ]
    }
   ],
   "source": [
    "if test_spd(A):\n",
    "    print(\"A ist spd.\")\n",
    "else:\n",
    "    print(\"A ist nicht spd.\")"
   ]
  },
  {
   "cell_type": "markdown",
   "metadata": {},
   "source": [
    "## (b) Schreiben Sie ein Programm zur Lösung des linearen Gleichungssystems Ax = y. Verwenden Sie eine eigene Implementierung der Cholesky-Zerlegung."
   ]
  },
  {
   "cell_type": "code",
   "execution_count": 5,
   "metadata": {},
   "outputs": [],
   "source": [
    "def cholesky(A, verbose=False):\n",
    "    \"\"\" \n",
    "    Cholesky decomposition of A\n",
    "    Returns None if A is not spd. \n",
    "    Else returns lower diagonal matrix L.\n",
    "    \"\"\"\n",
    "    if not test_spd(A):\n",
    "        return None\n",
    "\n",
    "    L = A.copy()\n",
    "    N = A.shape[0]\n",
    "    for i in range(N):\n",
    "        for j in range(N):\n",
    "            if j > i:\n",
    "                L[i, j] = 0\n",
    "            else:\n",
    "                if verbose:\n",
    "                    print(\"L{}{}=(\".format(i, j), end=\"\")\n",
    "                sum_ = A[i, j]\n",
    "                if verbose:\n",
    "                    print(\"{}\".format(A[i, j]), end=\"\")\n",
    "                for k in range(j):\n",
    "                    if verbose:\n",
    "                        print(\" - {}*{}\".format(L[i, k], L[j, k]), end=\"\")\n",
    "                    sum_ = sum_ - L[i, k]*L[j, k]\n",
    "                if i == j:\n",
    "                    if verbose:\n",
    "                        print(\")->sqrt\")\n",
    "                    L[i, j] = sqrt(sum_)\n",
    "                else:\n",
    "                    if verbose:\n",
    "                        print(\")/{}\".format(L[j, j]))\n",
    "                    L[i, j] = sum_ / L[j, j]\n",
    "    return L"
   ]
  },
  {
   "cell_type": "markdown",
   "metadata": {},
   "source": [
    "## Wenden Sie Ihre Routine an, um die Choleksy-Zerlegung von A zu berechnen, und lassen Sie die Matrix L ausgeben."
   ]
  },
  {
   "cell_type": "code",
   "execution_count": 6,
   "metadata": {},
   "outputs": [
    {
     "name": "stdout",
     "output_type": "stream",
     "text": [
      "L=\n",
      " 2.00 0.00  0.00 0.00 0.00 0.00 \n",
      " 1.00 1.73  0.00 0.00 0.00 0.00 \n",
      "-0.50 0.87  2.00 0.00 0.00 0.00 \n",
      " 0.00 0.58  1.25 1.45 0.00 0.00 \n",
      " 0.00 0.00 -0.50 1.19 0.86 0.00 \n",
      " 0.00 0.58  0.75 0.85 0.43 1.10 \n"
     ]
    }
   ],
   "source": [
    "L = cholesky(A)\n",
    "print(\"L=\")\n",
    "matprint(L, fmt='.2f')"
   ]
  },
  {
   "cell_type": "markdown",
   "metadata": {},
   "source": [
    "## Überprüfen Sie die Zerlegung, indem Sie die Frobenius-Norm (norm(A,’fro’)) des Residuums R = A − LL T auswerten und auf der Konsole ausgeben lassen."
   ]
  },
  {
   "cell_type": "code",
   "execution_count": 7,
   "metadata": {},
   "outputs": [
    {
     "name": "stdout",
     "output_type": "stream",
     "text": [
      "||R||2 = 4.441e-16\n"
     ]
    }
   ],
   "source": [
    "R = A - np.dot(L, L.T)\n",
    "print(\"||R||2 = {:.3e}\".format(la.norm(R, 'fro')))"
   ]
  },
  {
   "cell_type": "markdown",
   "metadata": {},
   "source": [
    "## (c) Lösen Sie das Gleichungssystem Ax = LL T x = y durch Vorwärts-Rückwärtseinsetzen:"
   ]
  },
  {
   "cell_type": "code",
   "execution_count": 8,
   "metadata": {},
   "outputs": [],
   "source": [
    "def forwardsubs(lower, rhs):\n",
    "    \"Solve y in Ly=b with lower triangular matrix L\"\n",
    "    N = len(rhs)\n",
    "    y = zeros(N)\n",
    "    for n in range(N):\n",
    "        y[n] = (rhs[n] - sum([lower[n, i]*y[i] for i in range(n)]))/lower[n, n]\n",
    "    return y\n",
    "\n",
    "\n",
    "def backwardsubs(upper, rhs):\n",
    "    \"Solve x in Rx=y with upper triangular matrix R\"\n",
    "    N = len(rhs)\n",
    "    x = zeros(N)\n",
    "    for n in reversed(range(N)):\n",
    "        x[n] = (rhs[n] - sum([upper[n, i]*x[i]\n",
    "                              for i in reversed(range(n, N))]))/upper[n, n]\n",
    "    return x"
   ]
  },
  {
   "cell_type": "markdown",
   "metadata": {},
   "source": [
    "## (d) Testen Sie Ihr Programm mit der rechten Seite y = (1, −1, 5, 7, 6, −3) T . Berechnen Sie das Residuum r = Ax − y, sowie ||r||1 , ||r||2 und ||r||∞ ."
   ]
  },
  {
   "cell_type": "code",
   "execution_count": 9,
   "metadata": {},
   "outputs": [
    {
     "name": "stdout",
     "output_type": "stream",
     "text": [
      "x=[ 2.9   -1.329  7.942 -1.818  9.812 -7.607]\n"
     ]
    }
   ],
   "source": [
    "b = np.array([1, -1, 5, 7, 6, -3])\n",
    "L = cholesky(A)\n",
    "y = forwardsubs(L, b)\n",
    "x = backwardsubs(L.T, y)\n",
    "with np.printoptions(precision=3):\n",
    "    print(\"x={}\".format(x))"
   ]
  },
  {
   "cell_type": "code",
   "execution_count": 10,
   "metadata": {},
   "outputs": [
    {
     "name": "stdout",
     "output_type": "stream",
     "text": [
      "r=[ 8.882e-16  0.000e+00 -7.105e-15  0.000e+00  1.776e-15 -3.553e-15]\n"
     ]
    }
   ],
   "source": [
    "r = np.dot(A, x) - b\n",
    "with np.printoptions(precision=3):\n",
    "    print(\"r={}\".format(r))"
   ]
  },
  {
   "cell_type": "code",
   "execution_count": 11,
   "metadata": {},
   "outputs": [
    {
     "name": "stdout",
     "output_type": "stream",
     "text": [
      "||r||1   = 1.332e-14\n",
      "||r||2   = 8.189e-15\n",
      "||r||inf = 7.105e-15\n"
     ]
    }
   ],
   "source": [
    "print(\"||r||1   = {:.3e}\".format(la.norm(r, 1)))\n",
    "print(\"||r||2   = {:.3e}\".format(la.norm(r, 2)))\n",
    "print(\"||r||inf = {:.3e}\".format(la.norm(r, np.inf)))"
   ]
  }
 ],
 "metadata": {
  "kernelspec": {
   "display_name": "Python 3",
   "language": "python",
   "name": "python3"
  },
  "language_info": {
   "codemirror_mode": {
    "name": "ipython",
    "version": 3
   },
   "file_extension": ".py",
   "mimetype": "text/x-python",
   "name": "python",
   "nbconvert_exporter": "python",
   "pygments_lexer": "ipython3",
   "version": "3.6.6"
  },
  "toc": {
   "base_numbering": 1,
   "nav_menu": {},
   "number_sections": true,
   "sideBar": true,
   "skip_h1_title": false,
   "title_cell": "Table of Contents",
   "title_sidebar": "Contents",
   "toc_cell": false,
   "toc_position": {},
   "toc_section_display": true,
   "toc_window_display": false
  }
 },
 "nbformat": 4,
 "nbformat_minor": 2
}
