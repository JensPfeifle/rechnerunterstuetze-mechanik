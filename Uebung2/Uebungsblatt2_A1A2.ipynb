{
 "cells": [
  {
   "cell_type": "markdown",
   "metadata": {},
   "source": [
    "# Übungsblatt 2"
   ]
  },
  {
   "cell_type": "markdown",
   "metadata": {},
   "source": [
    "## Aufgabe 1"
   ]
  },
  {
   "cell_type": "code",
   "execution_count": 47,
   "metadata": {},
   "outputs": [],
   "source": [
    "import numpy as np\n",
    "import numpy.linalg as la\n",
    "import scipy.linalg as scla"
   ]
  },
  {
   "cell_type": "markdown",
   "metadata": {},
   "source": [
    "### a)"
   ]
  },
  {
   "cell_type": "code",
   "execution_count": 48,
   "metadata": {},
   "outputs": [],
   "source": [
    "def matrixproperties(a):\n",
    "    print(\"detA = \" + str(la.det(A)))\n",
    "    print(\"rgA = \" + str(la.matrix_rank(A)))\n",
    "    print(\"symA = \\n\" + str(1/2*(A + A.T)))\n",
    "    print(\"skwA = \\n\" + str(1/2*(A - A.T)))\n",
    "    print(\"trA = \" + str(np.trace(A)))\n",
    "    print(\"eigA = \" + str(la.eig(A)))"
   ]
  },
  {
   "cell_type": "code",
   "execution_count": 49,
   "metadata": {},
   "outputs": [
    {
     "name": "stdout",
     "output_type": "stream",
     "text": [
      "[[1 2 3]\n",
      " [4 5 6]\n",
      " [7 8 9]]\n"
     ]
    }
   ],
   "source": [
    "A = np.array([[1,2,3],[4,5,6],[7,8,9]])\n",
    "print (A)"
   ]
  },
  {
   "cell_type": "code",
   "execution_count": 50,
   "metadata": {},
   "outputs": [
    {
     "name": "stdout",
     "output_type": "stream",
     "text": [
      "detA = 0.0\n",
      "rgA = 2\n",
      "symA = \n",
      "[[ 1.  3.  5.]\n",
      " [ 3.  5.  7.]\n",
      " [ 5.  7.  9.]]\n",
      "skwA = \n",
      "[[ 0. -1. -2.]\n",
      " [ 1.  0. -1.]\n",
      " [ 2.  1.  0.]]\n",
      "trA = 15\n",
      "eigA = (array([  1.61168440e+01,  -1.11684397e+00,  -1.30367773e-15]), array([[-0.23197069, -0.78583024,  0.40824829],\n",
      "       [-0.52532209, -0.08675134, -0.81649658],\n",
      "       [-0.8186735 ,  0.61232756,  0.40824829]]))\n"
     ]
    }
   ],
   "source": [
    "matrixproperties(A)"
   ]
  },
  {
   "cell_type": "markdown",
   "metadata": {},
   "source": [
    "### b)"
   ]
  },
  {
   "cell_type": "code",
   "execution_count": 51,
   "metadata": {},
   "outputs": [
    {
     "name": "stdout",
     "output_type": "stream",
     "text": [
      "[[ 1  2  3]\n",
      " [ 4  5  6]\n",
      " [ 7  8 10]]\n"
     ]
    }
   ],
   "source": [
    "A[2,2] = 10\n",
    "print(A)"
   ]
  },
  {
   "cell_type": "code",
   "execution_count": 52,
   "metadata": {},
   "outputs": [
    {
     "name": "stdout",
     "output_type": "stream",
     "text": [
      "detA = -3.0\n",
      "rgA = 3\n",
      "symA = \n",
      "[[  1.   3.   5.]\n",
      " [  3.   5.   7.]\n",
      " [  5.   7.  10.]]\n",
      "skwA = \n",
      "[[ 0. -1. -2.]\n",
      " [ 1.  0. -1.]\n",
      " [ 2.  1.  0.]]\n",
      "trA = 16\n",
      "eigA = (array([ 16.70749332,  -0.90574018,   0.19824686]), array([[-0.22351336, -0.86584578,  0.27829649],\n",
      "       [-0.50394563,  0.0856512 , -0.8318468 ],\n",
      "       [-0.83431444,  0.4929249 ,  0.48018951]]))\n"
     ]
    }
   ],
   "source": [
    "matrixproperties(A)"
   ]
  },
  {
   "cell_type": "markdown",
   "metadata": {},
   "source": [
    "#### Die Schiefsymmetrischen Anteile sind unverändert."
   ]
  },
  {
   "cell_type": "markdown",
   "metadata": {},
   "source": [
    "## Aufgabe 2"
   ]
  },
  {
   "cell_type": "markdown",
   "metadata": {},
   "source": [
    "### a)"
   ]
  },
  {
   "cell_type": "code",
   "execution_count": 53,
   "metadata": {},
   "outputs": [],
   "source": [
    "def vectornorm(v,p):\n",
    "    d = np.size(v)\n",
    "    \n",
    "    if p == 1:\n",
    "        return sum(v)\n",
    "    \n",
    "    elif p == np.inf:\n",
    "        return max(v)\n",
    "    \n",
    "    elif p == 2:\n",
    "        return (sum(x**2))**(1/2)\n",
    "        \n",
    "    else:\n",
    "        n = 0\n",
    "        for i in range(0,d):\n",
    "             n = n + abs(v[i])**p\n",
    "        return n**(1/p)\n"
   ]
  },
  {
   "cell_type": "code",
   "execution_count": 54,
   "metadata": {},
   "outputs": [],
   "source": [
    "x = np.random.rand(5)"
   ]
  },
  {
   "cell_type": "code",
   "execution_count": 55,
   "metadata": {},
   "outputs": [
    {
     "name": "stdout",
     "output_type": "stream",
     "text": [
      "[ 0.22227714  0.8622473   0.12935201  0.04301711  0.57587061]\n",
      "1.83276416598\n",
      "0.862247300528\n",
      "1.06915242406\n",
      "0.928627530367\n",
      "0.903189158362\n"
     ]
    }
   ],
   "source": [
    "print(x)\n",
    "print(vectornorm(x,1))\n",
    "print(vectornorm(x,np.inf))\n",
    "print(vectornorm(x,2))\n",
    "print(vectornorm(x,3.3))\n",
    "print(vectornorm(x,4))"
   ]
  },
  {
   "cell_type": "markdown",
   "metadata": {},
   "source": [
    "### b)"
   ]
  },
  {
   "cell_type": "code",
   "execution_count": 56,
   "metadata": {},
   "outputs": [
    {
     "name": "stdout",
     "output_type": "stream",
     "text": [
      "Loaded (10, 10) matrix\n"
     ]
    }
   ],
   "source": [
    "matrix = np.loadtxt('matrix.dat')\n",
    "print (\"Loaded {} matrix\".format(np.shape(matrix)))"
   ]
  },
  {
   "cell_type": "code",
   "execution_count": 57,
   "metadata": {},
   "outputs": [
    {
     "name": "stdout",
     "output_type": "stream",
     "text": [
      "93.8037709704\n",
      "46.2730810944\n",
      "93.0672000955\n"
     ]
    }
   ],
   "source": [
    "print(la.cond(matrix,p=1))\n",
    "print(la.cond(matrix,p=2))\n",
    "print(la.cond(matrix,p=np.inf))"
   ]
  },
  {
   "cell_type": "markdown",
   "metadata": {},
   "source": [
    "## Aufgabe 3"
   ]
  },
  {
   "cell_type": "code",
   "execution_count": 63,
   "metadata": {},
   "outputs": [
    {
     "name": "stdout",
     "output_type": "stream",
     "text": [
      "L:\n",
      "[[ 1.          0.          0.          0.          0.        ]\n",
      " [-1.          1.          0.          0.          0.        ]\n",
      " [-0.2        -0.0375      1.          0.          0.        ]\n",
      " [ 0.6        -0.06666667 -0.61275139  1.          0.        ]\n",
      " [ 0.075       0.10625     0.17650834  0.17100563  1.        ]]\n",
      "U:\n",
      "[[ 1.          2.          0.5         0.         -2.        ]\n",
      " [ 0.          8.          1.7         3.4        -2.1       ]\n",
      " [ 0.          0.          0.97375     4.1275      4.52125   ]\n",
      " [ 0.          0.          0.          3.75579803  4.90040223]\n",
      " [ 0.          0.          0.          0.         -1.26290973]]\n",
      "P:\n",
      "[[ 1.  0.  0.  0.  0.]\n",
      " [ 0.  1.  0.  0.  0.]\n",
      " [ 0.  0.  0.  0.  1.]\n",
      " [ 0.  0.  0.  1.  0.]\n",
      " [ 0.  0.  1.  0.  0.]]\n"
     ]
    }
   ],
   "source": [
    "from scipy.linalg import lu,lu_factor,lu_solve\n",
    "A = np.array([[1,2,0.5,0,-2],[-1,6,1.2,3.4,-0.1],[0.075,1,0.39,np.sqrt(3),0],[0.6,2/3,-0.41,1,1.07],[-0.2,-0.7,0.81,4,5]])\n",
    "P,L,U = lu(A)\n",
    "print (\"L:\")\n",
    "print (L)\n",
    "print (\"U:\")\n",
    "print (U)\n",
    "print (\"P:\")\n",
    "print (P)"
   ]
  },
  {
   "cell_type": "code",
   "execution_count": 62,
   "metadata": {},
   "outputs": [
    {
     "data": {
      "text/plain": [
       "array([[-3.28474431],\n",
       "       [-0.08266294],\n",
       "       [-5.18722241],\n",
       "       [ 1.87756357],\n",
       "       [-0.5218407 ]])"
      ]
     },
     "execution_count": 62,
     "metadata": {},
     "output_type": "execute_result"
    }
   ],
   "source": [
    "lu = lu_factor(A)\n",
    "lu_solve(lu,v)"
   ]
  },
  {
   "cell_type": "code",
   "execution_count": null,
   "metadata": {},
   "outputs": [],
   "source": []
  }
 ],
 "metadata": {
  "kernelspec": {
   "display_name": "Python 3",
   "language": "python",
   "name": "python3"
  },
  "language_info": {
   "codemirror_mode": {
    "name": "ipython",
    "version": 3
   },
   "file_extension": ".py",
   "mimetype": "text/x-python",
   "name": "python",
   "nbconvert_exporter": "python",
   "pygments_lexer": "ipython3",
   "version": "3.5.2"
  }
 },
 "nbformat": 4,
 "nbformat_minor": 2
}
