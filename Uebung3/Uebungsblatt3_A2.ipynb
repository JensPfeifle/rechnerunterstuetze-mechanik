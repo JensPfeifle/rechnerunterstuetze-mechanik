{
 "cells": [
  {
   "cell_type": "markdown",
   "metadata": {},
   "source": [
    "# Uebungsblatt 3 - Aufgabe 2"
   ]
  },
  {
   "cell_type": "code",
   "execution_count": 43,
   "metadata": {
    "collapsed": true
   },
   "outputs": [],
   "source": [
    "%reset -fs\n",
    "import numpy as np\n",
    "import numpy.linalg as la\n",
    "import scipy.sparse as sp\n",
    "import matplotlib.pyplot as plt\n",
    "\n",
    "# for import of MAT files\n",
    "import scipy.io\n",
    "import os"
   ]
  },
  {
   "cell_type": "markdown",
   "metadata": {},
   "source": [
    "### Load sparse matrix from file into scipy csc_matrix data type"
   ]
  },
  {
   "cell_type": "code",
   "execution_count": 44,
   "metadata": {
    "collapsed": true
   },
   "outputs": [],
   "source": [
    "path_to_file = os.path.join('Vorlagen','sparse_matrix.dat')\n",
    "file_contents = scipy.io.loadmat(path_to_file)\n",
    "matrix = file_contents['west0479']"
   ]
  },
  {
   "cell_type": "code",
   "execution_count": 45,
   "metadata": {
    "collapsed": true
   },
   "outputs": [],
   "source": [
    "B = matrix.dot(matrix.T)"
   ]
  },
  {
   "cell_type": "code",
   "execution_count": 46,
   "metadata": {},
   "outputs": [
    {
     "data": {
      "image/png": "[encoded data removed]",
      "text/plain": [
       "<matplotlib.figure.Figure at 0x7f013a7eda20>"
      ]
     },
     "metadata": {},
     "output_type": "display_data"
    }
   ],
   "source": [
    "plt.spy(B,precision=0.01,markersize=1)\n",
    "plt.show()"
   ]
  },
  {
   "cell_type": "code",
   "execution_count": 47,
   "metadata": {},
   "outputs": [
    {
     "name": "stdout",
     "output_type": "stream",
     "text": [
      "x= [-0.1   0.25  0.3 ]\n"
     ]
    }
   ],
   "source": [
    "A = np.array([[4,2,3],[3,8,1],[1,2,2]])\n",
    "y = [1,2,1]\n",
    "x = la.inv(A).dot(y)\n",
    "print(\"x=\",x)"
   ]
  },
  {
   "cell_type": "markdown",
   "metadata": {},
   "source": [
    "### Test: sum over list vs. dot produkt"
   ]
  },
  {
   "cell_type": "code",
   "execution_count": 48,
   "metadata": {
    "collapsed": true
   },
   "outputs": [],
   "source": [
    "i = 500\n",
    "A = np.random.rand(25000,25000)\n",
    "x = np.random.rand(25000)\n",
    "#%timeit sum([A[i,j]*x[j] for j in range(0,i)])"
   ]
  },
  {
   "cell_type": "code",
   "execution_count": 49,
   "metadata": {
    "collapsed": true
   },
   "outputs": [],
   "source": [
    "i = 500\n",
    "#%timeit A[i,0:i].dot(x[0:i])"
   ]
  },
  {
   "cell_type": "markdown",
   "metadata": {},
   "source": [
    "###### --> Use dot product"
   ]
  },
  {
   "cell_type": "markdown",
   "metadata": {},
   "source": [
    "### Gauss-Seidel Algorithmus"
   ]
  },
  {
   "cell_type": "code",
   "execution_count": 67,
   "metadata": {
    "collapsed": true
   },
   "outputs": [],
   "source": [
    "def Gauss_Seidel(A,y):\n",
    "    \n",
    "    MAX_ITER = 100\n",
    "    EPSILON = 10e-8\n",
    "    \n",
    "    N = A.shape[0]\n",
    "    x = np.zeros(N)\n",
    "    n = 1\n",
    "    e = 0\n",
    "      \n",
    "    while (n < MAX_ITER):\n",
    "        x_neu = np.zeros(N)\n",
    "        #print(\"x=\",x)\n",
    "        for i in range(0,N):\n",
    "            x_neu[i] = y[i] - A[i,0:i].dot(x_neu[0:i]) - A[i,i+1:N].dot(x[i+1:N])\n",
    "            x_neu[i] = x_neu[i]/A[i,i]\n",
    "           \n",
    "        e = la.norm(A.dot(x_neu) - y,2)/la.norm(y,2)\n",
    "              \n",
    "        if (e < EPSILON):\n",
    "            return x_neu, e, n\n",
    "        \n",
    "        x, x_neu = x_neu, x\n",
    "        n = n + 1\n",
    "        #print('---')\n",
    "        #print(\"x = \",x)\n",
    "        #print(\"x_neu = \", x_neu)\n",
    "        #print(\"Ax = \",A.dot(x))\n",
    "    \n",
    "    print(\"Error, too many iterations.\")\n",
    "    return x,e,n"
   ]
  },
  {
   "cell_type": "markdown",
   "metadata": {},
   "source": [
    "### Test on small Matrix A"
   ]
  },
  {
   "cell_type": "code",
   "execution_count": 68,
   "metadata": {
    "scrolled": false
   },
   "outputs": [
    {
     "name": "stdout",
     "output_type": "stream",
     "text": [
      "[[ 2.  2.  3.]\n",
      " [ 3.  4.  1.]\n",
      " [ 1.  2.  1.]]\n",
      "[ 1.  2.  3.]\n",
      "Soll: x =  [-3.33333333  2.83333333  0.66666667]\n",
      "Ist:  x =  [-3.33333331  2.83333329  0.66666672]\n",
      "      e =  3.71996464842e-08\n",
      "      n =  26\n"
     ]
    }
   ],
   "source": [
    "A = np.array([[2.,2.,3.],[3.,4.,1.],[1.,2.,1.]])\n",
    "#A = 5*np.random.rand(3,3)\n",
    "y = np.array([1.,2.,3.])\n",
    "print(A)\n",
    "print(y)\n",
    "print(\"Soll: x = \",la.inv(A).dot(y))\n",
    "a,b,c = Gauss_Seidel(A,y)\n",
    "print(\"Ist:  x = \",a)\n",
    "print(\"      e = \",b)\n",
    "print(\"      n = \",c)"
   ]
  },
  {
   "cell_type": "markdown",
   "metadata": {},
   "source": [
    "###  Test on large (sparse) Matrix B"
   ]
  },
  {
   "cell_type": "code",
   "execution_count": 75,
   "metadata": {
    "scrolled": true
   },
   "outputs": [
    {
     "name": "stdout",
     "output_type": "stream",
     "text": [
      "Soll: x =  [ -3.59942536e+06   7.33267947e+03   4.54402221e+03   2.72077893e+03\n",
      "   2.70653647e+03  -5.43231941e+02   5.40988648e+01  -4.09902077e+05\n",
      "  -1.92010593e+05  -3.24412031e+05   2.31262031e+10   1.39374743e+10\n",
      "   9.32030595e+09  -3.87371548e+05  -5.13168681e+05  -4.84357157e+05\n",
      "  -2.13798936e+06   4.67359752e+10  -2.83466477e+05   1.16138304e+05\n",
      "   6.12271300e+08  -1.39774260e+06  -2.42329610e+05  -3.02713612e+10\n",
      "   2.08977933e+05   4.68277850e+05   1.07917823e+05   3.73011525e+04\n",
      "   1.99244621e+06   1.23440758e+06   1.32209457e+06   4.94438151e+02\n",
      "   4.83045326e+02   6.38255122e+02   3.07898357e+02  -1.64184331e+03\n",
      "   7.27237950e+02   6.12275782e+02   4.40821947e+02   8.23155698e+02\n",
      "   1.16945554e+04   5.82337572e+03   7.65059141e+02   1.38327517e+06\n",
      "   2.26725574e+00  -3.46558665e-01  -1.56732752e+01   6.38665894e-04\n",
      "   3.43378129e+00   2.43755432e+01  -1.66161031e+02  -8.41718905e+02\n",
      "  -8.88125126e+03   1.25836726e+07   1.89120139e+07   3.15622388e+07\n",
      "  -6.79660804e+02  -2.25011628e+03  -5.30628358e+03  -1.81254910e+04\n",
      "   6.32033831e+07  -7.71313754e+03   7.33047514e+01   1.78961465e+05\n",
      "  -1.00579622e+04  -3.31977993e+03  -1.69716588e+08   8.61962081e+02\n",
      "   1.38406597e+03   6.24406642e+03   1.53374449e+02   1.61339737e+04\n",
      "   5.62127772e+04   3.77696789e+06  -3.21976019e+02  -3.51948079e+02\n",
      "  -5.29893400e+02  -1.85064744e+02   3.60302318e+02  -9.26256107e+00\n",
      "  -1.92736279e+01  -1.14703909e+01  -3.09846118e+02  -3.47964687e+02\n",
      "  -1.23446979e+02  -3.06315990e-01   4.62478791e+05   1.16629799e+06\n",
      "   7.11068464e+04  -6.05146407e+05  -8.13825348e+05   3.03669105e+04\n",
      "  -2.89789929e+06  -2.49127392e+06  -7.47713525e+05   2.83978290e+06\n",
      "   1.30339046e+06  -2.38835587e+05   2.85981900e+00  -6.17217774e+02\n",
      "   3.96129947e+02  -1.75391594e+03  -8.81270364e+03   8.88700150e+01\n",
      "  -8.91797066e+02   9.39914282e+04  -2.20134152e+05   7.57127348e+05\n",
      "   1.85813718e+06  -6.83744793e+04   2.62530546e+03   2.10954133e+03\n",
      "   6.49606254e+02  -5.09536039e+02   1.03773438e+03  -9.45312196e+02\n",
      "  -6.37355955e+03  -3.54190337e+03  -3.44623994e+03   4.81989989e+03\n",
      "   1.57241979e+03   7.42382104e+03  -8.51388899e+01  -1.92328017e+02\n",
      "  -1.11870788e+02  -2.25463895e+01  -1.49873415e+02  -4.44469717e+01\n",
      "   1.25795092e+03   2.23827173e+03   3.60693079e+03   3.90527379e+02\n",
      "   1.67547569e+03   1.40149855e+03  -5.03503084e+04  -2.52005647e+05\n",
      "  -4.17813136e+04   9.64918258e+03   4.82216734e+04   2.12960981e+06\n",
      "  -2.17392589e+04  -3.24647237e+03  -2.58303083e+04   6.50817225e+03\n",
      "   1.82894101e+03   4.14247462e+04  -4.47652357e+04   1.19869555e+04\n",
      "   3.31976030e+04   2.37783659e+03   1.06631405e+03   2.52945362e+03\n",
      "   1.41766430e+02  -1.23341025e+04  -3.37918083e+04  -3.55323984e+03\n",
      "   7.90144166e+07   5.04121037e+04   4.03714727e+05   1.16201513e+03\n",
      "   4.68241376e+03   7.58288518e+02  -6.02627788e+02  -2.07600980e+03\n",
      "  -3.13994750e+02   1.23036426e+04   3.56529843e+04   2.90310534e+03\n",
      "  -9.30587946e+03   1.97948768e+03   7.32718870e+03   1.19865502e+04\n",
      "   3.31974562e+04   2.37780390e+03   1.19867048e+04   3.31975398e+04\n",
      "   2.37790846e+03  -1.19868067e+04  -3.31975294e+04  -2.37787154e+03\n",
      "  -1.60463777e+05   1.68380435e+04   4.72056358e+04   2.11721115e+05\n",
      "   1.37148526e+03   3.29024458e+03   1.09551512e+04  -2.15934131e+04\n",
      "  -5.49754219e+04  -2.25924318e+05   2.93070447e+08   2.87954044e+05\n",
      "   2.28253200e+06   4.36597867e+03   6.87614664e+03   3.46708427e+04\n",
      "  -4.72081367e+02  -1.66689795e+03  -1.54843995e+04   1.66904125e+04\n",
      "   4.81492981e+04   2.31040307e+05  -1.58905070e+04  -3.53426850e+04\n",
      "   5.12339323e+04   1.68379039e+04   4.72054133e+04   2.11721097e+05\n",
      "   1.68379766e+04   4.72055278e+04   2.11721191e+05  -1.68379147e+04\n",
      "  -4.72055730e+04  -2.11721165e+05   1.22530015e+01   2.58212602e+01\n",
      "   4.70683742e+01  -9.52359287e+00  -2.14641711e+01  -5.64957176e+01\n",
      "   4.46242029e+02   2.01436021e+03   1.60010643e+04   2.37070492e+07\n",
      "   5.97872159e+07   9.28468382e+06   2.01895392e+03   5.11725622e+03\n",
      "   1.53088552e+04  -5.01855872e+03   1.34515501e+08   5.51549636e+03\n",
      "  -5.93446289e+01  -1.30775811e+05   1.54522880e+04  -1.04345902e+04\n",
      "   5.07839826e+03  -3.62007350e+03  -8.25547155e+03   6.32284889e+05\n",
      "   1.90771467e+06  -1.14914966e+06   4.21211544e+06  -1.32135558e+06\n",
      "   1.02669501e+05   2.06133383e+04  -4.75618958e+04   9.63547757e+03\n",
      "   6.27716230e+02  -4.28464532e+03   7.26759455e+02   5.74156630e+04\n",
      "   1.92965770e+06  -1.16487605e+06   4.30210222e+06  -2.55259374e+05\n",
      "   4.47124078e+03  -2.69481942e+04   3.09366194e-01  -3.01599887e+03\n",
      "   5.62506820e+01   1.03871669e+04   5.89164802e+02  -1.49869012e+04\n",
      "  -6.39156921e+00   4.96539190e+03  -1.31587785e+03  -3.79953372e+02\n",
      "  -9.86654516e+02   3.69137832e+02   1.17104482e+04  -4.72890815e+03\n",
      "   4.26629932e+03   9.70363496e+04   2.01470315e+06  -1.22027239e+06\n",
      "   4.55618763e+06  -1.60196777e+05   7.93325317e+03  -2.69475846e+04\n",
      "   3.19187429e-01  -7.40421882e+05   2.83385018e+03   3.42449416e+05\n",
      "   7.42927201e+02  -3.10160827e+04  -3.38395319e+01   3.97422200e+03\n",
      "  -2.89100590e+04  -1.02900757e+03  -8.07017646e+02   3.52446514e+03\n",
      "   1.97926211e+04  -1.16682555e+04  -5.45724023e+04   1.02963753e+05\n",
      "   6.51166774e+06  -3.96882063e+06   1.23822755e+07  -4.89865064e+05\n",
      "   3.85842032e+05  -2.69470201e+04   2.29167626e-01   4.09794550e+04\n",
      "  -4.73152525e+04   2.41004603e+04   7.43744388e+02  -1.52498195e+06\n",
      "  -2.04280205e+01   9.80380364e+03   3.74454356e+05  -1.05977086e+03\n",
      "  -1.98815708e+03  -4.54298209e+04   2.10027159e+04  -5.89581297e+03\n",
      "  -2.21424309e+03   2.51982941e+05   6.75136641e+06  -4.11754873e+06\n",
      "   1.30549435e+07  -5.06895801e+05   2.10251197e+04  -2.69465839e+04\n",
      "   2.27125989e-01  -2.74040754e+03  -2.69447546e+03   1.59690804e+04\n",
      "   6.99524685e+02  -8.31667886e+04  -1.82276828e+01   5.15700134e+03\n",
      "   1.67158580e+04  -2.66666236e+03  -1.04063062e+03  -1.93600713e+03\n",
      "   5.15517867e+04   8.39939436e+03   1.13568769e+03   1.59480797e+05\n",
      "   6.88975049e+06  -4.20033405e+06   1.34374185e+07  -5.24110412e+05\n",
      "   1.22558129e+04  -2.69461762e+04   1.06676822e-01   1.36723600e+04\n",
      "   2.39772116e+03  -4.45795457e+04  -9.87420681e+02  -4.90284982e+04\n",
      "   3.22533447e+01  -1.66339552e+03   1.80699898e+04  -6.06951055e+02\n",
      "   4.74461890e+02  -6.30091427e+02   3.67967588e+04   1.44870955e+04\n",
      "   7.22933803e+04  -2.33699507e+05   6.31260675e+06  -3.85100699e+06\n",
      "   1.21601802e+07  -7.73683036e+05  -2.57971332e+04  -2.69459809e+04\n",
      "   3.50200080e-02  -3.46245870e+04   5.53989981e+04  -5.09395297e+05\n",
      "  -5.62410218e+03   7.47773473e+04  -7.63260016e+02   4.97726656e+04\n",
      "  -1.23874347e+05   7.31604219e+04  -1.00220730e+04   3.78016733e+04\n",
      "  -1.57194088e+05  -2.92482488e+04  -7.57306005e+04  -6.43567074e+05\n",
      "   5.18331722e+06  -2.91758078e+06   9.39950070e+06  -4.28346179e+06\n",
      "  -4.00518879e+04  -6.96758047e+03  -2.77422187e+05   1.80884345e+05\n",
      "  -8.27803269e+03   2.72037102e+04   6.31552194e+01   6.75529316e+01\n",
      "  -1.97533696e-01  -7.55307070e+01  -8.33658739e+01   9.49212827e-02\n",
      "   3.92012796e+03   7.72617031e+03   5.99943378e-01   7.97843272e+06\n",
      "   1.15077022e+06  -5.55443701e+05   1.00956891e+04   3.41056342e+02\n",
      "   4.38847565e+02   1.59185788e+04   1.95989545e+07   8.29936585e+03\n",
      "  -1.12401015e+02  -1.64576190e+05   1.34451197e+04   6.25855897e+03\n",
      "   2.82846862e+08  -8.49371998e+04  -2.41705962e+05   4.42521979e+03\n",
      "  -2.34709163e+02  -1.62565109e+04  -1.69290403e+05  -5.34124625e+05\n",
      "  -1.70913432e+02   7.72734913e+02  -1.46845179e+03  -2.20023665e+05\n",
      "  -1.92151330e+02   8.60625370e+01  -1.58243740e+02  -7.56131510e+01\n",
      "  -1.82660477e+02  -2.35829442e+02  -2.79091322e+02   7.99200519e+01\n",
      "   1.73474202e+06  -3.65354707e+01  -3.18682779e+02  -1.97989227e+02\n",
      "   1.79653699e+01   1.51792210e+02  -5.14425227e+03   5.94141074e+00\n",
      "   1.35302168e+03   2.52340275e+06  -1.09537279e+08  -1.37469331e+09\n",
      "  -3.05177621e+10   1.32196071e+02   5.76079734e+03   1.13354836e+05\n",
      "   2.64399721e+06  -3.20488222e+10   6.14793908e+05  -8.28847123e+04\n",
      "  -1.49043488e+09   1.54378432e+06   2.54595431e+05   1.87946275e+10\n",
      "  -1.59180109e+04  -3.61361252e+04  -9.34382919e+04  -2.35940905e+04\n",
      "  -2.27907368e+06  -1.35241270e+06  -6.25171762e+06  -4.65631956e+01\n",
      "   1.93154885e+04   4.27614728e+04  -9.32149045e+02  -1.16734018e+05\n",
      "   1.36743283e+04   1.35413994e+04   1.33507015e+04   1.04882688e+02\n",
      "   6.91126955e+03   3.83685730e+02  -1.12697383e+02]\n"
     ]
    }
   ],
   "source": [
    "N = B.shape[0]\n",
    "Bmult = 1000*np.eye(N)*B\n",
    "y = 100*np.random.rand(N)\n",
    "Binv = la.inv(Bmult)\n",
    "print(\"Soll: x = \",Binv.dot(y))\n",
    "#B = 2*np.eye(N)*B"
   ]
  },
  {
   "cell_type": "markdown",
   "metadata": {},
   "source": [
    "### Test for convergence of Gauss-Seidel Method:\n",
    "#### Linear convergence for -(D+L)⁻¹U < 1"
   ]
  },
  {
   "cell_type": "code",
   "execution_count": 76,
   "metadata": {},
   "outputs": [
    {
     "name": "stdout",
     "output_type": "stream",
     "text": [
      "||T||2 =  316919.6033\n"
     ]
    }
   ],
   "source": [
    "#Split\n",
    "\n",
    "tosplit = Bmult\n",
    "N = tosplit.shape[0]\n",
    "D=np.zeros([N,N])\n",
    "L=np.zeros([N,N])\n",
    "U=np.zeros([N,N])\n",
    "for i in range(0,N):\n",
    "    for j in range(0,N):\n",
    "        if i==j:\n",
    "            D[i,j] = tosplit[i,j]\n",
    "        if i>j:\n",
    "            L[i,j] = tosplit[i,j]\n",
    "        if i<j:\n",
    "            U[i,j] = tosplit[i,j]\n",
    "T = -1*la.inv(D+L).dot(U)\n",
    "print(\"||T||2 = \",la.norm(T,2))\n"
   ]
  },
  {
   "cell_type": "code",
   "execution_count": 54,
   "metadata": {
    "scrolled": true
   },
   "outputs": [
    {
     "name": "stdout",
     "output_type": "stream",
     "text": [
      "Error, too many iterations.\n",
      "e =  19444.8188712\n",
      "n =  100\n",
      "x =  [  2.24901674e+01   2.33580905e-02   1.66016102e-03   1.71151648e-03\n",
      "  -2.89229738e-02  -1.97721054e-03  -2.10969087e-03   1.12325267e+00\n",
      "   1.33848229e-01   2.93781481e-01   1.53187503e+01   9.22702128e+00\n",
      "   6.27455051e+00   6.88455330e-01   3.74172316e-01   6.13065477e-01\n",
      "   1.45608317e+00   3.09859984e+01   5.49003305e-02   9.94265877e-05\n",
      "   7.02495034e+00  -1.79394382e-05  -3.67673727e-05   1.96270153e+01\n",
      "   6.65853575e-01   1.46989875e-02  -4.54120374e-01   9.03991954e-05\n",
      "   4.11934641e-03  -5.57176308e-04  -1.00188655e-01   2.77291428e-01\n",
      "   7.00968535e-01   3.64629973e+00  -2.06014422e-01   3.31782443e+00\n",
      "  -3.73121456e-01  -2.30350688e-01  -2.36510119e-01   9.17197021e-04\n",
      "   5.86950091e-08  -3.43473699e-01   2.32152446e-01   6.01757326e+00\n",
      "   3.78166184e-03   2.88294955e-03   1.68134225e-03  -4.64334606e-03\n",
      "  -3.54505459e-03  -2.06964639e-03   4.12247427e-01   5.48951297e-01\n",
      "   6.62680602e-01   5.52640366e+00   8.47258479e+00   1.36607164e+01\n",
      "   6.30662609e-02   4.34529922e-01   6.17339880e-01   1.04740872e+00\n",
      "   2.74949008e+01  -7.80432978e-03   8.78928173e-05   2.54900507e-01\n",
      "   1.06789446e-04  -4.19758264e-06   1.45861477e+01   2.98807159e-01\n",
      "   2.51765349e-01   1.52467975e-01   3.33423792e-04   3.49763105e-02\n",
      "  -3.11365311e-03   2.71675715e+00   4.08782978e-01   2.61942773e+00\n",
      "   2.23952336e+00  -6.28923916e-01  -1.32087442e+00   5.51262275e-02\n",
      "  -3.47501675e-02   4.30977750e-02   7.75174183e-04   1.47285551e-03\n",
      "   9.44341544e-03  -8.39952700e-02   8.78299096e-01  -7.39707092e-01\n",
      "  -2.31361489e-01  -1.17250360e+00   9.63931609e-01   5.46385799e-01\n",
      "  -5.47903966e+00   1.91661685e+00   2.46353872e+00   5.65687913e+00\n",
      "  -1.19475659e+00  -4.28031670e+00  -3.50777822e-03   8.81346771e-03\n",
      "  -6.28943143e-03  -2.53581572e-04  -2.07058817e-02   4.36623375e-03\n",
      "   1.10520836e+00  -1.35466072e+00   3.53495785e+00   1.10935435e-01\n",
      "   4.43268019e+00  -3.36955048e+00   3.13734150e-01  -3.27843962e-01\n",
      "  -7.35265968e-01  -1.91992977e-01  -3.16066982e-02   4.71359703e-01\n",
      "  -6.20514287e-01   1.22420754e+00   4.49931363e+00   7.26585722e-01\n",
      "  -1.40505491e-01  -3.42745484e+00   2.45226310e-02   1.83631600e-01\n",
      "   1.57094650e-02   1.19699010e-02  -1.40576076e-01  -1.22872496e-02\n",
      "  -8.66299471e-02  -1.81949914e+00  -5.02079070e-01  -2.16356191e-01\n",
      "   1.41499575e+00   3.80219131e-01   4.14823520e+00   5.13907493e+00\n",
      "  -1.45159564e+00  -7.37154754e-01   1.05547499e+00   1.69560305e+01\n",
      "  -5.95492900e-01  -2.62368093e+00  -3.73119491e+00   1.60950803e-01\n",
      "   4.46762557e-01   4.20702875e+00   4.00873017e-01  -1.14959102e+00\n",
      "  -1.64441378e+00   9.64927504e-03  -3.61661624e-02  -2.79691337e-02\n",
      "  -1.89880550e-03   4.23549692e-01   3.82559375e-01   5.65592327e-02\n",
      "   1.71901746e+01  -2.25630552e-01  -3.73921705e-01   1.73369564e+00\n",
      "   2.04623454e+00   1.56401524e+00   3.63294495e-03   1.04048033e-03\n",
      "   2.54966706e-03  -4.91057337e-01  -8.69920709e-01   6.04970381e-02\n",
      "   1.07136642e+00   1.66429717e+00  -9.72359873e-01  -8.74401567e-01\n",
      "  -1.77528865e+00   1.01275462e+00  -7.75246254e-01  -1.26555192e+00\n",
      "   1.05937406e+00   1.09294796e+00   1.62578778e+00  -3.20949872e-01\n",
      "   3.35438789e+00  -3.50393716e-02   2.15481371e-01  -3.86870572e-01\n",
      "  -2.80063046e-03   4.25337115e-03  -1.83697295e-03   4.53394331e-02\n",
      "  -7.07870361e-02   4.38412029e-02  -1.33786903e+01   2.64252410e-03\n",
      "  -2.19975755e-01   6.12454148e-01   5.34725681e-01   3.23502900e-01\n",
      "   7.07277934e-03  -8.43258310e-04   1.09775612e-03   1.72712719e-02\n",
      "   3.19211111e-01  -1.99891797e-01   2.03263422e-01   6.07395219e-01\n",
      "   2.59607332e+00   3.34352046e-01   1.52699288e-01  -1.48052903e+00\n",
      "   6.02558570e-01   5.63016485e-01  -8.01233387e-01  -1.30210780e-01\n",
      "  -2.84063712e-01   6.76447017e-01   1.26247796e-03   3.87005517e-03\n",
      "   1.45344627e-03  -1.48100128e-03  -4.74595992e-03  -1.78486753e-03\n",
      "   1.19209048e-01   6.63230923e-01   5.15441373e-01   4.54275834e+01\n",
      "   1.65750602e+01   1.47192090e+01   4.15875602e-01   6.68128764e-01\n",
      "   8.68829404e-01   6.72805396e-01   4.06431423e+01  -1.08801214e-02\n",
      "   1.28210071e-04   3.50478225e-01   1.31268441e-03  -5.61228030e-06\n",
      "   3.81325546e+01   6.03201014e-01   5.48121011e+00   4.38882349e+01\n",
      "  -2.17231312e+00   5.97923935e+00   2.13174840e+01  -5.99922847e-02\n",
      "   1.15384498e+00   3.29352791e+00   4.75625131e+00   3.50236501e-02\n",
      "  -2.72884091e-01   3.01272531e-01   8.69224340e-01  -9.91629188e+00\n",
      "   2.45881762e+00   6.53381111e+00   1.79194566e+01   1.16231092e-01\n",
      "   7.30667132e-01   9.82455730e+00   1.44511825e+00  -2.35652211e-01\n",
      "  -8.00547658e-01  -9.09569297e-02  -2.08946297e-01  -7.01169581e-01\n",
      "  -4.65824509e-01  -5.06157361e+00   4.55538767e+00   1.23612752e+00\n",
      "   9.01247886e-01   2.27425196e-01  -1.98433484e+00   4.45182922e-01\n",
      "   1.13418537e+00  -5.50230253e+00   5.62301306e+00   7.56618434e+00\n",
      "   1.48977342e+01   1.45827440e-01  -9.98574797e-03   1.26735500e+01\n",
      "   1.05751824e+00  -2.24180242e+00  -1.09840329e+00   1.97167407e-01\n",
      "  -3.94756549e-01  -4.74821631e-01   1.99741244e-01   4.53631425e+00\n",
      "  -4.92891209e+00   2.86095111e-01  -7.67184130e-01   8.82768745e-01\n",
      "  -1.11503092e+00   6.95241255e-02   1.23082856e+00  -8.94561058e+00\n",
      "   1.32874379e+01   4.65932730e+00   1.60673959e+01  -2.87427849e-01\n",
      "   2.74650647e-01   1.47852530e+01   1.12834642e+00  -6.96778503e-01\n",
      "  -8.59057451e-01   8.13250219e-02  -7.14146215e-02  -2.39921833e+00\n",
      "   6.23258253e-01   2.56793486e+00  -4.26816230e+00   1.71957832e+00\n",
      "  -4.25316742e-01   1.01589236e+00  -1.76535286e+00   4.40148135e-01\n",
      "  -5.40669667e-01   3.04607659e+00   1.47873749e+01   4.95461308e+00\n",
      "   1.73072593e+01  -2.87366141e-01  -4.36309227e-02   1.69373889e+01\n",
      "   9.53997609e-01   2.60393961e-01  -1.63244574e+00  -4.23473349e-01\n",
      "   2.67194613e-02   1.10191856e-02   7.53282546e-01  -5.75552282e+00\n",
      "   5.00658811e+00   6.71655287e-01   1.05326716e+00  -4.23718969e-01\n",
      "   6.58841651e-01  -2.38951568e-01   1.39785277e+00  -1.27169353e+01\n",
      "   1.60040077e+01   6.63348918e+00   7.05827454e+00  -1.75174281e-01\n",
      "   5.30106815e-01   1.85077931e+01   6.32850024e-01  -5.43847927e-01\n",
      "  -4.17717282e-01  -2.08489476e-01  -8.37533555e-02  -1.89710843e-01\n",
      "  -2.76352208e-01   2.47125919e+00  -4.07191046e+00   2.05551119e+00\n",
      "  -4.22967882e-01   1.04134227e+00  -2.62377802e+00  -1.82159459e-01\n",
      "   4.58350514e-01   6.95752669e+00   8.10712340e+00   8.19348328e+00\n",
      "   2.48154630e+00  -1.00076946e-01  -3.02368539e-02   1.94430145e+01\n",
      "   5.78303284e-01  -4.60714309e-01   2.04536233e+00   2.88021766e+00\n",
      "  -7.63473678e-02   1.56588089e+00   1.28772176e-01  -1.73730088e+00\n",
      "   1.91887653e+00  -1.70471450e-01   3.96972044e-01   7.41567531e-02\n",
      "   5.00866801e+00  -1.62808275e-01  -1.86225173e-02   5.75823194e+00\n",
      "   4.79959997e+00   6.46592444e+00   7.94063526e+00  -3.29967524e+00\n",
      "   2.41998518e-01   2.02052508e+01   9.53495605e-01   1.50937891e-02\n",
      "   3.71980841e-01   1.13797300e+01   1.93488599e-02   1.73808121e-02\n",
      "   1.73747706e-03  -2.39589257e-02  -2.14874778e-02  -2.13448729e-03\n",
      "   1.28025360e+00   2.00096391e+00   4.10033064e-01   3.05385876e+01\n",
      "   1.52433595e+01   4.92139969e+00   2.88002088e+00   1.12039993e+00\n",
      "   1.01093442e+00   1.62752931e+00   2.54053537e+01   1.31402559e-02\n",
      "   1.20103408e-04  -3.30978969e-02   3.10368347e-03   2.22506474e-06\n",
      "   8.94361369e+00  -4.31027809e-02  -1.56456142e-01   4.60005428e-01\n",
      "  -1.14002339e-03  -6.80559799e-02  -3.41282571e-03  -1.84539559e-01\n",
      "  -1.48603906e+00   3.63207252e-01  -5.63988413e-01   3.83098336e+01\n",
      "   1.06558720e+00  -1.05744857e-01  -5.89788590e-01  -2.98194007e-01\n",
      "  -2.13647345e-03   1.30103588e-05   1.16228703e-02  -1.43666962e+00\n",
      "   2.87351567e+00   8.74684040e-04   6.19503996e-04   4.22947047e-03\n",
      "  -1.06693948e-03  -7.57675525e-04  -5.21165163e-03   8.56463950e-02\n",
      "   1.05690821e-01   1.50537865e+00   5.25217496e-01   2.00109458e+00\n",
      "   3.90845657e+01   2.04475113e-01   3.19349939e-01   5.39781156e-01\n",
      "   1.35130210e+00   4.10954223e+01   2.03715282e-02   1.30246766e-04\n",
      "   3.05769616e+00  -1.05348263e-05  -7.03328369e-06   7.19869223e+00\n",
      "   5.69059524e-01   1.50266953e-01   2.69019520e-02   2.53791688e-03\n",
      "   2.46004434e-01  -3.52335624e-04  -4.66107080e+00  -2.79571749e-01\n",
      "   9.56418057e+00  -4.39178558e+00  -2.02888388e-03   2.73530813e+00\n",
      "  -5.19998499e-01   2.91245739e-01   3.24987706e-01   6.03971686e-04\n",
      "  -1.38798223e-07  -3.00026180e-02   3.59905947e-02]\n"
     ]
    }
   ],
   "source": [
    "a,b,c = Gauss_Seidel(Bmult,y)\n",
    "print(\"e = \",b)\n",
    "print(\"n = \",c)\n",
    "print(\"x = \",a)"
   ]
  }
 ],
 "metadata": {
  "kernelspec": {
   "display_name": "Python 3",
   "language": "python",
   "name": "python3"
  },
  "language_info": {
   "codemirror_mode": {
    "name": "ipython",
    "version": 3
   },
   "file_extension": ".py",
   "mimetype": "text/x-python",
   "name": "python",
   "nbconvert_exporter": "python",
   "pygments_lexer": "ipython3",
   "version": "3.6.3"
  }
 },
 "nbformat": 4,
 "nbformat_minor": 2
}
