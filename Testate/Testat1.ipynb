{
 "cells": [
  {
   "cell_type": "code",
   "execution_count": 33,
   "metadata": {},
   "outputs": [],
   "source": [
    "import numpy as np\n",
    "import numpy.linalg as la"
   ]
  },
  {
   "cell_type": "markdown",
   "metadata": {},
   "source": [
    "# Cholesky-Zerlegung\n",
    "## (a)"
   ]
  },
  {
   "cell_type": "markdown",
   "metadata": {},
   "source": [
    "#### Definition der Matrix A"
   ]
  },
  {
   "cell_type": "code",
   "execution_count": 34,
   "metadata": {},
   "outputs": [
    {
     "name": "stdout",
     "output_type": "stream",
     "text": [
      "[[ 4.   2.  -1.   0.   0.   0. ]\n",
      " [ 2.   4.   1.   1.   0.   1. ]\n",
      " [-1.   1.   5.   3.  -1.   2. ]\n",
      " [ 0.   1.   3.   4.   1.1  2.5]\n",
      " [ 0.   0.  -1.   1.1  2.4  1. ]\n",
      " [ 0.   1.   2.   2.5  1.   3. ]]\n"
     ]
    }
   ],
   "source": [
    "A = np.array([\n",
    "    [4,2,-1,0,0,0],\n",
    "    [2,4,1,1,0,1],\n",
    "    [-1,1,5,3,-1,2],\n",
    "    [0,1,3,4,1.1,2.5],\n",
    "    [0,0,-1,1.1,2.4,1],\n",
    "    [0,1,2,2.5,1,3]])\n",
    "print(A)"
   ]
  },
  {
   "cell_type": "markdown",
   "metadata": {},
   "source": [
    "Kriterium für positiv definit: all Eigenwerte > 0"
   ]
  },
  {
   "cell_type": "code",
   "execution_count": 35,
   "metadata": {},
   "outputs": [
    {
     "name": "stdout",
     "output_type": "stream",
     "text": [
      "[ 9.70612261  5.99083183  3.86413908  1.64650095  0.25881123  0.9335943 ]\n",
      "Ist A positiv definit?: True\n"
     ]
    }
   ],
   "source": [
    "D,V = la.eig(A)  #Eigenwerte, Eigenvektoren\n",
    "print(D)\n",
    "print(\"Ist A positiv definit?: \" + str((D > 0).all()))"
   ]
  },
  {
   "cell_type": "markdown",
   "metadata": {},
   "source": [
    "## (b)"
   ]
  },
  {
   "cell_type": "markdown",
   "metadata": {},
   "source": [
    "#### Funktionsdefinition"
   ]
  },
  {
   "cell_type": "code",
   "execution_count": 36,
   "metadata": {},
   "outputs": [],
   "source": [
    "def CholeskyZerlegung(A):\n",
    "    \"\"\"\n",
    "    Berechnet die Cholesky-Zerlegung der (symmetrisch & pos. def.) Matrix A \n",
    "    Rückgabewert is the untere Dreiecksmatrix L\n",
    "    \"\"\"\n",
    "    n = A.shape[0]\n",
    "    L = np.zeros_like(A)\n",
    "        \n",
    "    for j in range(n):\n",
    "        # Schritt 1: Diagonalelement berechnen\n",
    "        i = j\n",
    "        L[i][j] = np.sqrt(A[i][i] - sum([L[i][k]**2 for k in range(i)]))\n",
    "        # Schritt 2: Spalte von L nach unten auffüllen\n",
    "        for i in range(j+1,n):\n",
    "            L[i][j] = (A[i][j] - sum(L[i][k]*L[j][k] for k in range(j)))/L[j][j]\n",
    "    \n",
    "    return L"
   ]
  },
  {
   "cell_type": "markdown",
   "metadata": {},
   "source": [
    "#### Berechnung L"
   ]
  },
  {
   "cell_type": "code",
   "execution_count": 37,
   "metadata": {
    "scrolled": true
   },
   "outputs": [
    {
     "name": "stdout",
     "output_type": "stream",
     "text": [
      "[[ 2.          0.          0.          0.          0.          0.        ]\n",
      " [ 1.          1.73205081  0.          0.          0.          0.        ]\n",
      " [-0.5         0.8660254   2.          0.          0.          0.        ]\n",
      " [ 0.          0.57735027  1.25        1.4505746   0.          0.        ]\n",
      " [ 0.          0.         -0.5         1.18918393  0.85781209  0.        ]\n",
      " [ 0.          0.57735027  0.75        0.84736536  0.42821352  1.09670953]]\n"
     ]
    }
   ],
   "source": [
    "L = CholeskyZerlegung(A)\n",
    "print(L)"
   ]
  },
  {
   "cell_type": "markdown",
   "metadata": {},
   "source": [
    "#### Überprüfen"
   ]
  },
  {
   "cell_type": "code",
   "execution_count": 38,
   "metadata": {},
   "outputs": [
    {
     "name": "stdout",
     "output_type": "stream",
     "text": [
      "Residium nach Zerlegung:\n",
      "||R||f = 4.440892098500626e-16\n"
     ]
    }
   ],
   "source": [
    "R = A-L.dot(L.T)\n",
    "print(\"Residium nach Zerlegung:\")\n",
    "print(\"||R||f = {}\".format(la.norm(R,ord='fro')))"
   ]
  },
  {
   "cell_type": "markdown",
   "metadata": {},
   "source": [
    "## (c)"
   ]
  },
  {
   "cell_type": "markdown",
   "metadata": {},
   "source": [
    "#### Funktionsdefinition"
   ]
  },
  {
   "cell_type": "code",
   "execution_count": 39,
   "metadata": {},
   "outputs": [],
   "source": [
    "def CholeskyLösung(L,y):\n",
    "    \"\"\"\n",
    "    Berechnet die Lösung des LGS Ax=y aus der Cholesky Zerlegung der Matrix A und der rechten Seite y.\n",
    "    \"\"\"\n",
    "    n = A.shape[0]\n",
    "    x=np.zeros(n)\n",
    "    x.shape = (n,1)  # x explizit zu Spaltenvektor\n",
    "    \n",
    "    z =np.array(x)\n",
    "    \n",
    "    #vorwärtseinsetzen L.dot(z) = y\n",
    "    z[0] = y[0]/L[0][0]\n",
    "    for i in range(1,n):\n",
    "        z[i] = (y[i]-sum([L[i][k]*z[k] for k in range(i)]))/L[i][i]\n",
    "    \n",
    "    #rückwärtseinsetzen L.T.dot(x) = z\n",
    "    x[n-1] = z[n-1]/L[n-1][n-1]\n",
    "    for i in reversed(range(0,n-1)):\n",
    "        x[i] = (z[i]-sum([L[k][i]*x[k] for k in range(i+1,n)]))/L[i][i]\n",
    "    return x"
   ]
  },
  {
   "cell_type": "markdown",
   "metadata": {},
   "source": [
    "#### Lösung x"
   ]
  },
  {
   "cell_type": "code",
   "execution_count": 40,
   "metadata": {},
   "outputs": [
    {
     "name": "stdout",
     "output_type": "stream",
     "text": [
      "[[ 2.90010068]\n",
      " [-1.32923146]\n",
      " [ 7.94193981]\n",
      " [-1.81787672]\n",
      " [ 9.81205951]\n",
      " [-7.60733863]]\n"
     ]
    }
   ],
   "source": [
    "y = np.array([[1],[-1],[5],[7],[6],[-3]])\n",
    "x = CholeskyLösung(L,y)\n",
    "print(x)"
   ]
  },
  {
   "cell_type": "markdown",
   "metadata": {},
   "source": [
    "#### Residuum"
   ]
  },
  {
   "cell_type": "code",
   "execution_count": 41,
   "metadata": {},
   "outputs": [
    {
     "name": "stdout",
     "output_type": "stream",
     "text": [
      "[[  0.00000000e+00]\n",
      " [  0.00000000e+00]\n",
      " [ -3.55271368e-15]\n",
      " [  0.00000000e+00]\n",
      " [  1.77635684e-15]\n",
      " [ -7.10542736e-15]]\n"
     ]
    }
   ],
   "source": [
    "r = A.dot(x)-y\n",
    "print(r)"
   ]
  },
  {
   "cell_type": "code",
   "execution_count": 42,
   "metadata": {},
   "outputs": [
    {
     "name": "stdout",
     "output_type": "stream",
     "text": [
      "||r||1 = 1.2434497875801753e-14\n",
      "||r||2 = 8.140289677804162e-15\n",
      "||r||inf = 7.105427357601002e-15\n"
     ]
    }
   ],
   "source": [
    "print(\"||r||1 = {}\".format(la.norm(r,ord=1)))\n",
    "print(\"||r||2 = {}\".format(la.norm(r,ord=2)))\n",
    "print(\"||r||inf = {}\".format(la.norm(r,ord=np.inf)))"
   ]
  }
 ],
 "metadata": {
  "kernelspec": {
   "display_name": "Python 3",
   "language": "python",
   "name": "python3"
  },
  "language_info": {
   "codemirror_mode": {
    "name": "ipython",
    "version": 3
   },
   "file_extension": ".py",
   "mimetype": "text/x-python",
   "name": "python",
   "nbconvert_exporter": "python",
   "pygments_lexer": "ipython3",
   "version": "3.5.2"
  }
 },
 "nbformat": 4,
 "nbformat_minor": 2
}
