{
 "cells": [
  {
   "cell_type": "code",
   "execution_count": 1,
   "metadata": {},
   "outputs": [],
   "source": [
    "import numpy as np\n",
    "import matplotlib.pyplot as plt\n",
    "from rum.basics import matprint\n",
    "%matplotlib notebook"
   ]
  },
  {
   "cell_type": "markdown",
   "metadata": {},
   "source": [
    "# Numerische Zeitableitungen"
   ]
  },
  {
   "cell_type": "markdown",
   "metadata": {},
   "source": [
    "## a)\n",
    "$\n",
    "\\begin{align}\n",
    "\\ T & =  t_0 < t_1 t_2 ... < t_n \\\\\n",
    "\\end{align}\n",
    "$"
   ]
  },
  {
   "cell_type": "code",
   "execution_count": 2,
   "metadata": {},
   "outputs": [],
   "source": [
    "t0 = 0.0\n",
    "t1 = 1.0\n",
    "N = 500\n",
    "Nfine = 1000\n",
    "\n",
    "T = np.linspace(t0,t1,N)\n",
    "Tfine = np.linspace(t0,t1,Nfine)"
   ]
  },
  {
   "cell_type": "markdown",
   "metadata": {},
   "source": [
    "## b)\n",
    "ToDo: Schreiben Sie die Funktionen\n",
    "\n",
    "ForwardEuler(i, T, f), BackwardEuler(i, T, f), MidpointRule(i, T, f)\n",
    "\n",
    "welche die numerischen Ableitungen einer Funktion f berechnen. Hierbei soll ein Vektor der diskreten Zeitpunkte T uebergeben werden. Die Rueckgabe ist der Vektor der durch das entsprechende Verfahren approximierten Ableitung."
   ]
  },
  {
   "cell_type": "markdown",
   "metadata": {},
   "source": [
    "$\n",
    "\\begin{align}\n",
    "f_1(t) & = cos(100t) \\\\\n",
    "f_2(t) & = 5t^2 - 3t + 5 \\\\\n",
    "f_3(t) & = e^{-5t} \\\\\n",
    "\\end{align}\n",
    "$"
   ]
  },
  {
   "cell_type": "code",
   "execution_count": 3,
   "metadata": {},
   "outputs": [],
   "source": [
    "##################\n",
    "# func.m\n",
    "##################\n",
    "\n",
    "def func(t, a):\n",
    "    # takes both scalars and numpy arrays\n",
    "    # and a function selection parameter a\n",
    "    # returns f\n",
    "    if (a == 1):\n",
    "        f = np.cos(100*t)\n",
    "    elif(a == 2):\n",
    "        f = 5*t*t - 3*t + 5\n",
    "    elif(a == 3):\n",
    "        f = np.exp(-5*t)\n",
    "    else:\n",
    "        f = 0\n",
    "    return f\n",
    "\n",
    "\n",
    "##################\n",
    "# dfunc.m\n",
    "##################\n",
    "\n",
    "def dfunc(t, a):\n",
    "    # takes both scalars and numpy arrays\n",
    "    # and a function selection parameter a\n",
    "    # returns df/dt\n",
    "    if (a == 1):\n",
    "        df = -100*np.sin(100*t)\n",
    "    elif(a == 2):\n",
    "        df = 10*t - 3\n",
    "    elif(a == 3):\n",
    "        df = -5*np.exp(-5*t)\n",
    "    else:\n",
    "        df = 0\n",
    "    return df"
   ]
  },
  {
   "cell_type": "code",
   "execution_count": 4,
   "metadata": {},
   "outputs": [],
   "source": [
    "def forwardEuler(T, f, i=None):\n",
    "    \"\"\"\n",
    "    Differentiate f over (equidistant!) discrete times T\n",
    "    using forward finite differences,\n",
    "    where i is an optional list of indices of T\n",
    "    for which to calculate the differential\n",
    "    \"\"\"\n",
    "\n",
    "    if i is None:\n",
    "        indices = np.arange(len(T))\n",
    "    elif type(i) == int:\n",
    "        indices = np.array([i])\n",
    "    elif type(i) == list:\n",
    "        indices = np.array(i)\n",
    "\n",
    "    assert len(T) == len(f), \"f and T must be of same length\"\n",
    "    assert indices.max() < len(T), \"index in i is out of bounds for T\"\n",
    "\n",
    "    df = np.zeros(len(indices))\n",
    "    for n, i in enumerate(indices):\n",
    "        if i == len(T) - 1:\n",
    "            # right boundary, cannot use forward differences\n",
    "            df[n] = backwardEuler(T, f, [i])\n",
    "        else:\n",
    "            df[n] = (f[i+1] - f[i])/(T[i+1] - T[i])\n",
    "    return df\n",
    "\n",
    "\n",
    "def backwardEuler(T, f, i=None):\n",
    "    \"\"\"\n",
    "    Differentiate f over (equidistant!) discrete times T\n",
    "    using backward finite differences,\n",
    "    where i is an optional list of indices of T\n",
    "    for which to calculate the differential\n",
    "    \"\"\"\n",
    "    if i is None:\n",
    "        indices = np.arange(len(T))\n",
    "    elif type(i) == int:\n",
    "        indices = np.array([i])\n",
    "    elif type(i) == list:\n",
    "        indices = np.array(i)\n",
    "\n",
    "    assert len(T) == len(f), \"f and T must be of same length\"\n",
    "    assert indices.max() < len(T), \"index in i is out of bounds for T\"\n",
    "\n",
    "    df = np.zeros(len(indices))\n",
    "    for n, i in enumerate(indices):\n",
    "        if i == 0:\n",
    "            # left boundary, cannot use backward differences\n",
    "            df[n] = forwardEuler(T, f, [i])\n",
    "        else:\n",
    "            df[n] = (f[i] - f[i-1])/(T[i] - T[i-1])\n",
    "    return df\n",
    "\n",
    "\n",
    "def midpointRule(T, f, i=None):\n",
    "    \"\"\"\n",
    "    Differentiate f over (equidistant!) discrete times T\n",
    "    using centrla finite differences,\n",
    "    where i is an optional list of indices of T\n",
    "    for which to calculate the differential\n",
    "    \"\"\"\n",
    "    if i is None:\n",
    "        indices = np.arange(len(T))\n",
    "    elif type(i) == int:\n",
    "        indices = np.array([i])\n",
    "    elif type(i) == list:\n",
    "        indices = np.array(i)\n",
    "\n",
    "    assert len(T) == len(f), \"f and T must be of same length\"\n",
    "    assert indices.max() < len(T), \"index in i is out of bounds for T\"\n",
    "\n",
    "    df = np.zeros(len(indices))\n",
    "    for n, i in enumerate(indices):\n",
    "        if i == 0:\n",
    "            # left boundary, use forward differences\n",
    "            df[n] = forwardEuler(T, f, [i])\n",
    "        elif i == len(T) - 1:\n",
    "            # right boundary, use backward differces\n",
    "            df[n] = backwardEuler(T, f, [i])\n",
    "        else:\n",
    "            df[n] = (f[i+1] - f[i-1])/(T[i+1] - T[i-1])\n",
    "    return df\n"
   ]
  },
  {
   "cell_type": "markdown",
   "metadata": {},
   "source": [
    "### $f_1(t) = cos(100t)$"
   ]
  },
  {
   "cell_type": "code",
   "execution_count": 5,
   "metadata": {},
   "outputs": [
    {
     "data": {
      "image/png": "[encoded data removed]",
      "text/plain": [
       "<Figure size 576x288 with 1 Axes>"
      ]
     },
     "metadata": {
      "needs_background": "light"
     },
     "output_type": "display_data"
    }
   ],
   "source": [
    "f = func(T,1)\n",
    "df_ex = dfunc(Tfine,1)\n",
    "df_fw = forwardEuler(T,f)\n",
    "df_bw = backwardEuler(T,f)\n",
    "df_mp = midpointRule(T,f)\n",
    "fig, ax = plt.subplots(1, figsize=(8,4))\n",
    "ax.plot(Tfine,df_ex, label='df(T) exact')\n",
    "ax.plot(T,df_fw, label='df(T) forward euler')\n",
    "ax.plot(T,df_bw, label='df(T) backward euler')\n",
    "ax.plot(T,df_mp, label='df(T) midpoint rule')\n",
    "ax.set_xlabel('t')\n",
    "ax.legend();"
   ]
  },
  {
   "cell_type": "markdown",
   "metadata": {},
   "source": [
    "### $f_2(t) = 5t^2 - 3t + 5 $"
   ]
  },
  {
   "cell_type": "code",
   "execution_count": 6,
   "metadata": {},
   "outputs": [
    {
     "data": {
      "image/png": "[encoded data removed]",
      "text/plain": [
       "<Figure size 576x288 with 1 Axes>"
      ]
     },
     "metadata": {
      "needs_background": "light"
     },
     "output_type": "display_data"
    }
   ],
   "source": [
    "f = func(T,2)\n",
    "df_ex = dfunc(Tfine,2)\n",
    "df_fw = forwardEuler(T,f)\n",
    "df_bw = backwardEuler(T,f)\n",
    "df_mp = midpointRule(T,f)\n",
    "fig, ax = plt.subplots(1, figsize=(8,4))\n",
    "ax.plot(Tfine,df_ex, label='df(T) exact')\n",
    "ax.plot(T,df_fw, label='df(T) forward euler')\n",
    "ax.plot(T,df_bw, label='df(T) backward euler')\n",
    "ax.plot(T,df_mp, label='df(T) midpoint rule')\n",
    "ax.set_xlabel('t')\n",
    "ax.legend();"
   ]
  },
  {
   "cell_type": "markdown",
   "metadata": {},
   "source": [
    "## $ f_3(t) = e^{-5t} $"
   ]
  },
  {
   "cell_type": "code",
   "execution_count": 7,
   "metadata": {},
   "outputs": [
    {
     "data": {
      "image/png": "[encoded data removed]",
      "text/plain": [
       "<Figure size 576x288 with 1 Axes>"
      ]
     },
     "metadata": {
      "needs_background": "light"
     },
     "output_type": "display_data"
    }
   ],
   "source": [
    "f = func(T,3)\n",
    "df_ex = dfunc(Tfine,3)\n",
    "df_fw = forwardEuler(T,f)\n",
    "df_bw = backwardEuler(T,f)\n",
    "df_mp = midpointRule(T,f)\n",
    "fig, ax = plt.subplots(1, figsize=(8,4))\n",
    "ax.plot(Tfine,df_ex, label='df(T) exact')\n",
    "ax.plot(T,df_bw, label='df(T) backward euler')\n",
    "ax.plot(T,df_mp, label='df(T) midpoint rule')\n",
    "ax.set_xlabel('t')\n",
    "ax.legend();"
   ]
  },
  {
   "cell_type": "markdown",
   "metadata": {},
   "source": [
    "# Numerische Differentation in Matrixform"
   ]
  },
  {
   "cell_type": "markdown",
   "metadata": {},
   "source": [
    "## Sparse Matrices in Numpy\n",
    "\n",
    "**Advantages of the COO format**\n",
    "- facilitates fast conversion among sparse formats\n",
    "- permits duplicate entries (see example)\n",
    "- very fast conversion to and from CSR/CSC formats\n",
    "\n",
    "**Disadvantages of the COO format**\n",
    "- does not directly support:\n",
    "  -      arithmetic operations\n",
    "  -      slicing\n",
    "\n",
    "**Intended Usage**\n",
    "- COO is a fast format for constructing sparse matrices\n",
    "- Once a matrix has been constructed, convert to CSR or CSC format for fast arithmetic and matrix vector operations\n",
    "- By default when converting to CSR or CSC format, duplicate (i,j) entries will be summed together. This facilitates efficient construction of finite element matrices and the like. (see example)\n",
    "\n",
    "**Advantages of the CSR format**\n",
    "- efficient arithmetic operations CSR + CSR, CSR * CSR, etc.\n",
    "- efficient row slicing\n",
    "- fast matrix vector products\n",
    "\n",
    "**Disadvantages of the CSR format**\n",
    "- slow column slicing operations (consider CSC)\n",
    "- changes to the sparsity structure are expensive (consider LIL or DOK)\n",
    "\n",
    "\n",
    "**Advantages of the CSC format**\n",
    "- efficient arithmetic operations CSC + CSC, CSC * CSC, etc.\n",
    "- efficient column slicing\n",
    "- fast matrix vector products (CSR, BSR may be faster)\n",
    "\n",
    "**Disadvantages of the CSC format**\n",
    "- slow row slicing operations (consider CSR)\n",
    "- changes to the sparsity structure are expensive (consider LIL or DOK)"
   ]
  },
  {
   "cell_type": "markdown",
   "metadata": {},
   "source": [
    "## Example "
   ]
  },
  {
   "cell_type": "code",
   "execution_count": 8,
   "metadata": {},
   "outputs": [
    {
     "name": "stdout",
     "output_type": "stream",
     "text": [
      " 1 -1  0 \n",
      "-1  2 -1 \n",
      " 0 -1  1 \n"
     ]
    }
   ],
   "source": [
    "## Example\n",
    "import scipy.sparse\n",
    "from scipy.sparse import csc_matrix, csr_matrix, coo_matrix\n",
    "\n",
    "row = np.array([0,0,1,1,1,2,2])\n",
    "col = np.array([0,1,0,1,2,1,2])\n",
    "data = np.array([1,-1,-1,2,-1,-1,1])\n",
    "\n",
    "coo = coo_matrix((data,(row,col)), shape=(3,3))\n",
    "matprint(coo.toarray())"
   ]
  },
  {
   "cell_type": "markdown",
   "metadata": {},
   "source": [
    "## Interoperability of scipy.sparse and numpy\n",
    "Quick example to show potential problems, using a small foward differntiation"
   ]
  },
  {
   "cell_type": "code",
   "execution_count": 9,
   "metadata": {},
   "outputs": [],
   "source": [
    "N=5\n",
    "T = np.linspace(0,1,N)\n",
    "f = func(T,3)\n",
    "df_ex = dfunc(T,3)"
   ]
  },
  {
   "cell_type": "markdown",
   "metadata": {},
   "source": [
    "### Setup system matrix for foward diff\n",
    "Setup system matrix using scipy.sparse.coo_matrix. First, generate   arrays for row, column indices and base values. To take into account the step size h, the array of values is divided by h in place. To allow operations with the sparse matrix, it needs to be converted to the CSR format. (The CSR format is specially suitable for fast matrix vector products.) Convert again to array for printing and check output."
   ]
  },
  {
   "cell_type": "code",
   "execution_count": 10,
   "metadata": {},
   "outputs": [
    {
     "name": "stdout",
     "output_type": "stream",
     "text": [
      "time step = h = 0.2\n",
      "Euler FW system matrix:\n",
      "-5  5  0  0 0 \n",
      " 0 -5  5  0 0 \n",
      " 0  0 -5  5 0 \n",
      " 0  0  0 -5 5 \n",
      " 0  0  0 -5 5 \n"
     ]
    }
   ],
   "source": [
    "afw_row = np.array([0,0,1,1,2,2,3,3,4,4])\n",
    "afw_col = np.array([0,1,1,2,2,3,3,4,3,4])\n",
    "afw_val = np.array([-1, 1,-1,1,-1,1,-1,1,-1,1])\n",
    "# include h=T-t0/N\n",
    "h = (T[-1] - T[0])/len(T)\n",
    "print(\"time step = h = {}\".format(h))\n",
    "afw_val = afw_val / h\n",
    "AFW = coo_matrix((afw_val, (afw_row, afw_col)), shape=(5, 5))\n",
    "AFW = AFW.tocsr()\n",
    "print(\"Euler FW system matrix:\")\n",
    "matprint(AFW.toarray())"
   ]
  },
  {
   "cell_type": "markdown",
   "metadata": {},
   "source": [
    "### Exact values of f and df for comparison"
   ]
  },
  {
   "cell_type": "code",
   "execution_count": 11,
   "metadata": {},
   "outputs": [
    {
     "name": "stdout",
     "output_type": "stream",
     "text": [
      "[1.         0.2865048  0.082085   0.02351775 0.00673795]\n",
      "[-5.         -1.43252398 -0.41042499 -0.11758873 -0.03368973]\n"
     ]
    }
   ],
   "source": [
    "print(f)\n",
    "print(df_ex)"
   ]
  },
  {
   "cell_type": "markdown",
   "metadata": {},
   "source": [
    "### Calculation with dense system matrix\n",
    "Check the general correctness of our matrix by converting to dense, then using np.dot to perform matrix-vector multiplication"
   ]
  },
  {
   "cell_type": "code",
   "execution_count": 12,
   "metadata": {},
   "outputs": [
    {
     "name": "stdout",
     "output_type": "stream",
     "text": [
      "[[-3.56747602 -1.02209899 -0.29283626 -0.08389899 -0.08389899]]\n"
     ]
    }
   ],
   "source": [
    "# calculate result converting AFW to dense first\n",
    "res = np.dot(AFW.todense(), f)\n",
    "print(res)"
   ]
  },
  {
   "cell_type": "markdown",
   "metadata": {},
   "source": [
    "### Calculation with sparse system matrix\n",
    "Of course we don't want to convert to dense. However, if you try the same thing without converting to a dense array, we get a strange result. It is important to **use the scipy object's methods and _not_ numpy.dot, etc**. See the comparison below and compare to the exact result and the dense matrix-vector multiplication result above.\n",
    "\n",
    "See also https://docs.scipy.org/doc/scipy/reference/sparse.html"
   ]
  },
  {
   "cell_type": "code",
   "execution_count": 13,
   "metadata": {},
   "outputs": [
    {
     "name": "stdout",
     "output_type": "stream",
     "text": [
      "[<5x5 sparse matrix of type '<class 'numpy.float64'>'\n",
      "\twith 10 stored elements in Compressed Sparse Row format>\n",
      " <5x5 sparse matrix of type '<class 'numpy.float64'>'\n",
      "\twith 10 stored elements in Compressed Sparse Row format>\n",
      " <5x5 sparse matrix of type '<class 'numpy.float64'>'\n",
      "\twith 10 stored elements in Compressed Sparse Row format>\n",
      " <5x5 sparse matrix of type '<class 'numpy.float64'>'\n",
      "\twith 10 stored elements in Compressed Sparse Row format>\n",
      " <5x5 sparse matrix of type '<class 'numpy.float64'>'\n",
      "\twith 10 stored elements in Compressed Sparse Row format>]\n"
     ]
    }
   ],
   "source": [
    "# calculate result using np.dot()\n",
    "res = np.dot(AFW,f)\n",
    "print(res)"
   ]
  },
  {
   "cell_type": "code",
   "execution_count": 14,
   "metadata": {},
   "outputs": [
    {
     "name": "stdout",
     "output_type": "stream",
     "text": [
      "<class 'numpy.ndarray'>\n",
      "[-3.56747602 -1.02209899 -0.29283626 -0.08389899 -0.08389899]\n"
     ]
    }
   ],
   "source": [
    "# calculate result using scipy.sparse.csr_matrix.dot()\n",
    "res = AFW.dot(f)\n",
    "print(type(res))\n",
    "print(res)"
   ]
  },
  {
   "cell_type": "markdown",
   "metadata": {},
   "source": [
    "### Timeit"
   ]
  },
  {
   "cell_type": "code",
   "execution_count": 15,
   "metadata": {},
   "outputs": [
    {
     "name": "stdout",
     "output_type": "stream",
     "text": [
      "4.2 µs ± 287 ns per loop (mean ± std. dev. of 7 runs, 100000 loops each)\n"
     ]
    }
   ],
   "source": [
    "%timeit res = AFW.dot(f)"
   ]
  },
  {
   "cell_type": "code",
   "execution_count": 16,
   "metadata": {},
   "outputs": [
    {
     "name": "stdout",
     "output_type": "stream",
     "text": [
      "9.39 µs ± 1.52 µs per loop (mean ± std. dev. of 7 runs, 100000 loops each)\n"
     ]
    }
   ],
   "source": [
    "%timeit res = np.dot(AFW.todense(),f)"
   ]
  },
  {
   "cell_type": "markdown",
   "metadata": {},
   "source": [
    "## a) System matrix for forward-Euler\n",
    "Setup a system matrix with variable size and step"
   ]
  },
  {
   "cell_type": "code",
   "execution_count": 17,
   "metadata": {},
   "outputs": [
    {
     "name": "stdout",
     "output_type": "stream",
     "text": [
      "[0. 0. 1. 1. 2. 2. 3. 3. 4. 4. 5. 5. 6. 6. 7. 7. 8. 8. 9. 9.]\n",
      "[0. 1. 1. 2. 2. 3. 3. 4. 4. 5. 5. 6. 6. 7. 7. 8. 8. 9. 9. 8.]\n",
      "[-1.  1. -1.  1. -1.  1. -1.  1. -1.  1. -1.  1. -1.  1. -1.  1. -1.  1.\n",
      " -1.  1.]\n"
     ]
    }
   ],
   "source": [
    "N = 10\n",
    "test = np.repeat(np.arange(0.0,N),2)\n",
    "print(test)\n",
    "test[1::2] += 1  # increment odd indices by 1\n",
    "test[-1] = len(test)/2-2  # set final indices for euler-bw\n",
    "print(test)\n",
    "val = np.zeros(2*N)\n",
    "val[0::2] = -1\n",
    "val[1::2] = 1\n",
    "\n",
    "print(val)"
   ]
  },
  {
   "cell_type": "code",
   "execution_count": 18,
   "metadata": {},
   "outputs": [
    {
     "name": "stdout",
     "output_type": "stream",
     "text": [
      "Euler FW system matrix:\n",
      "-5  5  0  0 0 \n",
      " 0 -5  5  0 0 \n",
      " 0  0 -5  5 0 \n",
      " 0  0  0 -5 5 \n",
      " 0  0  0 -5 5 \n"
     ]
    }
   ],
   "source": [
    "def AFW(T):\n",
    "    \"\"\"\n",
    "    The system matrix returned by this function\n",
    "    differentiates a vector f at time points T \n",
    "    using foward differences\n",
    "    through matrix-vector multiplication\n",
    "    Returns matrix in CSR format\n",
    "    \"\"\"\n",
    "    N = len(T)\n",
    "    h = (T[-1] - T[0])/N\n",
    "\n",
    "    # row\n",
    "    afw_row = np.repeat(np.arange(0.0, N), repeats=2)\n",
    "\n",
    "    # col\n",
    "    afw_col = afw_row.copy()\n",
    "    afw_col[1::2] += 1  # increment odd indices by 1\n",
    "    afw_col[-2:] = afw_col[-4:-2]  # set final indices to euler-bw\n",
    "    \n",
    "    # val\n",
    "    afw_val = np.zeros(2*N)\n",
    "    afw_val[0::2] = -1/h\n",
    "    afw_val[1::2] = 1/h\n",
    "    AFW = coo_matrix((afw_val, (afw_row, afw_col)), shape=(N, N))\n",
    "    return AFW.tocsr()\n",
    "\n",
    "\n",
    "print(\"Euler FW system matrix:\")\n",
    "matprint(AFW(T).toarray())"
   ]
  },
  {
   "cell_type": "markdown",
   "metadata": {},
   "source": [
    "## b) System matrix for backward-Euler"
   ]
  },
  {
   "cell_type": "code",
   "execution_count": 19,
   "metadata": {},
   "outputs": [
    {
     "name": "stdout",
     "output_type": "stream",
     "text": [
      "Euler BW system matrix:\n",
      "-5  5  0  0 0 \n",
      "-5  5  0  0 0 \n",
      " 0 -5  5  0 0 \n",
      " 0  0 -5  5 0 \n",
      " 0  0  0 -5 5 \n"
     ]
    }
   ],
   "source": [
    "def ABW(T):\n",
    "    \"\"\"\n",
    "    The system matrix returned by this function\n",
    "    differentiates a vector f at time points T \n",
    "    using backward differences\n",
    "    through matrix-vector multiplication\n",
    "    Returns matrix in CSR format\n",
    "    \"\"\"\n",
    "    N = len(T)\n",
    "    h = (T[-1] - T[0])/N\n",
    "\n",
    "    # row\n",
    "    afw_row = np.repeat(np.arange(0.0, N), repeats=2)\n",
    "\n",
    "    # col\n",
    "    afw_col = np.repeat(np.arange(-1.0, N-1), repeats=2)\n",
    "    afw_col[1::2] += 1  # increment even indices by 1\n",
    "    afw_col[0:2] = afw_col[2:4]  # set first indices to euler-fw\n",
    "    \n",
    "    # val\n",
    "    afw_val = np.zeros(2*N)\n",
    "    afw_val[0::2] = -1/h\n",
    "    afw_val[1::2] = 1/h\n",
    "    AFW = coo_matrix((afw_val, (afw_row, afw_col)), shape=(N, N))\n",
    "    return AFW.tocsr()\n",
    "\n",
    "\n",
    "#TODO test with even and odd matrix sizes!\n",
    "print(\"Euler BW system matrix:\")\n",
    "matprint(ABW(T).toarray())"
   ]
  },
  {
   "cell_type": "markdown",
   "metadata": {},
   "source": [
    "## c) System matrix for midpoint-rule"
   ]
  },
  {
   "cell_type": "code",
   "execution_count": 20,
   "metadata": {},
   "outputs": [
    {
     "name": "stdout",
     "output_type": "stream",
     "text": [
      "MPrule system matrix:\n",
      "  (0, 0)\t-5.0\n",
      "  (0, 1)\t5.0\n",
      "  (1, 0)\t-2.5\n",
      "  (1, 2)\t2.5\n",
      "  (2, 1)\t-2.5\n",
      "  (2, 3)\t2.5\n",
      "  (3, 2)\t-2.5\n",
      "  (3, 4)\t2.5\n",
      "  (4, 3)\t-5.0\n",
      "  (4, 4)\t5.0\n",
      "  -5    5    0   0   0 \n",
      "-2.5    0  2.5   0   0 \n",
      "   0 -2.5    0 2.5   0 \n",
      "   0    0 -2.5   0 2.5 \n",
      "   0    0    0  -5   5 \n"
     ]
    }
   ],
   "source": [
    "def AMP(T):\n",
    "    \"\"\"\n",
    "    The system matrix returned by this function\n",
    "    differentiates a vector f at time points T \n",
    "    using the midpoint rule\n",
    "    and fw/bw differneces at edges\n",
    "    through matrix-vector multiplication\n",
    "    Returns matrix in CSR format\n",
    "    \"\"\"\n",
    "    N = len(T)\n",
    "    h = (T[-1] - T[0])/N\n",
    "\n",
    "    # row\n",
    "    afw_row = np.repeat(np.arange(0.0, N), repeats=2)\n",
    "\n",
    "    # col\n",
    "    a = np.arange(-1, N-1)\n",
    "    #a[0] = 0\n",
    "    b = np.arange(1, N+1)\n",
    "    #b[-1] = N-1\n",
    "    afw_col = np.zeros(2*N, dtype=np.float64)\n",
    "    afw_col[0::2] = a\n",
    "    afw_col[1::2] = b\n",
    "    afw_col[0] = 0  # set first indices to euler-fw\n",
    "    afw_col[-1] = N-1  # set last indices to euler-bw\n",
    "\n",
    "    # val\n",
    "    afw_val = np.zeros(2*N, dtype=np.float64)\n",
    "    tmp = 1/(2*h)\n",
    "    afw_val[0::2] = -tmp\n",
    "    afw_val[1::2] = tmp\n",
    "    afw_val[0:2:] = 2*afw_val[0:2:] # set last values to euler-fw\n",
    "    afw_val[-2::] = 2*afw_val[-2::]   # set last values to euler-bw\n",
    "    AFW = coo_matrix((afw_val, (afw_row, afw_col)), shape=(N, N))\n",
    "    return AFW.tocsr()\n",
    "\n",
    "\n",
    "print(\"MPrule system matrix:\")\n",
    "print(AMP(T))\n",
    "matprint(AMP(T).toarray())"
   ]
  },
  {
   "cell_type": "markdown",
   "metadata": {},
   "source": [
    "## d) Ableitungen der testfunktionen"
   ]
  },
  {
   "cell_type": "code",
   "execution_count": 21,
   "metadata": {},
   "outputs": [
    {
     "data": {
      "image/png": "[encoded data removed]",
      "text/plain": [
       "<Figure size 576x288 with 1 Axes>"
      ]
     },
     "metadata": {
      "needs_background": "light"
     },
     "output_type": "display_data"
    }
   ],
   "source": [
    "t0 = 0.0\n",
    "t1 = 1.0\n",
    "N = 20\n",
    "Nfine = 1000\n",
    "\n",
    "T = np.linspace(t0,t1,N)\n",
    "Tfine = np.linspace(t0,t1,Nfine)\n",
    "\n",
    "Afw = AFW(T)\n",
    "Abw = ABW(T)\n",
    "Amp = AMP(T)\n",
    "\n",
    "funcnumber = 3\n",
    "\n",
    "f = func(T,funcnumber)\n",
    "df_ex = dfunc(Tfine,funcnumber)\n",
    "df_fw = Afw.dot(f)\n",
    "df_bw = Abw.dot(f)\n",
    "df_mp = Amp.dot(f)\n",
    "\n",
    "fig, ax = plt.subplots(1, figsize=(8,4))\n",
    "ax.plot(Tfine,df_ex, label='df(T) exact')\n",
    "ax.plot(T,df_fw, label='df(T) forward euler')\n",
    "ax.plot(T,df_bw, label='df(T) backward euler')\n",
    "ax.plot(T,df_mp, label='df(T) midpoint rule')\n",
    "ax.set_xlabel('t')\n",
    "ax.legend();"
   ]
  },
  {
   "cell_type": "markdown",
   "metadata": {},
   "source": [
    "# Numerische Lösung einer gewöhnlichen Differentialgleichung"
   ]
  },
  {
   "cell_type": "markdown",
   "metadata": {},
   "source": [
    "## Ordinary Differential Equation\n",
    "Given the following ODE:\n",
    "\n",
    "$\n",
    "\\rho c \\frac{d}{dt} \\theta \\left( t \\right) = \\dot h_0 exp \\left( \\frac{-k}{\\theta} \\right) - q_{ab}\n",
    "$\n",
    "\n",
    "Parameters:\n",
    "\n",
    "$\n",
    "\\rho = 1000 \\frac{kg}{m^3}, \n",
    "c = 1000 \\frac{J}{kg K}, \n",
    "\\dot h_0 = 1.710^7 \\frac{J}{s m^3}, \n",
    "k = 561 K, \n",
    "q_ab = 7.5 10^5 \\frac{J}{s m^3} \\\\\n",
    "$\n",
    "\n",
    "Start condition:\n",
    "\n",
    "$\n",
    "\\theta_0 = 293 K\n",
    "$"
   ]
  },
  {
   "cell_type": "markdown",
   "metadata": {},
   "source": [
    "-->     $\n",
    "\\dot \\theta \\left( t \\right) = \\frac {\\dot h_0 exp \\left( \\frac{-k}{\\theta} \\right) - q_{ab} }{ \\rho c}\n",
    "$"
   ]
  },
  {
   "cell_type": "markdown",
   "metadata": {},
   "source": [
    "## Explicit Time Integration\n",
    "\n",
    "The explicit (forward) Euler method is based on:\n",
    "\n",
    "Finite difference approximation of $ \\frac{dx}{dt}$ :\n",
    "\n",
    "$\n",
    "\\normalsize {\n",
    "\\frac{d}{dt} x \\left( t \\right) = f \\left( x \\left( t \\right), t \\right) \\approx \\frac{x \\left( t + \\delta t \\right) - x \\left( t \\right)}{\\delta t}\n",
    "}\n",
    "$\n",
    "\n",
    "Iteration:\n",
    "\n",
    "$\n",
    "\\normalsize {\n",
    "x \\left( t + \\delta t \\right) \\approx x \\left( t \\right) + \\delta t f \\left( x \\left( t \\right), t \\right)\n",
    "} \n",
    "$"
   ]
  },
  {
   "cell_type": "code",
   "execution_count": 22,
   "metadata": {},
   "outputs": [
    {
     "ename": "NameError",
     "evalue": "name 't_0' is not defined",
     "output_type": "error",
     "traceback": [
      "\u001b[0;31m---------------------------------------------------------------------------\u001b[0m",
      "\u001b[0;31mNameError\u001b[0m                                 Traceback (most recent call last)",
      "\u001b[0;32m<ipython-input-22-b6e681f90d94>\u001b[0m in \u001b[0;36m<module>\u001b[0;34m\u001b[0m\n\u001b[1;32m     36\u001b[0m \u001b[0;34m\u001b[0m\u001b[0m\n\u001b[1;32m     37\u001b[0m \u001b[0;32mfor\u001b[0m \u001b[0mN\u001b[0m \u001b[0;32min\u001b[0m \u001b[0;34m[\u001b[0m\u001b[0;36m1\u001b[0m\u001b[0;34m,\u001b[0m\u001b[0;36m5\u001b[0m\u001b[0;34m,\u001b[0m\u001b[0;36m20\u001b[0m\u001b[0;34m,\u001b[0m\u001b[0;36m100\u001b[0m\u001b[0;34m,\u001b[0m\u001b[0;36m500\u001b[0m\u001b[0;34m]\u001b[0m\u001b[0;34m:\u001b[0m\u001b[0;34m\u001b[0m\u001b[0;34m\u001b[0m\u001b[0m\n\u001b[0;32m---> 38\u001b[0;31m     \u001b[0mt\u001b[0m\u001b[0;34m,\u001b[0m \u001b[0mtheta\u001b[0m \u001b[0;34m=\u001b[0m \u001b[0msolve_ode_expl\u001b[0m\u001b[0;34m(\u001b[0m\u001b[0mN\u001b[0m\u001b[0;34m)\u001b[0m\u001b[0;34m\u001b[0m\u001b[0;34m\u001b[0m\u001b[0m\n\u001b[0m\u001b[1;32m     39\u001b[0m     \u001b[0max\u001b[0m\u001b[0;34m.\u001b[0m\u001b[0mplot\u001b[0m\u001b[0;34m(\u001b[0m\u001b[0mt\u001b[0m\u001b[0;34m,\u001b[0m\u001b[0mtheta\u001b[0m\u001b[0;34m,\u001b[0m \u001b[0mlabel\u001b[0m\u001b[0;34m=\u001b[0m\u001b[0;34m'{} timesteps'\u001b[0m\u001b[0;34m.\u001b[0m\u001b[0mformat\u001b[0m\u001b[0;34m(\u001b[0m\u001b[0mN\u001b[0m\u001b[0;34m)\u001b[0m\u001b[0;34m)\u001b[0m\u001b[0;34m\u001b[0m\u001b[0;34m\u001b[0m\u001b[0m\n\u001b[1;32m     40\u001b[0m \u001b[0max\u001b[0m\u001b[0;34m.\u001b[0m\u001b[0mset_ylabel\u001b[0m\u001b[0;34m(\u001b[0m\u001b[0;34m\"Theta\"\u001b[0m\u001b[0;34m)\u001b[0m\u001b[0;34m\u001b[0m\u001b[0;34m\u001b[0m\u001b[0m\n",
      "\u001b[0;32m<ipython-input-22-b6e681f90d94>\u001b[0m in \u001b[0;36msolve_ode_expl\u001b[0;34m(time_steps)\u001b[0m\n\u001b[1;32m     29\u001b[0m         \u001b[0mtheta\u001b[0m\u001b[0;34m[\u001b[0m\u001b[0mn\u001b[0m\u001b[0;34m]\u001b[0m \u001b[0;34m=\u001b[0m \u001b[0mtheta\u001b[0m\u001b[0;34m[\u001b[0m\u001b[0mn\u001b[0m\u001b[0;34m-\u001b[0m\u001b[0;36m1\u001b[0m\u001b[0;34m]\u001b[0m \u001b[0;34m+\u001b[0m \u001b[0mdt\u001b[0m \u001b[0;34m*\u001b[0m \u001b[0mdxdt\u001b[0m\u001b[0;34m\u001b[0m\u001b[0;34m\u001b[0m\u001b[0m\n\u001b[1;32m     30\u001b[0m \u001b[0;34m\u001b[0m\u001b[0m\n\u001b[0;32m---> 31\u001b[0;31m     \u001b[0mt\u001b[0m \u001b[0;34m=\u001b[0m \u001b[0;34m[\u001b[0m\u001b[0mt_0\u001b[0m \u001b[0;34m+\u001b[0m \u001b[0mn\u001b[0m\u001b[0;34m*\u001b[0m\u001b[0mdt\u001b[0m \u001b[0;32mfor\u001b[0m \u001b[0mn\u001b[0m \u001b[0;32min\u001b[0m \u001b[0mrange\u001b[0m\u001b[0;34m(\u001b[0m\u001b[0;36m0\u001b[0m\u001b[0;34m,\u001b[0m\u001b[0mN\u001b[0m\u001b[0;34m+\u001b[0m\u001b[0;36m1\u001b[0m\u001b[0;34m)\u001b[0m\u001b[0;34m]\u001b[0m\u001b[0;34m\u001b[0m\u001b[0;34m\u001b[0m\u001b[0m\n\u001b[0m\u001b[1;32m     32\u001b[0m     \u001b[0;32mreturn\u001b[0m \u001b[0;34m(\u001b[0m\u001b[0mt\u001b[0m\u001b[0;34m,\u001b[0m\u001b[0mtheta\u001b[0m\u001b[0;34m)\u001b[0m\u001b[0;34m\u001b[0m\u001b[0;34m\u001b[0m\u001b[0m\n\u001b[1;32m     33\u001b[0m \u001b[0;34m\u001b[0m\u001b[0m\n",
      "\u001b[0;32m<ipython-input-22-b6e681f90d94>\u001b[0m in \u001b[0;36m<listcomp>\u001b[0;34m(.0)\u001b[0m\n\u001b[1;32m     29\u001b[0m         \u001b[0mtheta\u001b[0m\u001b[0;34m[\u001b[0m\u001b[0mn\u001b[0m\u001b[0;34m]\u001b[0m \u001b[0;34m=\u001b[0m \u001b[0mtheta\u001b[0m\u001b[0;34m[\u001b[0m\u001b[0mn\u001b[0m\u001b[0;34m-\u001b[0m\u001b[0;36m1\u001b[0m\u001b[0;34m]\u001b[0m \u001b[0;34m+\u001b[0m \u001b[0mdt\u001b[0m \u001b[0;34m*\u001b[0m \u001b[0mdxdt\u001b[0m\u001b[0;34m\u001b[0m\u001b[0;34m\u001b[0m\u001b[0m\n\u001b[1;32m     30\u001b[0m \u001b[0;34m\u001b[0m\u001b[0m\n\u001b[0;32m---> 31\u001b[0;31m     \u001b[0mt\u001b[0m \u001b[0;34m=\u001b[0m \u001b[0;34m[\u001b[0m\u001b[0mt_0\u001b[0m \u001b[0;34m+\u001b[0m \u001b[0mn\u001b[0m\u001b[0;34m*\u001b[0m\u001b[0mdt\u001b[0m \u001b[0;32mfor\u001b[0m \u001b[0mn\u001b[0m \u001b[0;32min\u001b[0m \u001b[0mrange\u001b[0m\u001b[0;34m(\u001b[0m\u001b[0;36m0\u001b[0m\u001b[0;34m,\u001b[0m\u001b[0mN\u001b[0m\u001b[0;34m+\u001b[0m\u001b[0;36m1\u001b[0m\u001b[0;34m)\u001b[0m\u001b[0;34m]\u001b[0m\u001b[0;34m\u001b[0m\u001b[0;34m\u001b[0m\u001b[0m\n\u001b[0m\u001b[1;32m     32\u001b[0m     \u001b[0;32mreturn\u001b[0m \u001b[0;34m(\u001b[0m\u001b[0mt\u001b[0m\u001b[0;34m,\u001b[0m\u001b[0mtheta\u001b[0m\u001b[0;34m)\u001b[0m\u001b[0;34m\u001b[0m\u001b[0;34m\u001b[0m\u001b[0m\n\u001b[1;32m     33\u001b[0m \u001b[0;34m\u001b[0m\u001b[0m\n",
      "\u001b[0;31mNameError\u001b[0m: name 't_0' is not defined"
     ]
    },
    {
     "data": {
      "image/png": "[encoded data removed]",
      "text/plain": [
       "<Figure size 432x288 with 1 Axes>"
      ]
     },
     "metadata": {
      "needs_background": "light"
     },
     "output_type": "display_data"
    }
   ],
   "source": [
    "def solve_ode_expl(time_steps):\n",
    "    # time parameters\n",
    "    t0 = 0.0\n",
    "    t1 = 100.0\n",
    "    N = time_steps\n",
    "    dt = (t1-t0) / N\n",
    "\n",
    "    # parameters\n",
    "    rho = 1000.0\n",
    "    c = 1000.0\n",
    "    h_0 = 1.7e7 \n",
    "    k = 561.0\n",
    "    q_ab = 7.5e5\n",
    "\n",
    "    def dot_theta(theta):\n",
    "        result = (h_0 * np.exp(-k/theta) - q_ab )/(rho*c)\n",
    "        return result\n",
    "\n",
    "\n",
    "    # initial condition\n",
    "    theta_0 = 293  # [K]\n",
    "\n",
    "    theta = np.zeros(N+1)\n",
    "    theta[0] = theta_0\n",
    "\n",
    "    for n in range(1,N+1):\n",
    "        t = t0 + n*dt\n",
    "        dxdt = dot_theta(theta[n-1])\n",
    "        theta[n] = theta[n-1] + dt * dxdt\n",
    "        \n",
    "    t = [t_0 + n*dt for n in range(0,N+1)]\n",
    "    return (t,theta)\n",
    "        \n",
    "%matplotlib inline\n",
    "fig, ax = plt.subplots()\n",
    "\n",
    "for N in [1,5,20,100,500]:\n",
    "    t, theta = solve_ode_expl(N)\n",
    "    ax.plot(t,theta, label='{} timesteps'.format(N))\n",
    "ax.set_ylabel(\"Theta\")\n",
    "ax.set_xlabel(\"t\")\n",
    "ax.legend()\n",
    "ax.set_title(\"Euler Explicit\")\n",
    "plt.show()"
   ]
  },
  {
   "cell_type": "markdown",
   "metadata": {},
   "source": [
    "## Implicit Time Integration\n",
    "\n",
    "The implicit (backward) Euler method is based on:\n",
    "\n",
    "Finite difference approximation of $ \\frac{dx}{dt}$ :\n",
    "\n",
    "$\n",
    "\\normalsize {\n",
    "\\frac{d}{dt} x \\left( t + \\delta t \\right) = f \\left( x \\left( t + \\delta t \\right), t + \\delta t \\right) \\approx \\frac{x \\left( t + \\delta t \\right) - x \\left( t \\right)}{\\delta t}\n",
    "}\n",
    "$\n",
    "\n",
    "Iteration:\n",
    "\n",
    "$\n",
    "x \\left( t + \\delta t \\right)  \\approx x \\left( t \\right) + \\delta t  f \\left( x \\left( t + \\delta t \\right) , t + \\delta t \\right)\n",
    "$\n",
    "\n",
    "The iteration cannot generally be solved for $ x \\left( t + \\delta t \\right) $ analytically. So we solve the \"Nullstellenproblem\"\n",
    "\n",
    "$\n",
    "\\normalsize{\n",
    "f \\left( t + \\delta t , u_{i+1} \\right) - \\frac{u_{i+1} - u_i}{\\delta t} = 0\n",
    "}\n",
    "$\n",
    "\n",
    "with a predictor-corrector or Netwon's method."
   ]
  },
  {
   "cell_type": "code",
   "execution_count": null,
   "metadata": {},
   "outputs": [],
   "source": []
  }
 ],
 "metadata": {
  "kernelspec": {
   "display_name": "Python 3",
   "language": "python",
   "name": "python3"
  },
  "language_info": {
   "codemirror_mode": {
    "name": "ipython",
    "version": 3
   },
   "file_extension": ".py",
   "mimetype": "text/x-python",
   "name": "python",
   "nbconvert_exporter": "python",
   "pygments_lexer": "ipython3",
   "version": "3.6.7"
  },
  "toc": {
   "base_numbering": 1,
   "nav_menu": {},
   "number_sections": true,
   "sideBar": true,
   "skip_h1_title": false,
   "title_cell": "Table of Contents",
   "title_sidebar": "Contents",
   "toc_cell": false,
   "toc_position": {},
   "toc_section_display": true,
   "toc_window_display": false
  }
 },
 "nbformat": 4,
 "nbformat_minor": 2
}
