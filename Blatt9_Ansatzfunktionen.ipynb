{
 "cells": [
  {
   "cell_type": "code",
   "execution_count": 1,
   "metadata": {},
   "outputs": [],
   "source": [
    "import numpy as np\n",
    "import matplotlib.pyplot as plt\n",
    "\n",
    "import scipy.linalg as la\n",
    "import scipy.optimize as sciopt"
   ]
  },
  {
   "cell_type": "markdown",
   "metadata": {},
   "source": [
    "# Ansatzfunktionen (Trial Functions)\n",
    "\n",
    "On a given interval $ [x_0, ... ,x_n]$ with arbitrary step sizes $ \\delta x_i = x_i - x_{i-1} $, we seek a basis $ \\{ \\phi_0, ..., \\phi_N \\} $ so that $ \\phi_i(x_j) = \\delta_{ij} $\n",
    "\n",
    "### Piecewise linear case\n",
    "\n",
    "$\n",
    "\\phi(x)= \n",
    "\\begin{cases}\n",
    "    \\frac{x-x_{i-1}}{x_i - x_{i+1}},&  x_{i-1} \\leq x \\leq x_i\\\\\n",
    "    \\frac{x_{i+1}+x}{x_{i+1} + x_{i}},&  x_{i} \\lt x \\leq x_{i+1}\\\\\n",
    "    0,              & \\text{sonst}\n",
    "\\end{cases}\n",
    "$\n",
    "\n",
    "### Quadratic case \n",
    "\n",
    "$\\text{On the interval }  [0,h] \\text{ choose the approach } \\phi(x) = a(x+b)(x+c) $\n",
    "\n",
    "$\\text{ Conditions: } $\n",
    "\n",
    "$$\n",
    "\\text{(1) } := \\phi(0) \\overset{!}{=} 0 = abc \\\\\n",
    "\\text{(2) } := \\phi(\\frac{h}{2}) \\overset{!}{=} 1 = a(\\frac{h}{2}+b)(\\frac{h}{2}+c) \\\\\n",
    "\\text{(3) } := \\phi(h) \\overset{!}{=} 0 =  a(h+b)(h+c)\n",
    "$$\n",
    "\n",
    "$a \\ne 0  \\rightarrow \\text{choose } b = 0 $\n",
    "\n",
    "$\\text{From (2) } \\text{ with } a \\ne 0 \\rightarrow c = -h $\n",
    "\n",
    "$\\text{From (1) } \\rightarrow a = \\frac{-4}{h^2} $\n",
    "\n",
    "$\\text{ Therefore: }$\n",
    "\n",
    "$$\n",
    "\\phi(x) = \\frac{-4}{h^2}(x)(x-h) \\text{ on } [0,h] \n",
    "$$\n",
    "\n",
    "$ \\text{ Transformed to an arbitray interval [a,b]: } $\n",
    "\n",
    "$$\n",
    "\\phi(x) = \\frac{-4}{(b-a)^2}(x-a)(x-b) = \\frac{(x-a)(b-x)}{(b-a)^2 / 4}\n",
    "$$"
   ]
  },
  {
   "attachments": {
    "image.png": {
     "image/png": "[encoded data removed]"
    }
   },
   "cell_type": "markdown",
   "metadata": {},
   "source": [
    "# Isoparametric bilinear quadrilateral element\n",
    "\n",
    "## Reference element: \n",
    "![image.png](attachment:image.png)"
   ]
  },
  {
   "cell_type": "code",
   "execution_count": 2,
   "metadata": {},
   "outputs": [],
   "source": [
    "def quad(x,y):\n",
    "    \"\"\"\n",
    "    x -> array-like of x values [x1,...,x4]\n",
    "    y -> array-like of y values [y1,...,y4]\n",
    "    \"\"\"\n",
    "    assert len(x) == 4\n",
    "    assert len(y) == 4\n",
    "    \n",
    "    P = np.concatenate([np.array([x]), np.array([y])], axis=0).T\n",
    "    return P"
   ]
  },
  {
   "cell_type": "markdown",
   "metadata": {},
   "source": [
    "## Transformations\n",
    "Transformation function from reference element to quadrilateral:\n",
    "\n",
    "$ f(\\xi_i, \\eta_i) = \\left( f_x, f_y \\right) = \\alpha_0 + \\alpha_1 \\xi_i + \\alpha_2 \\eta_i + \\alpha_3 \\xi_i \\eta_i $   \n",
    "$ \\text{ for reference points} (\\xi_i, \\eta_i) = [(-1,-1), (1,-1), (1,-1), (-1,1)] $   \n",
    "$ \\text{ leads to a system of linear equations for the coefficient vectors alpha, beta } $\n",
    "\n",
    "$ \\xi  := \\text{ vector of x-coordinates of reference element}$  \n",
    "$ \\eta := \\text{ vector of y-coordinates of reference element}$\n",
    "\n",
    "\n",
    "\n",
    "$ \\alpha := \\text{ vector of x-coordinate coefficients mapping reference element to quadrilateral}$  \n",
    "$ \\beta  := \\text{ vector of y-coordinate  coefficients mapping reference element to quadrilateral}$"
   ]
  },
  {
   "cell_type": "code",
   "execution_count": 3,
   "metadata": {},
   "outputs": [],
   "source": [
    "def transformation_coefficients(quad, referencequad):\n",
    "\n",
    "    xi = referenceq[:,0]\n",
    "    eta = referenceq[:,1]\n",
    "    \n",
    "    A = np.array([[1, xi[0], eta[0], xi[0]*eta[0]],\n",
    "                  [1, xi[1], eta[1], xi[1]*eta[1]],\n",
    "                  [1, xi[2], eta[2], xi[2]*eta[2]],\n",
    "                  [1, xi[3], eta[3], xi[3]*eta[3]]])\n",
    "                 \n",
    "    alpha = la.solve(a=A, b=q[:,0]) # x-coeffs\n",
    "    beta  = la.solve(a=A, b=q[:,1]) # y-coeffs\n",
    "                 \n",
    "    return alpha, beta\n",
    "\n",
    "def ansatzfunction(xi: float, eta: float, alpha: [], beta: []):\n",
    "    \"\"\"\n",
    "    Maps given xi, eta values to a coordinate (x or y), \n",
    "    given the mapping coefficients alpha\n",
    "    \"\"\"\n",
    "    assert len(alpha) == len(beta) == 4\n",
    "    \n",
    "    basis = np.array([1, xi, eta, xi*eta])\n",
    "    return np.array([np.dot(alpha, basis), np.dot(beta, basis)])\n",
    "\n",
    "\n",
    "def inverse_ansatzfunction(x:float, y:float, alpha: [], beta: []):\n",
    "    \"\"\"\n",
    "    Maps (x,y) to (xi,eta)\n",
    "    for the x-mapping coefficients alpha \n",
    "    and the y-mapping coefficients beta.\n",
    "    i.e. solves the equation f(eta,xi) = (x,y)\n",
    "    \"\"\"\n",
    "    assert len(alpha) == len(beta) == 4\n",
    "    xy = np.array([x,y])\n",
    "    x0 = np.array([0.0,0.0])\n",
    "    f = lambda v: ansatzfunction(*v, alpha, beta) - xy\n",
    "    xi,eta = sciopt.newton_krylov(f, x0, f_tol=10e-7)\n",
    "    \n",
    "    return np.array([xi, eta]).round(6)"
   ]
  },
  {
   "cell_type": "code",
   "execution_count": 4,
   "metadata": {},
   "outputs": [],
   "source": [
    "# tests\n",
    "q = quad([0,6,10,2],[0,0,4,6])\n",
    "referenceq = quad([-1,1,1,-1],[-1,-1,1,1])\n",
    "\n",
    "alpha, beta = transformation_coefficients(q, referenceq)\n",
    "\n",
    "for i in range(4):\n",
    "    # transformation xi,eta -> x,y\n",
    "    assert (ansatzfunction(*referenceq[i],alpha, beta) == q[i]).all()\n",
    "    # transformation x,y -> xi,eta\n",
    "    assert (inverse_ansatzfunction(*q[i], alpha, beta) == referenceq[i]).all()\n"
   ]
  },
  {
   "cell_type": "markdown",
   "metadata": {},
   "source": [
    "## Interpolation\n",
    "For discrete functions values $g(x_i,y_i)$, determine $g(x,y)$"
   ]
  },
  {
   "cell_type": "code",
   "execution_count": 5,
   "metadata": {},
   "outputs": [],
   "source": [
    "def interpolate(ansatzfunc, referencequad, funcvalues):\n",
    "    \"\"\"\n",
    "    Returns coefficients of ansatzfunc\n",
    "    for the x-mapping coefficients alpha \n",
    "    and the y-mapping coefficients beta\n",
    "    \n",
    "    so that g(x,y) interpolates funcvalues \n",
    "    at referencequad points\n",
    "    \n",
    "    \"\"\"\n",
    "    pass\n",
    "\n",
    "    #xy = np.array([x,y])\n",
    "    #x0 = np.array([0.0,0.0])\n",
    "    #f = lambda v: ansatzfunction(*v, alpha, beta) - xy\n",
    "    #xi,eta = sciopt.newton_krylov(f, x0, f_tol=10e-7)\n",
    "    \n",
    "    #return np.array([xi, eta]).round(6)"
   ]
  },
  {
   "cell_type": "code",
   "execution_count": null,
   "metadata": {},
   "outputs": [],
   "source": []
  }
 ],
 "metadata": {
  "kernelspec": {
   "display_name": "Python 3",
   "language": "python",
   "name": "python3"
  },
  "language_info": {
   "codemirror_mode": {
    "name": "ipython",
    "version": 3
   },
   "file_extension": ".py",
   "mimetype": "text/x-python",
   "name": "python",
   "nbconvert_exporter": "python",
   "pygments_lexer": "ipython3",
   "version": "3.6.7"
  },
  "toc": {
   "base_numbering": 1,
   "nav_menu": {},
   "number_sections": true,
   "sideBar": true,
   "skip_h1_title": false,
   "title_cell": "Table of Contents",
   "title_sidebar": "Contents",
   "toc_cell": false,
   "toc_position": {},
   "toc_section_display": true,
   "toc_window_display": false
  }
 },
 "nbformat": 4,
 "nbformat_minor": 2
}
