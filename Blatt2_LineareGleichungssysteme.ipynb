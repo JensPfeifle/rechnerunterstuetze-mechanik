{
 "cells": [
  {
   "cell_type": "markdown",
   "metadata": {},
   "source": [
    "#   "
   ]
  },
  {
   "cell_type": "code",
   "execution_count": 1,
   "metadata": {
    "scrolled": true
   },
   "outputs": [],
   "source": [
    "import numpy as np\n",
    "import numpy.linalg as la\n",
    "from scipy.linalg import lu,lu_factor,lu_solve\n",
    "from rum.basics import matprint, matprops\n",
    "from rum.solve import thomas"
   ]
  },
  {
   "cell_type": "markdown",
   "metadata": {},
   "source": [
    "## a)"
   ]
  },
  {
   "cell_type": "code",
   "execution_count": 2,
   "metadata": {},
   "outputs": [
    {
     "name": "stdout",
     "output_type": "stream",
     "text": [
      "[[1 2 3]\n",
      " [4 5 6]\n",
      " [7 8 9]]\n"
     ]
    }
   ],
   "source": [
    "A = np.array([[1,2,3],[4,5,6],[7,8,9]])\n",
    "print (A)"
   ]
  },
  {
   "cell_type": "code",
   "execution_count": 3,
   "metadata": {},
   "outputs": [
    {
     "name": "stdout",
     "output_type": "stream",
     "text": [
      "detA = 0.0\n",
      "rgA = 2\n",
      "symA = \n",
      "[[1. 3. 5.]\n",
      " [3. 5. 7.]\n",
      " [5. 7. 9.]]\n",
      "skwA = \n",
      "[[ 0. -1. -2.]\n",
      " [ 1.  0. -1.]\n",
      " [ 2.  1.  0.]]\n",
      "trA = 15\n",
      "lambda_i:\n",
      "[ 1.61168440e+01 -1.11684397e+00 -1.30367773e-15] \n",
      " u_i: \n",
      "[[-0.23197069 -0.78583024  0.40824829]\n",
      " [-0.52532209 -0.08675134 -0.81649658]\n",
      " [-0.8186735   0.61232756  0.40824829]]\n"
     ]
    }
   ],
   "source": [
    "matprops(A)"
   ]
  },
  {
   "cell_type": "markdown",
   "metadata": {},
   "source": [
    "#   "
   ]
  },
  {
   "cell_type": "markdown",
   "metadata": {},
   "source": [
    "## a)"
   ]
  },
  {
   "cell_type": "code",
   "execution_count": 4,
   "metadata": {},
   "outputs": [],
   "source": [
    "def vectornorm(v,p):\n",
    "    d = np.size(v)\n",
    "    \n",
    "    if p == 1:\n",
    "        return sum(v)\n",
    "    \n",
    "    elif p == np.inf:\n",
    "        return max(v)\n",
    "    \n",
    "    elif p == 2:\n",
    "        return (sum(x**2))**(1/2)\n",
    "        \n",
    "    else:\n",
    "        n = 0\n",
    "        for i in range(0,d):\n",
    "             n = n + abs(v[i])**p\n",
    "        return n**(1/p)"
   ]
  },
  {
   "cell_type": "code",
   "execution_count": 5,
   "metadata": {},
   "outputs": [],
   "source": [
    "# Zufallsvektor erstellen\n",
    "x = np.random.rand(5)"
   ]
  },
  {
   "cell_type": "code",
   "execution_count": 6,
   "metadata": {},
   "outputs": [
    {
     "name": "stdout",
     "output_type": "stream",
     "text": [
      "Zufallsvektor: [0.82628867 0.24086434 0.97648585 0.68726138 0.69606939]\n",
      "p=1\n",
      "3.4269696243174135\n",
      "p=inf\n",
      "0.9764858459797536\n",
      "p=2\n",
      "1.6282303292868747\n",
      "p=3.3\n",
      "1.244641318380351\n",
      "p=4\n",
      "1.164131520345143\n"
     ]
    }
   ],
   "source": [
    "p_values = [1,np.inf,2,3.3,4]\n",
    "\n",
    "print(\"Zufallsvektor: {}\".format(x))\n",
    "for p in p_values:\n",
    "    print(\"p={}\".format(p))      \n",
    "    print(vectornorm(x,p))\n"
   ]
  },
  {
   "cell_type": "markdown",
   "metadata": {},
   "source": [
    "## b)"
   ]
  },
  {
   "cell_type": "code",
   "execution_count": 7,
   "metadata": {},
   "outputs": [
    {
     "name": "stdout",
     "output_type": "stream",
     "text": [
      "Loaded (10, 10) matrix\n"
     ]
    }
   ],
   "source": [
    "matrix = np.loadtxt('Blatt2_matrix.dat')\n",
    "print (\"Loaded {} matrix\".format(np.shape(matrix)))"
   ]
  },
  {
   "cell_type": "code",
   "execution_count": 8,
   "metadata": {},
   "outputs": [
    {
     "name": "stdout",
     "output_type": "stream",
     "text": [
      "p =   1 --> k=93.80377097043943 \n",
      "p =   2 --> k=46.273081094414565 \n",
      "p = inf --> k=93.06720009548833 \n"
     ]
    }
   ],
   "source": [
    "p_values=[1,2,np.inf]\n",
    "for p in p_values:\n",
    "    k = la.cond(matrix, p = p)\n",
    "    print(\"p = {:3} --> k={} \".format(p, k))      "
   ]
  },
  {
   "cell_type": "markdown",
   "metadata": {},
   "source": [
    "#   \n",
    "## a)"
   ]
  },
  {
   "cell_type": "code",
   "execution_count": 9,
   "metadata": {},
   "outputs": [
    {
     "name": "stdout",
     "output_type": "stream",
     "text": [
      "A:\n",
      "    1         2    0.5        0    -2  \n",
      "   -1         6    1.2      3.4  -0.1  \n",
      "0.075         1   0.39  1.73205     0  \n",
      "  0.6  0.666667  -0.41        1  1.07  \n",
      " -0.2      -0.7   0.81        4     5  \n",
      "b:\n",
      "[-5.          3.          0.9         1.42        1.41421356]\n"
     ]
    }
   ],
   "source": [
    "A = np.array([[1,2,0.5,0,-2],[-1,6,1.2,3.4,-0.1],[0.075,1,0.39,np.sqrt(3),0],[0.6,2/3,-0.41,1,1.07],[-0.2,-0.7,0.81,4,5]])\n",
    "b = np.array([-5,3,0.9,1.42,np.sqrt(2)])\n",
    "print(\"A:\")\n",
    "matprint(A)\n",
    "print(\"b:\")\n",
    "print(b)"
   ]
  },
  {
   "cell_type": "code",
   "execution_count": 10,
   "metadata": {},
   "outputs": [
    {
     "name": "stdout",
     "output_type": "stream",
     "text": [
      "Inverse:\n",
      " 0.648301   -0.19462  -0.237071  0.351502      0.180206  \n",
      " 0.102101   0.191965  -0.497615  0.211763  -0.000637387  \n",
      " 0.791795  0.0274218  -0.702685  -1.00843      0.533071  \n",
      "-0.265306  -0.108578    1.03314  0.089583     -0.127465  \n",
      "   0.1242   0.101511  -0.791822  0.135406      0.222733  \n"
     ]
    }
   ],
   "source": [
    "# Invertieren\n",
    "print(\"Inverse:\")\n",
    "matprint(np.array(np.matrix(A).I))"
   ]
  },
  {
   "cell_type": "code",
   "execution_count": 11,
   "metadata": {},
   "outputs": [
    {
     "name": "stdout",
     "output_type": "stream",
     "text": [
      "(array([[ 1.        ,  2.        ,  0.5       ,  0.        , -2.        ],\n",
      "       [-1.        ,  8.        ,  1.7       ,  3.4       , -2.1       ],\n",
      "       [-0.2       , -0.0375    ,  0.97375   ,  4.1275    ,  4.52125   ],\n",
      "       [ 0.6       , -0.06666667, -0.61275139,  3.75579803,  4.90040223],\n",
      "       [ 0.075     ,  0.10625   ,  0.17650834,  0.17100563, -1.26290973]]), array([0, 1, 4, 3, 4], dtype=int32))\n"
     ]
    }
   ],
   "source": [
    "# LUP-Zerlegung\n",
    "lu_and_piv = lu_factor(A)\n",
    "print(lu_and_piv)"
   ]
  },
  {
   "cell_type": "code",
   "execution_count": 12,
   "metadata": {},
   "outputs": [],
   "source": [
    "x = lu_solve(lu_and_piv,b)"
   ]
  },
  {
   "cell_type": "code",
   "execution_count": 13,
   "metadata": {},
   "outputs": [
    {
     "name": "stdout",
     "output_type": "stream",
     "text": [
      "Ax: [-5.          3.          0.9         1.42        1.41421356]\n",
      "b : [-5.          3.          0.9         1.42        1.41421356]\n"
     ]
    }
   ],
   "source": [
    "print(\"Ax: {}\".format(A.dot(x)))\n",
    "print(\"b : {}\".format(b))"
   ]
  },
  {
   "cell_type": "markdown",
   "metadata": {},
   "source": [
    "## b)"
   ]
  },
  {
   "cell_type": "code",
   "execution_count": 14,
   "metadata": {},
   "outputs": [
    {
     "name": "stdout",
     "output_type": "stream",
     "text": [
      "n=  3 -> k2 = 8\n",
      "n= 10 -> k2 = 60\n",
      "n= 50 -> k2 = 1300\n",
      "n=500 -> k2 = 125500\n"
     ]
    }
   ],
   "source": [
    "def Tn(n):\n",
    "    T = np.zeros([n,n])\n",
    "    T[0,0] = 2\n",
    "    T[1,0] = -1\n",
    "    for i in range(1, n-1):\n",
    "        T[i-1,i] = -1\n",
    "        T[ i ,i] = 2\n",
    "        T[i+1,i] = -1\n",
    "    T[n-2,n-1] = -1\n",
    "    T[n-1,n-1] = 2\n",
    "    return T\n",
    "\n",
    "for n in [3,10,50,500]:\n",
    "    print(\"n={:3} -> k2 = {:.0f}\".format(n, la.cond(Tn(n),p=np.inf)))"
   ]
  },
  {
   "cell_type": "code",
   "execution_count": 15,
   "metadata": {},
   "outputs": [
    {
     "name": "stdout",
     "output_type": "stream",
     "text": [
      "[4. 6. 5.]\n",
      "[4. 6. 5.]\n"
     ]
    }
   ],
   "source": [
    "b = np.array([2,3,4])\n",
    "T = Tn(len(b))\n",
    "\n",
    "print(lu_solve(lu_factor(T),b))\n",
    "print(thomas(a=-1,b=2,c=-1, y=b))"
   ]
  },
  {
   "cell_type": "code",
   "execution_count": 16,
   "metadata": {},
   "outputs": [
    {
     "name": "stdout",
     "output_type": "stream",
     "text": [
      "The slowest run took 17.48 times longer than the fastest. This could mean that an intermediate result is being cached.\n",
      "10000 loops, best of 3: 27.4 µs per loop\n"
     ]
    }
   ],
   "source": [
    "%timeit lu_solve(lu_factor(T),b)"
   ]
  },
  {
   "cell_type": "code",
   "execution_count": 17,
   "metadata": {},
   "outputs": [
    {
     "name": "stdout",
     "output_type": "stream",
     "text": [
      "The slowest run took 4.70 times longer than the fastest. This could mean that an intermediate result is being cached.\n",
      "100000 loops, best of 3: 11.1 µs per loop\n"
     ]
    }
   ],
   "source": [
    "%timeit thomas(a=-1,b=2,c=-1, y=b)"
   ]
  },
  {
   "cell_type": "markdown",
   "metadata": {},
   "source": []
  },
  {
   "cell_type": "code",
   "execution_count": null,
   "metadata": {},
   "outputs": [],
   "source": []
  }
 ],
 "metadata": {
  "kernelspec": {
   "display_name": "Python 3",
   "language": "python",
   "name": "python3"
  },
  "language_info": {
   "codemirror_mode": {
    "name": "ipython",
    "version": 3
   },
   "file_extension": ".py",
   "mimetype": "text/x-python",
   "name": "python",
   "nbconvert_exporter": "python",
   "pygments_lexer": "ipython3",
   "version": "3.6.6"
  },
  "toc": {
   "nav_menu": {},
   "number_sections": true,
   "sideBar": true,
   "skip_h1_title": false,
   "title_cell": "Table of Contents",
   "title_sidebar": "Contents",
   "toc_cell": false,
   "toc_position": {},
   "toc_section_display": true,
   "toc_window_display": false
  }
 },
 "nbformat": 4,
 "nbformat_minor": 2
}
