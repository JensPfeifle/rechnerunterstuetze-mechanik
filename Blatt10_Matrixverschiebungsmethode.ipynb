{
 "cells": [
  {
   "cell_type": "code",
   "execution_count": 9,
   "metadata": {},
   "outputs": [],
   "source": [
    "import numpy as np\n",
    "from scipy import sparse\n",
    "from scipy.linalg import solve\n",
    "import matplotlib.pyplot as plt"
   ]
  },
  {
   "cell_type": "markdown",
   "metadata": {},
   "source": [
    "# Matrixverschiebungsmethode 1D"
   ]
  },
  {
   "cell_type": "code",
   "execution_count": 10,
   "metadata": {},
   "outputs": [],
   "source": [
    "nodes = np.array([0,2,4,6,8])\n",
    "\n",
    "#node1, node2, stiffness\n",
    "elems = [(0,2, 1),\n",
    "         (0,1, 3),\n",
    "         (1,2, 3),\n",
    "         (1,3, 2),\n",
    "         (0,3, 2.5),\n",
    "         (3,4, 6),\n",
    "         (2,4, 2)]\n",
    "\n",
    "C = np.array([1,2,3,2,2.5,6,2])*10**3"
   ]
  },
  {
   "cell_type": "markdown",
   "metadata": {},
   "source": [
    "## Displacement boundary conditions"
   ]
  },
  {
   "cell_type": "code",
   "execution_count": 11,
   "metadata": {},
   "outputs": [],
   "source": [
    "RBU = [(0,0.0)]\n",
    "\n",
    "RBU = sorted(RBU, key = lambda b : b[0])\n",
    "\n",
    "idxU = np.array([bc[0] for bc in RBU],dtype=int)\n",
    "rbU = np.array([bc[1] for bc in RBU],dtype=float)"
   ]
  },
  {
   "cell_type": "markdown",
   "metadata": {},
   "source": [
    "## Force boundary conditions"
   ]
  },
  {
   "cell_type": "code",
   "execution_count": 12,
   "metadata": {},
   "outputs": [],
   "source": [
    "RBF = [(len(nodes)-1,5)]\n",
    "RBF = sorted(RBF, key = lambda b : b[0])\n",
    "idxF = np.array([bc[0] for bc in RBF],dtype=int)\n",
    "rbF = np.array([bc[1] for bc in RBF],dtype=float)"
   ]
  },
  {
   "cell_type": "markdown",
   "metadata": {},
   "source": [
    "## Stiffness Matrix"
   ]
  },
  {
   "cell_type": "code",
   "execution_count": 13,
   "metadata": {},
   "outputs": [
    {
     "data": {
      "text/plain": [
       "array([[ 6.5, -3. , -1. , -2.5,  0. ],\n",
       "       [-3. ,  8. , -3. , -2. ,  0. ],\n",
       "       [-1. , -3. ,  6. ,  0. , -2. ],\n",
       "       [-2.5, -2. ,  0. , 10.5, -6. ],\n",
       "       [ 0. ,  0. , -2. , -6. ,  8. ]])"
      ]
     },
     "execution_count": 13,
     "metadata": {},
     "output_type": "execute_result"
    }
   ],
   "source": [
    "N = len(nodes)\n",
    "Kges = np.zeros([N,N])\n",
    "for n in range(len(elems)):\n",
    "    Be = np.zeros(N)\n",
    "    start = elems[n][0]\n",
    "    end = elems[n][1]\n",
    "    Be[start] = -1\n",
    "    Be[end] = 1\n",
    "    Ke = elems[n][2] * np.outer(Be, Be.T)\n",
    "    Kges += Ke\n",
    "Kges"
   ]
  },
  {
   "cell_type": "markdown",
   "metadata": {},
   "source": [
    "## Modified system of equations\n",
    "\n",
    "$\n",
    "L_{mod} \\theta_{mod} = rhs_{mod}\n",
    "$\n",
    "\n",
    "\n",
    "\n",
    "### Reminder: \n",
    "$\n",
    "L_F^T F - L_F^T K L_E d_E = L_F^T K L_F d_F \n",
    "$\n",
    "\n",
    "### Generate paritioning matrices $L_E$ and $L_F$\n",
    "(Transposed, for efficient construction using LIL-Matrices)"
   ]
  },
  {
   "cell_type": "code",
   "execution_count": 14,
   "metadata": {},
   "outputs": [
    {
     "name": "stdout",
     "output_type": "stream",
     "text": [
      "[[0 1 0 0 0]\n",
      " [0 0 1 0 0]\n",
      " [0 0 0 1 0]\n",
      " [0 0 0 0 1]]\n",
      "[[1]\n",
      " [0]\n",
      " [0]\n",
      " [0]\n",
      " [0]]\n"
     ]
    }
   ],
   "source": [
    "N = len(nodes)\n",
    "Nf = N - len(idxU)\n",
    "Ne = len(idxU)\n",
    "\n",
    "LfT = sparse.lil_matrix((Nf,N),dtype='i')\n",
    "LeT = sparse.lil_matrix((Ne,N),dtype='i')\n",
    "\n",
    "n_LfT, n_LeT = 0,0\n",
    "for i in range(N):\n",
    "        if not i in idxU:\n",
    "            LfT[n_LfT,i] = 1\n",
    "            n_LfT += 1\n",
    "        else:\n",
    "            LeT[n_LeT,i] = 1\n",
    "            n_LeT += 1\n",
    "\n",
    "        \n",
    "LfT = LfT.tocsr()\n",
    "Lf = LfT.T\n",
    "LeT = LeT.tocsr()\n",
    "Le = LeT.T\n",
    "\n",
    "print(LfT.todense())\n",
    "print(Le.todense())"
   ]
  },
  {
   "cell_type": "markdown",
   "metadata": {},
   "source": [
    "$\n",
    "- \\Delta \\theta_{boundary} =  - L_F^T K L_E \\theta_{mod} =  - L_F^T K \\theta\n",
    "$\n",
    "\n",
    "\n",
    "\n",
    "$\n",
    "\\tilde{\\theta} = L_{mod} \\theta_{mod} = \\left( L_F^T L L_F^T \\right) \\theta_{mod} = \\left( L_F^T L L_F^T \\right) \\left( L_F^T \\theta \\right) \n",
    "$ "
   ]
  },
  {
   "cell_type": "code",
   "execution_count": 15,
   "metadata": {},
   "outputs": [
    {
     "name": "stdout",
     "output_type": "stream",
     "text": [
      "[0.         0.55509868 0.80592105 1.01151316 1.58511513]\n",
      "[-5.  0.  0.  0.  5.]\n"
     ]
    }
   ],
   "source": [
    "LfTf = np.array([0,0,0,5])\n",
    "\n",
    "rhs = LfTf - LfT @ Kges @ Le @ rbU\n",
    "\n",
    "uf = solve(LfT @ Kges @ Lf, rhs)\n",
    "u = Le @ rbU + Lf @ uf\n",
    "\n",
    "fe = LeT @ Kges @ Le @ rbU + LeT @ Kges @ Lf @ uf\n",
    "f = Le @ fe + Lf @ LfTf\n",
    "f\n",
    "\n",
    "print(u)\n",
    "print(f)"
   ]
  },
  {
   "cell_type": "code",
   "execution_count": 33,
   "metadata": {},
   "outputs": [
    {
     "name": "stdout",
     "output_type": "stream",
     "text": [
      "[(0.0, 1, -0.49999999999999983, 0), (9.585115131578947, 1, 0.5, 0)]\n"
     ]
    },
    {
     "data": {
      "image/png": "[encoded data removed]",
      "text/plain": [
       "<Figure size 864x432 with 1 Axes>"
      ]
     },
     "metadata": {
      "needs_background": "light"
     },
     "output_type": "display_data"
    }
   ],
   "source": [
    "%matplotlib inline\n",
    "\n",
    "origx = nodes\n",
    "origy = [0] * len(nodes)\n",
    "\n",
    "defx = nodes + u\n",
    "defy = [1] * len(defx)\n",
    "\n",
    "# force arrows\n",
    "arrows = []\n",
    "scale = 0.1\n",
    "for n in range(len(f)):\n",
    "    if not f[n] == 0:\n",
    "        x,y = defx[n], 1\n",
    "        dx,dy = f[n]*scale, 0\n",
    "        arrows.append((x,y,dx,dy))\n",
    "\n",
    "print(arrows)\n",
    "\n",
    "\n",
    "    \n",
    "fig, ax = plt.subplots(figsize=(12,6))\n",
    "ax.plot(origx,origy, marker=\"o\", )\n",
    "ax.plot(defx,defy, marker=\"o\", )\n",
    "for ar in arrows:\n",
    "    ax.arrow(*ar, width = 0.05)\n",
    "ax.set_ylim((-1,2))\n",
    "ax.set_xlim((-1,12))\n",
    "plt.show()"
   ]
  },
  {
   "cell_type": "code",
   "execution_count": null,
   "metadata": {},
   "outputs": [],
   "source": []
  },
  {
   "cell_type": "code",
   "execution_count": null,
   "metadata": {},
   "outputs": [],
   "source": []
  },
  {
   "cell_type": "code",
   "execution_count": null,
   "metadata": {},
   "outputs": [],
   "source": []
  },
  {
   "cell_type": "code",
   "execution_count": null,
   "metadata": {},
   "outputs": [],
   "source": []
  },
  {
   "cell_type": "code",
   "execution_count": null,
   "metadata": {},
   "outputs": [],
   "source": []
  }
 ],
 "metadata": {
  "kernelspec": {
   "display_name": "Python 3",
   "language": "python",
   "name": "python3"
  },
  "language_info": {
   "codemirror_mode": {
    "name": "ipython",
    "version": 3
   },
   "file_extension": ".py",
   "mimetype": "text/x-python",
   "name": "python",
   "nbconvert_exporter": "python",
   "pygments_lexer": "ipython3",
   "version": "3.6.7"
  },
  "toc": {
   "base_numbering": 1,
   "nav_menu": {},
   "number_sections": true,
   "sideBar": true,
   "skip_h1_title": false,
   "title_cell": "Table of Contents",
   "title_sidebar": "Contents",
   "toc_cell": false,
   "toc_position": {},
   "toc_section_display": true,
   "toc_window_display": false
  }
 },
 "nbformat": 4,
 "nbformat_minor": 2
}
