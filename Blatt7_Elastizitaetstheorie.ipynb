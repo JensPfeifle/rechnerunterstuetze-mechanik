{
 "cells": [
  {
   "cell_type": "code",
   "execution_count": null,
   "metadata": {},
   "outputs": [],
   "source": [
    "import numpy as np\n",
    "import numpy.linalg as la\n",
    "from rum import matprint\n",
    "PRECISION = 8\n",
    "matformat = \".2f\""
   ]
  },
  {
   "attachments": {},
   "cell_type": "markdown",
   "metadata": {},
   "source": [
    "## Notation\n",
    "\n",
    "### Voigt Notation (nicht-normiert)\n",
    "![images/voigt1.png](images/voigt1.png)\n",
    "![images/voigt1.png](images/voigt2.png)\n",
    "\n",
    "2er kommen vom symmetrischen Teil\n",
    "\n",
    "#### Switching between $\\sigma$ to $\\epsilon$ notation\n",
    "$\n",
    "A_\\epsilon = D_2 A_\\sigma\n",
    "$\n",
    "\n",
    "$\n",
    "A_\\sigma = D_{1/2} A_\\epsilon^T \n",
    "$\n",
    "\n",
    "#### Scalar product\n",
    "\n",
    "$\n",
    "\\mathbf{A} \\cdot \\mathbf{B} = A_\\epsilon^T B_\\sigma = A_\\sigma^T B_\\epsilon =  A_\\sigma^T D_2 B_\\sigma = A_\\epsilon^T D_{1/2} B_\\epsilon\n",
    "$\n",
    "\n",
    "with \n",
    "$\n",
    "D_\\alpha = diag(1,1,1,\\alpha,\\alpha,\\alpha)\n",
    "$\n",
    "\n",
    "#### Norm\n",
    "\n",
    "$\n",
    "\\left| \\left| \\mathbf{A} \\right| \\right| = \\sqrt{\\mathbf{A} \\cdot \\mathbf{A}} = \\sqrt{A_\\sigma^T D_2 A_\\sigma} = \\sqrt{A_\\sigma^T A_\\epsilon} = \\sqrt{A_\\epsilon^T D_{1/2} A_\\epsilon} \n",
    "$\n",
    "### Mandel Nottation (normierte Voigt-Notation)\n",
    "\n",
    "Idea: Vector notation for tensors, so that the tensor dot product can be calculated using the dot product of the vectors.\n",
    "\n",
    "![images/mandel1.png](images/mandel1.png)\n",
    "\n",
    "#### Dot (scalar) product\n",
    "$\n",
    "\\mathbf{A} \\cdot \\mathbf{B} =  \\left( {\\hat A} \\right) ^T \\hat B\n",
    "$\n",
    "\n",
    "#### Norm\n",
    "\n",
    "$\n",
    "\\left| \\left| \\mathbf{A} \\right| \\right| =  \\sqrt{\\left( {\\hat A} \\right) ^T \\hat A} = \\left| \\left| \\hat A \\right| \\right| _2\n",
    "$\n",
    "\n",
    "### Notation for 4th order Tensor C\n",
    "\n",
    "#### Switching between Voigt and Mandel notation\n",
    "$\n",
    "\\hat C = D_{\\sqrt{2}} C D_{\\sqrt{2}}\n",
    "$\n",
    "\n",
    "$\n",
    "C = D_{\\sqrt{2}/2} \\hat C D_{\\sqrt{2}/2}\n",
    "$\n",
    "\n",
    "#### Dot product\n",
    "$\n",
    "\\mathbf{A} \\cdot \\mathbf{B} = tr {\\hat A} \\hat B = tr A D_4 B\n",
    "$\n",
    "\n",
    "#### Norm\n",
    "$\n",
    "\\left| \\left| \\mathbf{A} \\right| \\right| =  \\sqrt{A \\cdot A } = \\sqrt{tr \\hat A \\hat A } = \\sqrt{trA D_4 A }\n",
    "$\n",
    "\n",
    "#### Eigenvalues\n",
    "$\n",
    "\\hat C \\hat \\epsilon = D_{\\sqrt{2}} C D_{\\sqrt{2}} \\hat \\epsilon = \\lambda \\hat \\epsilon\n",
    "$"
   ]
  },
  {
   "cell_type": "markdown",
   "metadata": {},
   "source": [
    "## Constitutive Laws (Voigt Notation)"
   ]
  },
  {
   "cell_type": "code",
   "execution_count": null,
   "metadata": {},
   "outputs": [],
   "source": [
    "def CISO( K: float, G: float):\n",
    "    \"\"\"\n",
    "    isotropic stiffness matrix in Voigt notation\n",
    "    \"\"\"\n",
    "    lam=K-2/3*G;\n",
    "    C = np.array([[lam+2*G, lam,     lam,     0,  0,  0],\n",
    "                  [lam, lam+2*G,     lam,     0,  0,  0],\n",
    "                  [lam,     lam, lam+2*G,     0,  0,  0],\n",
    "                  [0,         0,       0,     G,  0,  0],\n",
    "                  [0,         0,       0,     0,  G,  0],\n",
    "                  [0,         0,       0,     0,  0,  G]])\n",
    "    return C"
   ]
  },
  {
   "cell_type": "code",
   "execution_count": null,
   "metadata": {},
   "outputs": [],
   "source": [
    "def CTISO(C1111, C3333, C2323, C1122, C1133):\n",
    "    \"\"\"\n",
    "    transverse isotropic stiffness matrix in Voigt notation\n",
    "    \"\"\"\n",
    "    C = np.array([[C1111, C1122,    C1133,      0,      0,              0],\n",
    "                  [C1122, C1111,    C1133,      0,      0,              0],\n",
    "                  [C1133, C1133,    C3333,      0,      0,              0],\n",
    "                  [0,         0,        0,  C2323,      0,              0],\n",
    "                  [0,         0,        0,      0,  C2323,              0],\n",
    "                  [0,         0,        0,      0,      0, (C1111-C1122)/2]])\n",
    "    return C"
   ]
  },
  {
   "cell_type": "code",
   "execution_count": null,
   "metadata": {},
   "outputs": [],
   "source": [
    "def CCUBIC( C1111, C1122, C2323 ):\n",
    "    \"\"\"\n",
    "    cubic symmetric stiffness matrix in Voigt notation\n",
    "    \"\"\"\n",
    "    C = np.array([[C1111, C1122,  C1122,       0,      0,      0],\n",
    "                  [C1122, C1111,  C1122,       0,      0,      0],\n",
    "                  [C1122, C1122,  C1111,       0,      0,      0],\n",
    "                  [    0,      0,      0,  C2323,      0,      0],\n",
    "                  [    0,      0,      0,      0,  C2323,      0],\n",
    "                  [    0,      0,      0,      0,      0,  C2323]])\n",
    "    return C"
   ]
  },
  {
   "cell_type": "markdown",
   "metadata": {},
   "source": [
    "## Functions"
   ]
  },
  {
   "cell_type": "markdown",
   "metadata": {},
   "source": [
    "####  Functions to be applied to tensors in Mandel notation"
   ]
  },
  {
   "cell_type": "code",
   "execution_count": null,
   "metadata": {},
   "outputs": [],
   "source": [
    "def scalar(A, B):\n",
    "    return A.T.dot(B)\n",
    "\n",
    "def deviator(A):\n",
    "    trA = sum(A[0:3])\n",
    "    return A - 1/3 * trA * np.array([1, 1, 1, 0, 0, 0])\n",
    "\n",
    "def norm_fro(A):\n",
    "    return np.sqrt(scalar(A,A))"
   ]
  },
  {
   "cell_type": "markdown",
   "metadata": {},
   "source": [
    "####  Switching between Voigt and Mandel notation for 2nd order tensors in vector form"
   ]
  },
  {
   "cell_type": "code",
   "execution_count": null,
   "metadata": {},
   "outputs": [],
   "source": [
    "def D(alpha):\n",
    "    return np.array([1.,1.,1.,alpha,alpha,alpha])"
   ]
  },
  {
   "cell_type": "code",
   "execution_count": null,
   "metadata": {},
   "outputs": [],
   "source": [
    "def sigma_to_eps(S):\n",
    "    assert S.shape == (6,)\n",
    "    alpha = 2.\n",
    "    return D(alpha)*S\n",
    "    \n",
    "def eps_to_sigma(E):\n",
    "    assert E.shape == (6,)\n",
    "    alpha = 1./2.\n",
    "    return D(alpha)*E\n",
    "\n",
    "def sigma_to_mandel(S):\n",
    "    assert S.shape == (6,), S.shape\n",
    "    alpha = np.sqrt(2.0)\n",
    "    return D(alpha)*S\n",
    "    \n",
    "def eps_to_mandel(E):\n",
    "    assert E.shape == (6,)\n",
    "    alpha = np.sqrt(2)/2.\n",
    "    return D(alpha)*E\n",
    "\n",
    "def mandel_to_eps(A_hat):\n",
    "    assert A_hat.shape == (6,)\n",
    "    alpha = 2./np.sqrt(2)\n",
    "    return D(alpha)*A_hat\n",
    "\n",
    "def mandel_to_sigma(A_hat):\n",
    "    assert A_hat.shape == (6,)\n",
    "    alpha = 1./np.sqrt(2)\n",
    "    return D(alpha)*A_hat"
   ]
  },
  {
   "cell_type": "markdown",
   "metadata": {},
   "source": [
    "####  Switching between Voigt and Mandel notation for 4th order tensors in matrix form\n",
    "$\n",
    "\\hat C = D_{\\sqrt{2}} C D_{\\sqrt{2}}\n",
    "$\n",
    "\n",
    "$\n",
    "C = D_{\\sqrt{2}/2} \\hat C D_{\\sqrt{2}/2}\n",
    "$"
   ]
  },
  {
   "cell_type": "code",
   "execution_count": null,
   "metadata": {},
   "outputs": [],
   "source": [
    "def C_to_mandel(C):\n",
    "    assert C.shape[0] == C.shape[1], \"C is not square!\"\n",
    "    C_hat = C.copy()\n",
    "    alpha = np.sqrt(2.0)\n",
    "    for i in range(C.shape[0]):\n",
    "            C_hat[i,:] = C_hat[i,:] * D(alpha)\n",
    "            C_hat[:,i] = C_hat[:,i] * D(alpha)\n",
    "    return C_hat\n",
    "\n",
    "\n",
    "def Chat_to_voigt(C_hat):\n",
    "    assert C_hat.shape[0] == C_hat.shape[1], \"C is not square!\"\n",
    "    C = C_hat.copy()\n",
    "    alpha = np.sqrt(2.0)/2.0\n",
    "    for i in range(C.shape[0]):\n",
    "            C[i,:] = C[i,:] * D(alpha)\n",
    "            C[:,i] = C[:,i] * D(alpha)\n",
    "    return C\n",
    "    "
   ]
  },
  {
   "cell_type": "code",
   "execution_count": null,
   "metadata": {},
   "outputs": [],
   "source": [
    "def StressStrain(C, E):\n",
    "    \"\"\"\n",
    "    Linear stresses S as function of strains E, material C\n",
    "    E and C must be given in non-normalized Voigt notation\n",
    "    e.g. E = (E11,E22,E33,2E23,2E13,2E12)\n",
    "    \n",
    "    S is therefore:\n",
    "    S = (S11,S22,S33,S23,S13,S12)\n",
    "    \"\"\"\n",
    "    S = C.dot(E)\n",
    "    return S"
   ]
  },
  {
   "cell_type": "code",
   "execution_count": null,
   "metadata": {},
   "outputs": [],
   "source": [
    "def SigmaMises(S):\n",
    "    \"\"\"\n",
    "    von Mises stress for a given stress vector S\n",
    "    S must be given in non-normalized Voigt notation\n",
    "    i.e. S = (S11,S22,S33,S23,S13,S12)\n",
    "    \"\"\"\n",
    "    # convert to Mandel notation\n",
    "    S = sigma_to_mandel(S)\n",
    "    rt32 = np.sqrt(3/2)\n",
    "    devS = deviator(S)\n",
    "    return rt32*norm_fro(devS)"
   ]
  },
  {
   "cell_type": "markdown",
   "metadata": {},
   "source": [
    "### Some Tests"
   ]
  },
  {
   "cell_type": "code",
   "execution_count": null,
   "metadata": {},
   "outputs": [],
   "source": [
    "C = CISO(210e3, 0.3)\n",
    "# E in Voigt Notation\n",
    "E = np.array([1, 0, 0., 0., 0., 0.])\n",
    "S=StressStrain(C, E)\n",
    "print(S)"
   ]
  },
  {
   "cell_type": "code",
   "execution_count": null,
   "metadata": {},
   "outputs": [],
   "source": [
    "S = np.array([-1260,800,0,0,0,500])\n",
    "assert round(SigmaMises(S),6) == 1996.396754"
   ]
  },
  {
   "cell_type": "code",
   "execution_count": null,
   "metadata": {},
   "outputs": [],
   "source": [
    "C = np.ones([6,6])\n",
    "assert Chat_to_voigt(C_to_mandel(C)).all() == C.all()"
   ]
  },
  {
   "cell_type": "markdown",
   "metadata": {},
   "source": [
    "## Spectral decomposition\n",
    "### Function"
   ]
  },
  {
   "cell_type": "code",
   "execution_count": null,
   "metadata": {},
   "outputs": [],
   "source": [
    "def SpectralDecomposition(C):\n",
    "    assert np.allclose(C, C.T, atol=1**(-PRECISION)), \"C is not symmetric\"\n",
    "    \n",
    "    # Transformation Voigt -> Mandel\n",
    "    C_hat = C_to_mandel(C)\n",
    "    \n",
    "    # EW,EV\n",
    "    lambdas, vecs = la.eig(C_hat)\n",
    "    lambdas = lambdas.round(PRECISION)\n",
    "    assert lambdas.all() > 0, \"C is not positive definite\"\n",
    "    \n",
    "    P = []\n",
    "    s_lambdas =  []\n",
    "\n",
    "    for i in range(len(lambdas)):\n",
    "        y = lambdas[i]\n",
    "        v = vecs[i]\n",
    "        if y in s_lambdas:\n",
    "            j = s_lambdas.index(y)\n",
    "            w = v - P[j].dot(v)\n",
    "            #assert np.inner(w,v) == 0, \"v and w should be orthogonal\"\n",
    "            w = w / la.norm(w, 2)\n",
    "            P[j] = P[j] + np.outer(w,w)\n",
    "        else:\n",
    "            s_lambdas.append(y)\n",
    "            w = np.outer(v,v)\n",
    "            w = w / la.norm(w, 2)\n",
    "            P.append(w)\n",
    "            \n",
    "    #Transformation Mandel -> Voigt\n",
    "    P = [Chat_to_voigt(p) for p in P]\n",
    "        \n",
    "    return s_lambdas, P"
   ]
  },
  {
   "cell_type": "markdown",
   "metadata": {},
   "source": [
    "### Verification\n",
    "Reconstruction of stiffness matrix:\n",
    "$\n",
    "C = \\sum_{i} \\lambda_i P_i\n",
    "$"
   ]
  },
  {
   "cell_type": "code",
   "execution_count": null,
   "metadata": {},
   "outputs": [],
   "source": [
    "C = CISO(210e3, 0.3)\n",
    "lambdas, P = SpectralDecomposition(C)\n",
    "C_new = sum([lambdas[i]*P[i] for i in range(len(lambdas))])\n",
    "print(\"C original:\")\n",
    "matprint(C, fmt=matformat)\n",
    "print(\"C from projectors:\")\n",
    "matprint(C_new, fmt=matformat)"
   ]
  },
  {
   "cell_type": "markdown",
   "metadata": {},
   "source": [
    "In other words, something's not right. But I can't figure out what it is... going to ask in class.\n"
   ]
  }
 ],
 "metadata": {
  "kernelspec": {
   "display_name": "Python 3",
   "language": "python",
   "name": "python3"
  },
  "language_info": {
   "codemirror_mode": {
    "name": "ipython",
    "version": 3
   },
   "file_extension": ".py",
   "mimetype": "text/x-python",
   "name": "python",
   "nbconvert_exporter": "python",
   "pygments_lexer": "ipython3",
   "version": "3.6.7"
  },
  "toc": {
   "base_numbering": 1,
   "nav_menu": {},
   "number_sections": true,
   "sideBar": true,
   "skip_h1_title": false,
   "title_cell": "Table of Contents",
   "title_sidebar": "Contents",
   "toc_cell": false,
   "toc_position": {},
   "toc_section_display": true,
   "toc_window_display": false
  }
 },
 "nbformat": 4,
 "nbformat_minor": 2
}
