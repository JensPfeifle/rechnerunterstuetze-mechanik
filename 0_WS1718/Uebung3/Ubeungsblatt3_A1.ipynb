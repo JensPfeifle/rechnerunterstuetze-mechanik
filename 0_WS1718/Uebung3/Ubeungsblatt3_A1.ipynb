{
 "cells": [
  {
   "cell_type": "code",
   "execution_count": 4,
   "metadata": {},
   "outputs": [],
   "source": [
    "%reset -fs\n",
    "import numpy as np\n",
    "import numpy.linalg as la\n",
    "import scipy.sparse as sp\n",
    "import matplotlib.pyplot as plt"
   ]
  },
  {
   "cell_type": "markdown",
   "metadata": {},
   "source": [
    "# Uebungsblatt 3 - Aufgabe 1"
   ]
  },
  {
   "cell_type": "markdown",
   "metadata": {},
   "source": [
    "## (a)"
   ]
  },
  {
   "cell_type": "markdown",
   "metadata": {},
   "source": [
    "### LUP-Faktorisierung"
   ]
  },
  {
   "cell_type": "code",
   "execution_count": 5,
   "metadata": {},
   "outputs": [],
   "source": [
    "def LUPFaktorisierung(A):\n",
    "    if not A.shape[0] == A.shape[1]:\n",
    "        print (\"A is not square.\")\n",
    "        return 0,0\n",
    "    N = A.shape[0]\n",
    "    LU = np.copy(A.astype(np.float64))\n",
    "    P = np.eye(N)\n",
    "\n",
    "    npivot = 0\n",
    "\n",
    "    #LU[0][0] unkritisch, da LU[0][0] = L[0][0] => (keine Division durch LU[1][1])\n",
    "\n",
    "    for i in range(0,N):\n",
    "        for j in range(0,N):\n",
    "            if ( j < i ):\n",
    "                # Berechnung von L\n",
    "                LU[i,j] = str(((1/LU[j,j])*(LU[i,j]-sum([LU[i,k]*LU[k,j] for k in range(0,j)]))))\n",
    "            else:  \n",
    "                # Berechnung von U\n",
    "                LU[i,j] = LU[i,j]-sum([LU[i,k]*LU[k,j] for k in range(0,i)])\n",
    "\n",
    "        # Spalten-Pivotsuche:\n",
    "        # Maximales Element in der aktuellen Zeile von U\n",
    "        maxel = la.norm(LU[i,i:N],np.inf)\n",
    "\n",
    "        valmax = abs(LU[i,i]) # LU[i,i] ist kritisches Element\n",
    "        n = i # (Zaehl)index der Zeile mit dem groesstem Element\n",
    "\n",
    "        if (valmax/maxel < 0.25):  # Probleme mit divide by 0?\n",
    "            for k in range(i+1,N):\n",
    "                tmp = abs(LU[i,k])\n",
    "                if tmp > valmax:\n",
    "                    n = k\n",
    "                    valmax = tmp\n",
    "            npivot = npivot + 1\n",
    "\n",
    "            if not (i == n):\n",
    "                #Vertausche LU[:][i] mit LU[:][n] und P[i][:] mit P[n][:]\n",
    "                # In-place switching\n",
    "                LU[:,i], LU[:,n] = LU[:,n], LU[:,i].copy()\n",
    "                P[n,:], P[i,:] = P[i,:], P[n,:].copy()    \n",
    "\n",
    "    return (LU,P)"
   ]
  },
  {
   "cell_type": "markdown",
   "metadata": {},
   "source": [
    "### Lösung mit LUP"
   ]
  },
  {
   "cell_type": "code",
   "execution_count": 9,
   "metadata": {},
   "outputs": [
    {
     "name": "stdout",
     "output_type": "stream",
     "text": [
      "r: [[  7.39495798]\n",
      " [ -3.69747899]\n",
      " [-40.75048229]\n",
      " [ 30.24660759]]\n",
      "e: 8.233477366931409\n",
      "r: [[   6.77511902]\n",
      " [ -27.82755951]\n",
      " [ 183.81455797]\n",
      " [ -70.73827163]]\n",
      "e: 31.869915924051398\n",
      "r: [[   6.90750823]\n",
      " [  97.01664588]\n",
      " [-941.10754473]\n",
      " [ 429.44422028]]\n",
      "e: 166.37659570452573\n",
      "r: [[    6.88713516]\n",
      " [ -527.95883158]\n",
      " [ 4683.880194  ]\n",
      " [-2070.58437152]]\n",
      "e: 824.3854163327537\n",
      "r: [[  6.89041457e+00]\n",
      " [  2.59703723e+03]\n",
      " [ -2.34411178e+04]\n",
      " [  1.04294202e+04]]\n",
      "e: 4129.330552046782\n",
      "r: [[  6.88989034e+00]\n",
      " [ -1.30279621e+04]\n",
      " [  1.17183882e+05]\n",
      " [ -5.20705805e+04]]\n",
      "e: 20639.23036026411\n",
      "r: [[  6.88997423e+00]\n",
      " [  6.50970378e+04]\n",
      " [ -5.85941118e+05]\n",
      " [  2.60429420e+05]]\n",
      "e: 103203.57040774572\n",
      "r: [[  6.88996081e+00]\n",
      " [ -3.25527962e+05]\n",
      " [  2.92968388e+06]\n",
      " [ -1.30207058e+06]]\n",
      "e: 516010.43267182214\n",
      "r: [[  6.88996296e+00]\n",
      " [  1.62759704e+06]\n",
      " [ -1.46484411e+07]\n",
      " [  6.51042942e+06]]\n",
      "e: 2580059.5825736644\n",
      "r: [[  6.88996261e+00]\n",
      " [ -8.13802796e+06]\n",
      " [  7.32421839e+07]\n",
      " [ -3.25520706e+07]]\n",
      "e: 12900290.493623251\n",
      "r: [[  6.88996267e+00]\n",
      " [  4.06900970e+07]\n",
      " [ -3.66210941e+08]\n",
      " [  1.62760429e+08]]\n",
      "e: 64501459.887355216\n",
      "[[  0.           0.           0.           0.        ]\n",
      " [  0.           4.8          0.           4.8       ]\n",
      " [-18.          -2.4          0.          22.8       ]\n",
      " [  8.          -5.6         -1.15966387  -3.57983193]]\n"
     ]
    }
   ],
   "source": [
    "%reset -f array\n",
    "A = np.array([\n",
    "    [0,5,0,4],\n",
    "    [-1,-6,0,-2],\n",
    "    [9,3,-2,1],\n",
    "    [-4,7,-1,3]])\n",
    "y = np.array([\n",
    "    [5],\n",
    "    [-1],\n",
    "    [2],\n",
    "    [3]])\n",
    "LU,P = LUPFaktorisierung(A)\n",
    "\n",
    "EPSILON =  0.01 # Relative Toleranz\n",
    "JMAX    =  10 # Max. Iterationen\n",
    "N       =  LU.shape[0] # Dimension von L/U/P\n",
    "\n",
    "j =  0  # Anzahl Iterationen\n",
    "r =  -1*np.copy(y) # Residuum\n",
    "x =  np.zeros([N,1]) # Lösungsvektor\n",
    "dx =  np.zeros([N,1]) # Lösungsvektor\n",
    "z =  np.zeros([N,1])  # Zwischenvektor für Vor-/Rückwärtseinsetzen\n",
    "v =  np.zeros([N,1])  # Zwischenvektor für Permutation\n",
    "e =  la.norm(r,2)/la.norm(y,2)  # Relativer Fehler\n",
    "\n",
    "while (e > EPSILON and j <= JMAX):\n",
    "    # Lz = y lösen nach z:\n",
    "    z[0] = y[0]\n",
    "    for i in range(1,N):\n",
    "        z[i] = y[i]-sum([LU[i,k]*z[k] for k in range(0,i)])\n",
    "\n",
    "    # Uv = z lösen nach v:\n",
    "    v[N-1] = z[N-1]/LU[N-1,N-1]\n",
    "    for i in reversed(range(0,N-1)):\n",
    "        v[i] = (1/LU[i,i])*(z[i] - sum([LU[k,i]*v[i] for k in range(i+1,N)]))\n",
    "    # x aktualisieren:\n",
    "    x = (P.T).dot(v)\n",
    "    # Zähler inkrementieren:\n",
    "    j=j+1  \n",
    "    # Residuum aktualisieren\n",
    "    r = A.dot(x)-y\n",
    "    # Relativen Fehler berechnen:\n",
    "    e = la.norm(r,2)/la.norm(y,2)\n",
    "    \n",
    "    print(\"r: {}\".format(r))\n",
    "    print(\"e: {}\".format(e))\n",
    "\n",
    "print(LU.dot(P) - A)"
   ]
  },
  {
   "cell_type": "markdown",
   "metadata": {},
   "source": [
    "### Lösung mit Scipy LU"
   ]
  },
  {
   "cell_type": "code",
   "execution_count": 10,
   "metadata": {},
   "outputs": [
    {
     "name": "stdout",
     "output_type": "stream",
     "text": [
      "[[ 0  5  0  4]\n",
      " [-1 -6  0 -2]\n",
      " [ 9  3 -2  1]\n",
      " [-4  7 -1  3]]\n",
      "L:\n",
      "[[ 1.          0.          0.          0.        ]\n",
      " [-0.44444444  1.          0.          0.        ]\n",
      " [-0.11111111 -0.68        1.          0.        ]\n",
      " [ 0.          0.6        -0.75221239  1.        ]]\n",
      "U:\n",
      "[[ 9.          3.         -2.          1.        ]\n",
      " [ 0.          8.33333333 -1.88888889  3.44444444]\n",
      " [ 0.          0.         -1.50666667  0.45333333]\n",
      " [ 0.          0.          0.          2.27433628]]\n",
      "P:\n",
      "[[ 0.  0.  0.  1.]\n",
      " [ 0.  0.  1.  0.]\n",
      " [ 1.  0.  0.  0.]\n",
      " [ 0.  1.  0.  0.]]\n"
     ]
    },
    {
     "data": {
      "text/plain": [
       "array([[ 0.01167315],\n",
       "       [-0.43190661],\n",
       "       [-0.70038911],\n",
       "       [ 1.78988327]])"
      ]
     },
     "execution_count": 10,
     "metadata": {},
     "output_type": "execute_result"
    }
   ],
   "source": [
    "from scipy.linalg import lu,lu_factor,lu_solve\n",
    "A = np.array([\n",
    "    [0,5,0,4],\n",
    "    [-1,-6,0,-2],\n",
    "    [9,3,-2,1],\n",
    "    [-4,7,-1,3]])\n",
    "y = np.array([\n",
    "    [5],\n",
    "    [-1],\n",
    "    [2],\n",
    "    [3]])\n",
    "print(A)\n",
    "P,L,U = lu(A) # nutzt permutation matrix\n",
    "print (\"L:\")\n",
    "print (L)\n",
    "print (\"U:\")\n",
    "print (U)\n",
    "print (\"P:\")\n",
    "print (P)\n",
    "lu = lu_factor(A)\n",
    "lu_solve(lu,y)"
   ]
  }
 ],
 "metadata": {
  "kernelspec": {
   "display_name": "Python 3",
   "language": "python",
   "name": "python3"
  },
  "language_info": {
   "codemirror_mode": {
    "name": "ipython",
    "version": 3
   },
   "file_extension": ".py",
   "mimetype": "text/x-python",
   "name": "python",
   "nbconvert_exporter": "python",
   "pygments_lexer": "ipython3",
   "version": "3.5.2"
  }
 },
 "nbformat": 4,
 "nbformat_minor": 2
}
