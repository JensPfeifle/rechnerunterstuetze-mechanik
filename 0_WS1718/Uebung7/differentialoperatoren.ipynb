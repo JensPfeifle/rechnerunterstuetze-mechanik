{
 "cells": [
  {
   "cell_type": "code",
   "execution_count": 1,
   "metadata": {},
   "outputs": [],
   "source": [
    "import numpy as np\n",
    "import scipy.sparse as sp\n",
    "import matplotlib.pyplot as plt"
   ]
  },
  {
   "cell_type": "markdown",
   "metadata": {},
   "source": [
    "### Systemmatrix DX zur Ableitung nach x"
   ]
  },
  {
   "cell_type": "code",
   "execution_count": 2,
   "metadata": {},
   "outputs": [],
   "source": [
    "def mp_matrix(N):\n",
    "    h = 1/N\n",
    "    diag0 = np.repeat([0],N); diag0[0] = -1; diag0[-1] = 1\n",
    "    diag1 = np.repeat([0.5],N-1); diag1[0] = 1\n",
    "    diagm1 = np.repeat([-0.5],N-1); diagm1[-1] = -1\n",
    "    A_mp = sp.diags((diag0, diag1, diagm1),[0,1,-1])\n",
    "    return A_mp\n",
    "    return (1/h)*A_mp\n",
    "\n",
    "def DX(N):\n",
    "    mp_block = mp_matrix(N)\n",
    "    DX = sp.block_diag([mp_block.todense()]*N)\n",
    "    return DX"
   ]
  },
  {
   "cell_type": "markdown",
   "metadata": {},
   "source": [
    "### Systemmatrix DY zur Ableitung nach y"
   ]
  },
  {
   "cell_type": "code",
   "execution_count": 3,
   "metadata": {},
   "outputs": [],
   "source": [
    "def DY(N):\n",
    "    data = np.concatenate([[-1,1],[-0.5,0.5]*(N-2),[-1,1]])\n",
    "    iidx = np.repeat([N*i for i in range(0,N)],2)\n",
    "    j_middle = np.concatenate([[N*i,N*(i+2)] for i in range(0,N-2)])\n",
    "    jidx = np.concatenate([[0,N],j_middle,[N*(N-2),N*(N-1)]])\n",
    "    \n",
    "    joined_iidx = np.concatenate([iidx + np.ones(2*N)*n for n in range(N)])\n",
    "    joined_jidx = np.concatenate([jidx + np.ones(2*N)*n for n in range(N)])\n",
    "    joined_data = np.tile(data,N)\n",
    "\n",
    "    DY = sp.coo_matrix((joined_data,(joined_iidx,joined_jidx)))\n",
    "    return DY"
   ]
  },
  {
   "cell_type": "markdown",
   "metadata": {},
   "source": [
    "### Zweidimensionaler Differenzialoperator DIFF"
   ]
  },
  {
   "cell_type": "code",
   "execution_count": 5,
   "metadata": {},
   "outputs": [],
   "source": [
    "def apply_DX(f,N):\n",
    "    return DX(N).dot(f)\n",
    "\n",
    "def apply_DY(f,N):\n",
    "    return DY(N).dot(f)\n",
    "\n",
    "def DIFF(N):\n",
    "    return DX(N)+DY(N)\n",
    "\n",
    "def apply_DIFF(f,N):\n",
    "    return (DX(N)+DY(N)).dot(f)\n",
    "\n",
    "def apply_GRAD(f,N):\n",
    "    return np.array([DX(N).dot(f),DY(N).dot(f)])\n",
    "\n",
    "def LAGR(N):\n",
    "    x = DX(N)\n",
    "    dy = DY(N)\n",
    "    dx.dot(dx) + dy.dot(dy)\n",
    "\n",
    "def apply_LAGR(f,N):\n",
    "    dx = DX(N)\n",
    "    dy = DY(N)\n",
    "    return (dx.dot(dx) + dy.dot(dy)).dot(f)"
   ]
  }
 ],
 "metadata": {
  "kernelspec": {
   "display_name": "Python 3",
   "language": "python",
   "name": "python3"
  },
  "language_info": {
   "codemirror_mode": {
    "name": "ipython",
    "version": 3
   },
   "file_extension": ".py",
   "mimetype": "text/x-python",
   "name": "python",
   "nbconvert_exporter": "python",
   "pygments_lexer": "ipython3",
   "version": "3.5.2"
  }
 },
 "nbformat": 4,
 "nbformat_minor": 2
}
