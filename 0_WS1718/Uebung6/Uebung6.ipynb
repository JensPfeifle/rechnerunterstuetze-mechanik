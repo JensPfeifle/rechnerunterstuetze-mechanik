{
 "cells": [
  {
   "cell_type": "code",
   "execution_count": null,
   "metadata": {},
   "outputs": [],
   "source": [
    "import numpy as np\n",
    "import scipy.sparse as sp\n",
    "import matplotlib.pyplot as plt\n",
    "%matplotlib inline\n",
    "plt.style.use('bmh')"
   ]
  },
  {
   "cell_type": "markdown",
   "metadata": {},
   "source": [
    "### Koordinatenumrechungen für Äquidistante Gitter"
   ]
  },
  {
   "cell_type": "code",
   "execution_count": null,
   "metadata": {},
   "outputs": [],
   "source": [
    "def calcIndex(i,j,N):\n",
    "    # Gittercoordinaten i,j --> Arrayindex\n",
    "    return N*(j) + (i)"
   ]
  },
  {
   "cell_type": "code",
   "execution_count": null,
   "metadata": {},
   "outputs": [],
   "source": [
    "def calcRaumkoord(i,j,h):\n",
    "    # Gittercoordinaten i,j --> Raumkoordinaten x,y\n",
    "    return (i)*h, (j)*h\n",
    "\n",
    "# gitterkoordinaten i,j aus x,y\n",
    "def calcGitterkoord(x,y,h):\n",
    "    # Raumkoordinaten x,y --> Gittercoordinaten i,j\n",
    "    return x/h,y/h"
   ]
  },
  {
   "cell_type": "markdown",
   "metadata": {},
   "source": [
    "### Flatten & Reshape for 1D Gitter"
   ]
  },
  {
   "cell_type": "code",
   "execution_count": null,
   "metadata": {},
   "outputs": [],
   "source": [
    "def platt(gittermatrix):\n",
    "    return np.flip(gittermatrix,0).ravel()\n",
    "\n",
    "def stapel(gittervektor):\n",
    "    N = int(np.sqrt(gittervektor.size))\n",
    "    return np.flip(gittervektor.reshape(N,N),0) "
   ]
  },
  {
   "cell_type": "markdown",
   "metadata": {},
   "source": [
    "### Graphische Darstellung der Knoten"
   ]
  },
  {
   "cell_type": "code",
   "execution_count": null,
   "metadata": {},
   "outputs": [],
   "source": [
    "N = 5  # Anzahl Knoten\n",
    "Kantenlaenge = 1\n",
    "h = Kantenlaenge/(N-1)\n",
    "\n",
    "fig, ax = plt.subplots()\n",
    "x = np.linspace(0,Kantenlaenge,N)\n",
    "y = np.linspace(0,Kantenlaenge,N)\n",
    "\n",
    "X,Y = np.meshgrid(x,y)\n",
    "ax.scatter(X,Y)\n",
    "ax.xaxis.set_major_locator(plt.MultipleLocator(h))\n",
    "ax.yaxis.set_major_locator(plt.MultipleLocator(h))\n",
    "plt.show()"
   ]
  },
  {
   "cell_type": "markdown",
   "metadata": {},
   "source": [
    "### Systemmatrix DX zur Ableitung nach x"
   ]
  },
  {
   "cell_type": "code",
   "execution_count": null,
   "metadata": {},
   "outputs": [],
   "source": [
    "def mp_matrix(N):\n",
    "    h = 1/N\n",
    "    diag0 = np.repeat([0],N); diag0[0] = -1; diag0[-1] = 1\n",
    "    diag1 = np.repeat([0.5],N-1); diag1[0] = 1\n",
    "    diagm1 = np.repeat([-0.5],N-1); diagm1[-1] = -1\n",
    "    A_mp = sp.diags((diag0, diag1, diagm1),[0,1,-1])\n",
    "    return A_mp\n",
    "    return (1/h)*A_mp\n",
    "\n",
    "def DX(N):\n",
    "    mp_block = mp_matrix(N)\n",
    "    DX = sp.block_diag([mp_block.todense()]*N)\n",
    "    return DX"
   ]
  },
  {
   "cell_type": "markdown",
   "metadata": {},
   "source": [
    "### Systemmatrix DY zur Ableitung nach y"
   ]
  },
  {
   "cell_type": "code",
   "execution_count": null,
   "metadata": {},
   "outputs": [],
   "source": [
    "def DY(N):\n",
    "    data = np.concatenate([[-1,1],[-0.5,0.5]*(N-2),[-1,1]])\n",
    "    iidx = np.repeat([N*i for i in range(0,N)],2)\n",
    "    j_middle = np.concatenate([[N*i,N*(i+2)] for i in range(0,N-2)])\n",
    "    jidx = np.concatenate([[0,N],j_middle,[N*(N-2),N*(N-1)]])\n",
    "    \n",
    "    joined_iidx = np.concatenate([iidx + np.ones(2*N)*n for n in range(N)])\n",
    "    joined_jidx = np.concatenate([jidx + np.ones(2*N)*n for n in range(N)])\n",
    "    joined_data = np.tile(data,N)\n",
    "\n",
    "    DY = sp.coo_matrix((joined_data,(joined_iidx,joined_jidx)))\n",
    "    return -1*DY"
   ]
  },
  {
   "cell_type": "code",
   "execution_count": null,
   "metadata": {},
   "outputs": [],
   "source": [
    "DY(3).todense()"
   ]
  },
  {
   "cell_type": "code",
   "execution_count": null,
   "metadata": {},
   "outputs": [],
   "source": [
    "DX(3).todense()"
   ]
  },
  {
   "cell_type": "markdown",
   "metadata": {},
   "source": [
    "### Zweidimensionaler Differenzialoperator DIFF & LAPL"
   ]
  },
  {
   "cell_type": "code",
   "execution_count": null,
   "metadata": {},
   "outputs": [],
   "source": [
    "def DIFF(N):\n",
    "    return DX(N)+DY(N)\n",
    "\n",
    "def apply_GRAD(f,N):\n",
    "    return np.array([DX(N).dot(f),DY(N).dot(f)])\n",
    "\n",
    "def LAPL(N):\n",
    "    dx = DX(N)\n",
    "    dy = DY(N)\n",
    "    return dx.dot(dx) + dy.dot(dy)"
   ]
  },
  {
   "cell_type": "markdown",
   "metadata": {},
   "source": [
    "### Visualisierung der Differenzialoperatoren"
   ]
  },
  {
   "cell_type": "code",
   "execution_count": null,
   "metadata": {},
   "outputs": [],
   "source": [
    "N = 5\n",
    "spyfig, axarr = plt.subplots(4,1,figsize=(5,15))\n",
    "axarr[0].spy(DX(N),precision=0.01,markersize=1)\n",
    "axarr[0].set_title('DX')\n",
    "axarr[1].spy(DY(N),precision=0.01,markersize=1)\n",
    "axarr[1].set_title('DY')\n",
    "axarr[2].spy(DIFF(N),precision=0.01,markersize=1)\n",
    "axarr[2].set_title('DIFF')\n",
    "axarr[3].spy(LAPL(N),precision=0.01,markersize=1)\n",
    "axarr[3].set_title('LAPL')\n",
    "plt.show()"
   ]
  },
  {
   "cell_type": "markdown",
   "metadata": {},
   "source": [
    "### Exakte Funktionen"
   ]
  },
  {
   "cell_type": "code",
   "execution_count": null,
   "metadata": {},
   "outputs": [],
   "source": [
    "f1 = lambda x,y: np.exp(-x*y)\n",
    "dx_f1 = lambda x,y: -y*np.exp(-x*y)\n",
    "dy_f1 = lambda x,y: -x*np.exp(-x*y)\n",
    "diff_f1 = lambda x,y: -y*np.exp(-x*y) - x*np.exp(-x*y)\n",
    "lap_f1 = lambda x,y: np.exp(-x*y)*(x**2 + y**2)\n",
    "\n",
    "f2 = lambda x,y: np.cos(10*x*y)\n",
    "dx_f2 = lambda x,y: -10*y*np.sin(10*x*y)\n",
    "dy_f2 = lambda x,y: -10*x*np.sin(10*x*y)\n",
    "diff_f2 = lambda x,y: -10*y*np.sin(10*x*y) + -10*x*np.sin(10*x*y)\n",
    "lap_f2 = lambda x,y: -100*(x**2 + y**2)*np.cos(10*x*y)"
   ]
  },
  {
   "cell_type": "code",
   "execution_count": null,
   "metadata": {},
   "outputs": [],
   "source": [
    "N = 50\n",
    "\n",
    "func1 = f1\n",
    "func2 = f2\n",
    "opfunc1 = lap_f1\n",
    "opfunc2 = lap_f2\n",
    "\n",
    "fig, axes = plt.subplots(1,2)\n",
    "x = np.linspace(-1,1,N)\n",
    "y = np.linspace(-1,1,N)\n",
    "X,Y = np.meshgrid(x,y)\n",
    "axes[0].contourf(X,Y,func1(X,Y))\n",
    "axes[1].contourf(X,Y,func2(X,Y))\n",
    "plt.suptitle(\"Originalfunktionen f1 & f2\")\n",
    "plt.show()\n",
    "\n",
    "\n",
    "fig, axes = plt.subplots(1,2)\n",
    "x = np.linspace(-1,1,N)\n",
    "y = np.linspace(-1,1,N)\n",
    "X,Y = np.meshgrid(x,y)\n",
    "axes[0].contourf(X,Y,opfunc1(X,Y))\n",
    "axes[1].contourf(X,Y,opfunc2(X,Y))\n",
    "plt.suptitle(\"Analytisch Laplace f1 & f2\")\n",
    "plt.show()"
   ]
  },
  {
   "cell_type": "markdown",
   "metadata": {},
   "source": [
    "### Vgl. Analytische & Numerische Funktionen"
   ]
  },
  {
   "cell_type": "code",
   "execution_count": null,
   "metadata": {},
   "outputs": [],
   "source": [
    "N = 50\n",
    "x = np.linspace(-1,1,N)\n",
    "y = np.linspace(-1,1,N)\n",
    "X,Y = np.meshgrid(x,y)\n",
    "\n",
    "f1 = lambda x,y: np.exp(-x*y)\n",
    "f2 = lambda x,y: np.cos(10*x*y)\n",
    "\n",
    "func1 = lap_f1\n",
    "func2 = lap_f2\n",
    "\n",
    "F = f1(X,Y)\n",
    "flatF = platt(F)\n",
    "flatlaplF = LAPL(N).dot(flatF)\n",
    "laplF = stapel(flatlaplF)\n",
    "opfunc1 = laplF\n",
    "\n",
    "F = f2(X,Y)\n",
    "flatF = platt(F)\n",
    "flatlaplF = LAPL(N).dot(flatF)\n",
    "laplF = stapel(flatlaplF)\n",
    "opfunc2 = laplF\n",
    "\n",
    "fig, axes = plt.subplots(1,2)\n",
    "x = np.linspace(-1,1,N)\n",
    "y = np.linspace(-1,1,N)\n",
    "X,Y = np.meshgrid(x,y)\n",
    "axes[0].contourf(X,Y,func1(X,Y))\n",
    "axes[1].contourf(X,Y,opfunc1)\n",
    "plt.suptitle(\"Laplace f1 analytisch & numerisch\")\n",
    "plt.show()\n",
    "\n",
    "fig, axes = plt.subplots(1,2)\n",
    "x = np.linspace(-1,1,N)\n",
    "y = np.linspace(-1,1,N)\n",
    "X,Y = np.meshgrid(x,y)\n",
    "axes[0].contourf(X,Y,opfunc2)\n",
    "axes[1].contourf(X,Y,func2(X,Y))\n",
    "plt.suptitle(\"Laplace f2 analytisch & numerisch\")\n",
    "plt.show()"
   ]
  },
  {
   "cell_type": "code",
   "execution_count": null,
   "metadata": {},
   "outputs": [],
   "source": [
    "#%matplotlib qt\n",
    "N = 50\n",
    "L = 4\n",
    "h = L/N\n",
    "x = np.linspace(-L/2,L/2,N)\n",
    "y = np.linspace(-L/2,L/2,N)\n",
    "X,Y = np.meshgrid(x,y)\n",
    "\n",
    "f = f1\n",
    "opf = lap_f1\n",
    "\n",
    "F = f(X,Y)\n",
    "flatF = platt(F)\n",
    "flatlaplF = 1/h**2*LAPL(N).dot(flatF)\n",
    "laplF = stapel(flatlaplF)\n",
    "opfunc = laplF\n",
    "\n",
    "from mpl_toolkits.mplot3d import Axes3D\n",
    "fig = plt.figure()\n",
    "ax1 = fig.add_subplot(111, projection='3d')\n",
    "ax1.plot_surface(X,Y,opf(X,Y))\n",
    "ax1.set_title(\"Analytisch\")\n",
    "ax1.set_zlim3d(0,100)\n",
    "plt.show()\n",
    "\n",
    "fig2 = plt.figure()\n",
    "ax2 = fig2.add_subplot(111, projection='3d')\n",
    "ax2.plot_surface(X,Y,opfunc)\n",
    "ax2.set_title(\"Numerisch\")\n",
    "ax2.set_zlim3d(0,100)\n",
    "plt.show()"
   ]
  },
  {
   "cell_type": "code",
   "execution_count": null,
   "metadata": {
    "scrolled": false
   },
   "outputs": [],
   "source": [
    "E_dx = []\n",
    "E_dy = []\n",
    "E_diff = []\n",
    "my_Ns = [5,10,20,40]\n",
    "\n",
    "for N in my_Ns:\n",
    "    L = 2\n",
    "    h = L/(N)\n",
    "    x = np.linspace(-L/2,L/2,N)\n",
    "    y = np.linspace(-L/2,L/2,N)\n",
    "    X,Y = np.meshgrid(x,y)\n",
    "    \n",
    "    ### DX ###\n",
    "    func = f1\n",
    "    d_func = dx_f1\n",
    "    dx_ex = np.zeros([N,N])\n",
    "    #calculate exact dx_f\n",
    "    for i in range(N):\n",
    "        for j in range(N):\n",
    "            dx_ex[i,j] = d_func(i,j)\n",
    "    # calculate numeric dx_f\n",
    "    flatF = platt(func(X,Y))\n",
    "    flat_dFdx = 1/h**DX(N).dot(flatF)\n",
    "    dx_num = stapel(flat_dFdx)\n",
    "    #calculate discretisation error\n",
    "    E_dx.append(h**2 * np.sum((dx_ex - dx_num)**2))\n",
    "    \n",
    "        \n",
    "    ### DY ###\n",
    "    func = f1\n",
    "    d_func = dy_f1\n",
    "    dy_ex = np.zeros([N,N])\n",
    "    #calculate exact dx_f\n",
    "    for i in range(N):\n",
    "        for j in range(N):\n",
    "            dy_ex[i,j] = d_func(i,j)\n",
    "    # calculate numeric dx_f\n",
    "    flatF = platt(func(X,Y))\n",
    "    flat_dFdy = 1/h**DY(N).dot(flatF)\n",
    "    dy_num = stapel(flat_dFdy)\n",
    "    #calculate discretisation error\n",
    "    E_dy.append(h**2 * np.sum((dy_ex - dy_num)**2))\n",
    "    \n",
    "    ### DIFF ###\n",
    "    func = f1\n",
    "    d_func = diff_f1\n",
    "    d_ex = np.zeros([N,N])\n",
    "    #calculate exact dx_f\n",
    "    for i in range(N):\n",
    "        for j in range(N):\n",
    "            d_ex[i,j] = d_func(i,j)\n",
    "    # calculate numeric dx_f\n",
    "    flatF = platt(func(X,Y))\n",
    "    flat_dF = 1/h**DIFF(N).dot(flatF)\n",
    "    d_num = stapel(flat_dF)\n",
    "    #calculate discretisation error\n",
    "    E_diff.append(h**2 * np.sum((d_ex - d_num)**2))\n",
    "    \n",
    "    \n",
    "fix, ax = plt.subplots()\n",
    "ax.set_title(\"Fehlermaße E für verschiedene N\")\n",
    "ax.set_xlabel('N')\n",
    "ax.set_ylabel('E')\n",
    "ax.plot(my_Ns,E_dx,label='Fehler dx',color=\"red\")\n",
    "ax.plot(my_Ns,E_dy,label='Fehler dy',color=\"blue\")\n",
    "ax.plot(my_Ns,E_diff,label='Fehler diff',color=\"green\")\n",
    "ax.legend()\n",
    "plt.show()"
   ]
  },
  {
   "cell_type": "code",
   "execution_count": null,
   "metadata": {},
   "outputs": [],
   "source": [
    "no"
   ]
  },
  {
   "cell_type": "code",
   "execution_count": null,
   "metadata": {},
   "outputs": [],
   "source": []
  },
  {
   "cell_type": "code",
   "execution_count": null,
   "metadata": {},
   "outputs": [],
   "source": []
  },
  {
   "cell_type": "code",
   "execution_count": null,
   "metadata": {},
   "outputs": [],
   "source": []
  }
 ],
 "metadata": {
  "kernelspec": {
   "display_name": "Python 3",
   "language": "python",
   "name": "python3"
  },
  "language_info": {
   "codemirror_mode": {
    "name": "ipython",
    "version": 3
   },
   "file_extension": ".py",
   "mimetype": "text/x-python",
   "name": "python",
   "nbconvert_exporter": "python",
   "pygments_lexer": "ipython3",
   "version": "3.6.7"
  },
  "toc": {
   "base_numbering": 1,
   "nav_menu": {},
   "number_sections": true,
   "sideBar": true,
   "skip_h1_title": false,
   "title_cell": "Table of Contents",
   "title_sidebar": "Contents",
   "toc_cell": false,
   "toc_position": {},
   "toc_section_display": true,
   "toc_window_display": false
  }
 },
 "nbformat": 4,
 "nbformat_minor": 2
}
