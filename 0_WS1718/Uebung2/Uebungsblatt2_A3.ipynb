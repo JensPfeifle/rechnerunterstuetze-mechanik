{
 "cells": [
  {
   "cell_type": "code",
   "execution_count": 97,
   "metadata": {},
   "outputs": [],
   "source": [
    "import numpy as np\n",
    "import scipy.linalg as la"
   ]
  },
  {
   "cell_type": "markdown",
   "metadata": {},
   "source": [
    "### Aufgabe 3"
   ]
  },
  {
   "cell_type": "markdown",
   "metadata": {},
   "source": [
    "### a)"
   ]
  },
  {
   "cell_type": "code",
   "execution_count": 98,
   "metadata": {},
   "outputs": [],
   "source": [
    "A = np.array([[1,2,0.5,0,-2],[-1,6,1.2,3.4,-0.1],[0.075,1,0.39,np.sqrt(3),0],[0.6,2/3,-0.41,1,1.07],[-0.2,-0.7,0.81,4,5]])\n",
    "b = np.array([[-5],[3],[0.9],[1.42],[np.sqrt(2)]])"
   ]
  },
  {
   "cell_type": "code",
   "execution_count": 99,
   "metadata": {
    "scrolled": true
   },
   "outputs": [
    {
     "name": "stdout",
     "output_type": "stream",
     "text": [
      "A = \n",
      "[[ 1.          2.          0.5         0.         -2.        ]\n",
      " [-1.          6.          1.2         3.4        -0.1       ]\n",
      " [ 0.075       1.          0.39        1.73205081  0.        ]\n",
      " [ 0.6         0.66666667 -0.41        1.          1.07      ]\n",
      " [-0.2        -0.7         0.81        4.          5.        ]]\n",
      "b = \n",
      "[[-5.        ]\n",
      " [ 3.        ]\n",
      " [ 0.9       ]\n",
      " [ 1.42      ]\n",
      " [ 1.41421356]]\n"
     ]
    }
   ],
   "source": [
    "print ('A = \\n' + str(A))\n",
    "print ('b = \\n' + str(b)) "
   ]
  },
  {
   "cell_type": "markdown",
   "metadata": {},
   "source": [
    "#### Matrixinversion"
   ]
  },
  {
   "cell_type": "code",
   "execution_count": 100,
   "metadata": {},
   "outputs": [
    {
     "name": "stdout",
     "output_type": "stream",
     "text": [
      "x = \n",
      "[[-3.28474431]\n",
      " [-0.08266294]\n",
      " [-5.18722241]\n",
      " [ 1.87756357]\n",
      " [-0.5218407 ]]\n"
     ]
    }
   ],
   "source": [
    "A = np.array([[1,2,0.5,0,-2],[-1,6,1.2,3.4,-0.1],[0.075,1,0.39,np.sqrt(3),0],[0.6,2/3,-0.41,1,1.07],[-0.2,-0.7,0.81,4,5]])\n",
    "x = Ainv.dot(b)\n",
    "print ('x = \\n' + str(x))"
   ]
  },
  {
   "cell_type": "code",
   "execution_count": 101,
   "metadata": {},
   "outputs": [
    {
     "name": "stdout",
     "output_type": "stream",
     "text": [
      "A*x = \n",
      "[[-5.        ]\n",
      " [ 3.        ]\n",
      " [ 0.9       ]\n",
      " [ 1.42      ]\n",
      " [ 1.41421356]]\n"
     ]
    }
   ],
   "source": [
    "#Verifizieren\n",
    "print ('A*x = \\n' + str(A.dot(x)))"
   ]
  },
  {
   "cell_type": "markdown",
   "metadata": {},
   "source": [
    "#### LU-Zerlegung"
   ]
  },
  {
   "cell_type": "code",
   "execution_count": 135,
   "metadata": {},
   "outputs": [],
   "source": [
    "n = A.shape[1] #vertical size of the matrix\n",
    "L = np.eye(n)\n",
    "U = np.zeros([n,n])\n",
    "y = np.zeros(n)\n",
    "# y muss explizit zu einem Spaltenvektor gamacht werden\n",
    "y.shape = (n,1)"
   ]
  },
  {
   "cell_type": "code",
   "execution_count": 136,
   "metadata": {},
   "outputs": [
    {
     "name": "stdout",
     "output_type": "stream",
     "text": [
      "L = \n",
      "[[ 1.  0.  0.  0.  0.]\n",
      " [ 0.  1.  0.  0.  0.]\n",
      " [ 0.  0.  1.  0.  0.]\n",
      " [ 0.  0.  0.  1.  0.]\n",
      " [ 0.  0.  0.  0.  1.]]\n",
      "U = \n",
      "[[ 0.  0.  0.  0.  0.]\n",
      " [ 0.  0.  0.  0.  0.]\n",
      " [ 0.  0.  0.  0.  0.]\n",
      " [ 0.  0.  0.  0.  0.]\n",
      " [ 0.  0.  0.  0.  0.]]\n"
     ]
    }
   ],
   "source": [
    "print ('L = \\n' + str(L))\n",
    "print ('U = \\n' + str(U))"
   ]
  },
  {
   "cell_type": "markdown",
   "metadata": {},
   "source": [
    "##### L und U bestimmen"
   ]
  },
  {
   "cell_type": "markdown",
   "metadata": {},
   "source": [
    "Matrix ist invertierbar --> keine Permutation notwendig!"
   ]
  },
  {
   "cell_type": "code",
   "execution_count": 172,
   "metadata": {},
   "outputs": [],
   "source": [
    "for j in range(0,n):\n",
    "    # for each column\n",
    "    U[0][j] = A[0][j]\n",
    "    for i in range(j+1):\n",
    "        U[i][j] = A[i][j] - sum([L[i][k]*U[k][j] for k in range(i)])\n",
    "    for i in range(j+1,n):\n",
    "        L[i][j] = (A[i][j] - sum([L[i][k]*U[k][j] for k in range(j)]))/U[j][j]"
   ]
  },
  {
   "cell_type": "code",
   "execution_count": 173,
   "metadata": {},
   "outputs": [
    {
     "name": "stdout",
     "output_type": "stream",
     "text": [
      "L:\n",
      "[[ 1.          0.          0.          0.          0.        ]\n",
      " [-1.          1.          0.          0.          0.        ]\n",
      " [ 0.075       0.10625     1.          0.          0.        ]\n",
      " [ 0.6        -0.06666667 -3.47151515  1.          0.        ]\n",
      " [-0.2        -0.0375      5.66545455 -0.60792863  1.        ]]\n",
      "U:\n",
      "[[ 1.          2.          0.5         0.         -2.        ]\n",
      " [ 0.          8.          1.7         3.4        -2.1       ]\n",
      " [ 0.          0.          0.171875    1.37080081  0.373125  ]\n",
      " [ 0.          0.          0.          5.98542244  3.42530909]\n",
      " [ 0.          0.          0.          0.          4.48967074]]\n"
     ]
    }
   ],
   "source": [
    "print (\"L:\")\n",
    "print (L)\n",
    "print (\"U:\")\n",
    "print (U)"
   ]
  },
  {
   "cell_type": "markdown",
   "metadata": {},
   "source": [
    "##### Lösen Ly=b und Ux=y"
   ]
  },
  {
   "cell_type": "code",
   "execution_count": 174,
   "metadata": {},
   "outputs": [
    {
     "name": "stdout",
     "output_type": "stream",
     "text": [
      "[[-3.28474431]\n",
      " [-0.08266294]\n",
      " [-5.18722241]\n",
      " [ 1.87756357]\n",
      " [-0.5218407 ]]\n"
     ]
    }
   ],
   "source": [
    "# y bestimmen aus L und b\n",
    "for i in range(n):\n",
    "    y[i] = b[i] - sum([y[k]*L[i][k] for k in range(i)])\n",
    "# x bestimmen aus b und U\n",
    "x = np.zeros(n)\n",
    "x.shape = (n,1)\n",
    "for i in range(n-1,-1,-1):\n",
    "    x[i] = (y[i] -  sum([U[i][k]*x[k] for k in range(n-1,i,-1)]))/U[i][i]\n",
    "print(x)"
   ]
  },
  {
   "cell_type": "markdown",
   "metadata": {},
   "source": [
    "##### Vergleich mit scipy.lingalg.lu"
   ]
  },
  {
   "cell_type": "code",
   "execution_count": 176,
   "metadata": {},
   "outputs": [
    {
     "name": "stdout",
     "output_type": "stream",
     "text": [
      "L:\n",
      "[[ 1.          0.          0.          0.          0.        ]\n",
      " [-1.          1.          0.          0.          0.        ]\n",
      " [-0.2        -0.0375      1.          0.          0.        ]\n",
      " [ 0.6        -0.06666667 -0.61275139  1.          0.        ]\n",
      " [ 0.075       0.10625     0.17650834  0.17100563  1.        ]]\n",
      "U:\n",
      "[[ 1.          2.          0.5         0.         -2.        ]\n",
      " [ 0.          8.          1.7         3.4        -2.1       ]\n",
      " [ 0.          0.          0.97375     4.1275      4.52125   ]\n",
      " [ 0.          0.          0.          3.75579803  4.90040223]\n",
      " [ 0.          0.          0.          0.         -1.26290973]]\n",
      "P:\n",
      "[[ 1.  0.  0.  0.  0.]\n",
      " [ 0.  1.  0.  0.  0.]\n",
      " [ 0.  0.  0.  0.  1.]\n",
      " [ 0.  0.  0.  1.  0.]\n",
      " [ 0.  0.  1.  0.  0.]]\n"
     ]
    },
    {
     "data": {
      "text/plain": [
       "array([[-3.28474431],\n",
       "       [-0.08266294],\n",
       "       [-5.18722241],\n",
       "       [ 1.87756357],\n",
       "       [-0.5218407 ]])"
      ]
     },
     "execution_count": 176,
     "metadata": {},
     "output_type": "execute_result"
    }
   ],
   "source": [
    "from scipy.linalg import lu,lu_factor,lu_solve\n",
    "A = np.array([[1,2,0.5,0,-2],[-1,6,1.2,3.4,-0.1],[0.075,1,0.39,np.sqrt(3),0],[0.6,2/3,-0.41,1,1.07],[-0.2,-0.7,0.81,4,5]])\n",
    "P,L,U = lu(A) # nutzt permutation matrix\n",
    "print (\"L:\")\n",
    "print (L)\n",
    "print (\"U:\")\n",
    "print (U)\n",
    "print (\"P:\")\n",
    "print (P)\n",
    "lu = lu_factor(A)\n",
    "lu_solve(lu,b)"
   ]
  },
  {
   "cell_type": "markdown",
   "metadata": {},
   "source": [
    "### b) \n",
    "#### Tridiagonale Matrix"
   ]
  },
  {
   "cell_type": "code",
   "execution_count": 107,
   "metadata": {},
   "outputs": [],
   "source": [
    "def Tmatrix(n):\n",
    "    T=np.zeros([n,n])\n",
    "    T[0,0] = 2 # Top left separately\n",
    "    for i in range(1,n):\n",
    "        T[i,i] = 2\n",
    "        T[i-1,i] = -1\n",
    "        T[i,i-1] = -1\n",
    "    return (T)"
   ]
  },
  {
   "cell_type": "code",
   "execution_count": 108,
   "metadata": {},
   "outputs": [
    {
     "name": "stdout",
     "output_type": "stream",
     "text": [
      "[[ 2. -1.  0.  0.  0.]\n",
      " [-1.  2. -1.  0.  0.]\n",
      " [ 0. -1.  2. -1.  0.]\n",
      " [ 0.  0. -1.  2. -1.]\n",
      " [ 0.  0.  0. -1.  2.]]\n"
     ]
    }
   ],
   "source": [
    "print(Tmatrix(5))"
   ]
  },
  {
   "cell_type": "code",
   "execution_count": 109,
   "metadata": {},
   "outputs": [
    {
     "name": "stdout",
     "output_type": "stream",
     "text": [
      "K2 für n = 3 is 5.828427124746189\n",
      "K2 für n = 10 is 48.37415007870823\n",
      "K2 für n = 50 is 1053.4789912001029\n",
      "K2 für n = 500 is 101726.20699563753\n"
     ]
    }
   ],
   "source": [
    "for n in [3,10,50,500]:\n",
    "    T = Tmatrix(n)\n",
    "    k2 = np.linalg.cond(T,2)\n",
    "    print(\"K2 für n = {} is {}\".format(n,k2))"
   ]
  },
  {
   "cell_type": "markdown",
   "metadata": {},
   "source": [
    "##### Was folgt daraus bei einer Rechengenauigkeit von ≈ 10<sup>−16</sup> (das entspricht double-Precision auf bestimmten Maschinen)?\n",
    "TODO"
   ]
  },
  {
   "cell_type": "code",
   "execution_count": 228,
   "metadata": {},
   "outputs": [],
   "source": [
    "def TDMAsolver(T,y):\n",
    "    n = T.shape[0]\n",
    "    x=np.zeros(n)\n",
    "\n",
    "    #make some copies\n",
    "    Tc = np.array(T)\n",
    "    yc = np.array(y)\n",
    "    \n",
    "    #first values directly\n",
    "    Tc[0][1] = T[0][1]/T[0][0]\n",
    "    yc[0] = y[0]/T[0][0]\n",
    "        \n",
    "    #Vorwaertseinsetzen\n",
    "    for i in range(1,n-1):\n",
    "        Tc[i][i+1] = T[i][i+1]/(T[i][i]-Tc[i-1][i]*T[i][i-1])\n",
    "    for i in range(1,n):\n",
    "        yc[i] = (y[i]-yc[i-1]*T[i][i-1])/(T[i][i]-Tc[i-1][i]*T[i][i-1])\n",
    "        \n",
    "    #yc[n-1] = (y[n-1]-yc[n-2]*T[n-2][n-1])/(T[n-1][n-1]-Tc[n-2][n-1]*T[i][i-1])\n",
    "    \n",
    "    #Rueckwaertseinsetzen\n",
    "    x[n-1] = yc[n-1]\n",
    "    for i in reversed(range(0,n-1)):\n",
    "        x[i] = yc[i] - Tc[i][i+1]*x[i+1]\n",
    "    \n",
    "    x.shape = (n,1)\n",
    "    return x"
   ]
  },
  {
   "cell_type": "code",
   "execution_count": 229,
   "metadata": {},
   "outputs": [
    {
     "name": "stdout",
     "output_type": "stream",
     "text": [
      "T.dot(x) is\n",
      "[[-5.        ]\n",
      " [ 3.        ]\n",
      " [ 0.9       ]\n",
      " [ 1.42      ]\n",
      " [ 1.41421356]]\n",
      "and b is \n",
      "[[-5.        ]\n",
      " [ 3.        ]\n",
      " [ 0.9       ]\n",
      " [ 1.42      ]\n",
      " [ 1.41421356]]\n"
     ]
    }
   ],
   "source": [
    "b = np.array([[-5],[3],[0.9],[1.42],[np.sqrt(2)]])\n",
    "x = TDMAsolver(Tmatrix(5),b)\n",
    "print (\"T.dot(x) is\")\n",
    "print (T.dot(x))\n",
    "print (\"and b is \")\n",
    "print (b)"
   ]
  },
  {
   "cell_type": "code",
   "execution_count": null,
   "metadata": {},
   "outputs": [],
   "source": []
  }
 ],
 "metadata": {
  "kernelspec": {
   "display_name": "Python 3",
   "language": "python",
   "name": "python3"
  },
  "language_info": {
   "codemirror_mode": {
    "name": "ipython",
    "version": 3
   },
   "file_extension": ".py",
   "mimetype": "text/x-python",
   "name": "python",
   "nbconvert_exporter": "python",
   "pygments_lexer": "ipython3",
   "version": "3.5.2"
  }
 },
 "nbformat": 4,
 "nbformat_minor": 2
}
