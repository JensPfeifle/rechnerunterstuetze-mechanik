{
 "cells": [
  {
   "cell_type": "code",
   "execution_count": 285,
   "metadata": {
    "collapsed": true
   },
   "outputs": [],
   "source": [
    "import numpy as np\n",
    "import numpy.linalg as la\n",
    "import matplotlib.pyplot as plt\n",
    "import scipy.io as sio"
   ]
  },
  {
   "cell_type": "code",
   "execution_count": 286,
   "metadata": {
    "collapsed": true
   },
   "outputs": [],
   "source": [
    "Pi = np.arccos(-1)"
   ]
  },
  {
   "cell_type": "markdown",
   "metadata": {},
   "source": [
    "## Aufgabe 1\n",
    "### Funktionsdefinition"
   ]
  },
  {
   "cell_type": "code",
   "execution_count": 287,
   "metadata": {},
   "outputs": [
    {
     "data": {
      "image/png": "[encoded data removed]",
      "text/plain": [
       "<matplotlib.figure.Figure at 0x7f5e1f4f42b0>"
      ]
     },
     "metadata": {},
     "output_type": "display_data"
    }
   ],
   "source": [
    "N = 100\n",
    "w = 2\n",
    "Tmin = 0\n",
    "Tmax = Pi/2\n",
    "\n",
    "f = lambda t: np.sin(w*t)\n",
    "Tplot = np.linspace(Tmin, Tmax,N+1)\n",
    "plt.plot(Tplot,f(Tplot))\n",
    "plt.title(\"f(t) = sin(wt)\")\n",
    "plt.show()"
   ]
  },
  {
   "cell_type": "markdown",
   "metadata": {},
   "source": [
    "### Exaktes integral von f(t):\n",
    "$\n",
    "\\begin{align}\n",
    "\\int f(t) \\, dt = - \\frac{1}\\omega cos(\\omega t) + C\n",
    "\n",
    "\\end{align}\n",
    "$"
   ]
  },
  {
   "cell_type": "code",
   "execution_count": 288,
   "metadata": {},
   "outputs": [
    {
     "name": "stdout",
     "output_type": "stream",
     "text": [
      "Wert des exakten Integrals: 1.0\n"
     ]
    }
   ],
   "source": [
    "Iexakt = (-1/w)*(np.cos(w*Tmax) - np.cos(w*Tmin))\n",
    "\n",
    "print(\"Wert des exakten Integrals:\", Iexakt)"
   ]
  },
  {
   "cell_type": "markdown",
   "metadata": {},
   "source": [
    "### IntegratePolynomial\n",
    "\n",
    "$\n",
    "\\begin{align}\n",
    "    \\overline{I}(p) = \\sum_{i=0}^N \\left( p_i \\left( \\int_a^b t^i \\, dt \\right) \\right)\n",
    "\\end{align}\n",
    "$"
   ]
  },
  {
   "cell_type": "code",
   "execution_count": 289,
   "metadata": {
    "collapsed": true
   },
   "outputs": [],
   "source": [
    "def IntegratePolynomial( p, a, b ):\n",
    "    result = 0.0\n",
    "    \n",
    "    for i in range(len(p)):\n",
    "        val = p[i] * ( (1/(i+1)) * (b**(i+1) - a**(i+1)))\n",
    "        result = result + val \n",
    "    \n",
    "    return result"
   ]
  },
  {
   "cell_type": "code",
   "execution_count": 290,
   "metadata": {},
   "outputs": [
    {
     "data": {
      "text/plain": [
       "-19950.0"
      ]
     },
     "execution_count": 290,
     "metadata": {},
     "output_type": "execute_result"
    }
   ],
   "source": [
    "#### Test\n",
    "p = [ 0, 1, 0, 0, -1 ]  # p(t) = t - t^4\n",
    "IntegratePolynomial(p, 0,10)"
   ]
  },
  {
   "cell_type": "markdown",
   "metadata": {},
   "source": [
    "### Berechnung von Koeffizienten $\\lambda_i$"
   ]
  },
  {
   "cell_type": "code",
   "execution_count": 291,
   "metadata": {
    "scrolled": false
   },
   "outputs": [
    {
     "name": "stdout",
     "output_type": "stream",
     "text": [
      "Saved coeffs:\n",
      " [[ -5.49778714e+00   7.06858347e+00   0.00000000e+00   0.00000000e+00\n",
      "    0.00000000e+00   0.00000000e+00   0.00000000e+00   0.00000000e+00\n",
      "    0.00000000e+00   0.00000000e+00   0.00000000e+00]\n",
      " [  1.21736715e+01  -2.82743339e+01   1.76714587e+01   0.00000000e+00\n",
      "    0.00000000e+00   0.00000000e+00   0.00000000e+00   0.00000000e+00\n",
      "    0.00000000e+00   0.00000000e+00   0.00000000e+00]\n",
      " [ -1.66897110e+01   5.83158136e+01  -6.89186888e+01   2.88633825e+01\n",
      "    0.00000000e+00   0.00000000e+00   0.00000000e+00   0.00000000e+00\n",
      "    0.00000000e+00   0.00000000e+00   0.00000000e+00]\n",
      " [  1.52956292e+01  -6.96255472e+01   1.22993352e+02  -9.90779783e+01\n",
      "    3.19853402e+01   0.00000000e+00   0.00000000e+00   0.00000000e+00\n",
      "    0.00000000e+00   0.00000000e+00   0.00000000e+00]\n",
      " [ -9.00262645e+00   5.18657312e+01  -1.19989204e+02   1.43904578e+02\n",
      "   -8.95059382e+01   2.42982557e+01   0.00000000e+00   0.00000000e+00\n",
      "    0.00000000e+00   0.00000000e+00   0.00000000e+00]\n",
      " [  3.40315829e+00  -2.25689772e+01   6.60975667e+01  -1.04211116e+02\n",
      "    9.65808329e+01  -5.01364528e+01   1.24057847e+01   0.00000000e+00\n",
      "    0.00000000e+00   0.00000000e+00   0.00000000e+00]\n",
      " [ -6.26565410e-01   5.63908869e+00  -1.85266311e+01   3.68292133e+01\n",
      "   -4.44594967e+01   3.44877450e+01  -1.58022812e+01   4.02972370e+00\n",
      "    0.00000000e+00   0.00000000e+00   0.00000000e+00]\n",
      " [  1.00173328e-01  -1.74821216e-01   1.82205361e+00  -3.86815608e+00\n",
      "    6.41221501e+00  -6.20962435e+00   4.54640349e+00  -1.78418620e+00\n",
      "    7.26738738e-01   0.00000000e+00   0.00000000e+00]\n",
      " [  5.00866641e-02   2.75958761e-01   1.89337057e-02   3.39123707e-01\n",
      "    1.01295326e-01   1.01295326e-01   3.39123707e-01   1.89337057e-02\n",
      "    2.75958761e-01   5.00866641e-02   0.00000000e+00]]\n"
     ]
    }
   ],
   "source": [
    "# Wie viele Koeffizienten sollen berechnet werden?\n",
    "Ncoeffs = 9\n",
    "t = np.linspace(Tmin,Tmax,Ncoeffs+1)\n",
    "#print(\"t =\", t)\n",
    "coeffs  = np.zeros([Ncoeffs+1, Ncoeffs+2])\n",
    "for i in range(0,Ncoeffs+1):\n",
    "    # i-ter koefizientensatz\n",
    "    Nc = i\n",
    "    for j in range(0,Nc+1): # Nc+1:=Anzahl Pkt die einfliessen\"\n",
    "        p = np.zeros([Nc+1])\n",
    "        p[0] = 1\n",
    "        #print(\"i={} j={}\".format(i,j))\n",
    "        for k in range(0,Nc+1):\n",
    "            if (not j==k):\n",
    "                # Kopie von vorherigem p abspeichern\n",
    "                p_old = p.copy()\n",
    "                #print(\"p_old =\", p_old)\n",
    "                # Schritt 1: p nach rechts shiften:\n",
    "                for l in range(Nc,-1,-1):\n",
    "                    p[l] = p_old[l-1]\n",
    "                # Ersten Koeffizienten löschen:\n",
    "                p[0] = 0\n",
    "                # Schritt 2: Addieren von t_k*p_old:\n",
    "                p = p - t[k]*(p_old)\n",
    "                # Schritt 3: Multiplizieren mit 1/(t_j-t_k):\n",
    "                p = p * (1/(t[j] - t[k]))                       \n",
    "        # Koeffizient speichern:\n",
    "        coeffs[i][j] = IntegratePolynomial(p, Tmin, Tmax)    \n",
    "    #print(\"coeffs[{}] = {}\".format(i,coeffs[i]))\n",
    "#tosave = {'coeffs':coeffs}\n",
    "tosave = {'coeffs':coeffs[1:]}\n",
    "sio.savemat('coeffs.mat', tosave)\n",
    "print(\"Saved coeffs:\\n\", tosave['coeffs'])"
   ]
  },
  {
   "cell_type": "markdown",
   "metadata": {},
   "source": [
    "### Koeffizienten einlesen und ausgeben"
   ]
  },
  {
   "cell_type": "code",
   "execution_count": 292,
   "metadata": {
    "collapsed": true
   },
   "outputs": [],
   "source": [
    "loaded_coeffs = sio.loadmat(\"coeffs.mat\")['coeffs']"
   ]
  },
  {
   "cell_type": "markdown",
   "metadata": {},
   "source": [
    "### Numerische Integration"
   ]
  },
  {
   "cell_type": "code",
   "execution_count": 293,
   "metadata": {},
   "outputs": [
    {
     "name": "stdout",
     "output_type": "stream",
     "text": [
      "Approximation mit 2 Stützstellen: -0.00000, Fehler: 1.0000000000000053\n",
      "Approximation mit 3 Stützstellen: 91.60227, Fehler: 90.60226584761055\n",
      "Approximation mit 4 Stützstellen: 72.59887, Fehler: 71.59886836063794\n",
      "Approximation mit 5 Stützstellen: 28.96754, Fehler: 27.96754064825714\n",
      "Approximation mit 6 Stützstellen: 11.39603, Fehler: 10.396029228574221\n",
      "Approximation mit 7 Stützstellen: 3.68359, Fehler: 2.683585561264778\n",
      "Approximation mit 8 Stützstellen: 1.48706, Fehler: 0.48705966492476716\n",
      "Approximation mit 9 Stützstellen: 1.37323, Fehler: 0.3732290126003741\n"
     ]
    }
   ],
   "source": [
    "for i in range(1,Ncoeffs):\n",
    "    T = np.linspace(Tmin,Tmax,i+1)\n",
    "    F = f(T)\n",
    "    st = len(F)\n",
    "    val = (Tmax-Tmin) * np.sum(F.dot(loaded_coeffs[i][:len(F)]))\n",
    "    print('Approximation mit {} Stützstellen: {:.5f}, Fehler: {}'.format(st, val, np.abs(Iexakt - val)))"
   ]
  },
  {
   "cell_type": "markdown",
   "metadata": {},
   "source": [
    "### Grafische Darstellung der Funktion sowie der Stützstellen"
   ]
  },
  {
   "cell_type": "code",
   "execution_count": 294,
   "metadata": {},
   "outputs": [
    {
     "data": {
      "image/png": "[encoded data removed]",
      "text/plain": [
       "<matplotlib.figure.Figure at 0x7f5e1f4ee358>"
      ]
     },
     "metadata": {},
     "output_type": "display_data"
    }
   ],
   "source": [
    "fig, ax = plt.subplots()\n",
    "n = 100\n",
    "x = np.linspace(Tmin,Tmax,n)\n",
    "ax.plot(x,f(x))\n",
    "ax.plot(T,F,'ro');\n",
    "plt.show()"
   ]
  },
  {
   "cell_type": "code",
   "execution_count": null,
   "metadata": {
    "collapsed": true
   },
   "outputs": [],
   "source": []
  },
  {
   "cell_type": "code",
   "execution_count": null,
   "metadata": {
    "collapsed": true
   },
   "outputs": [],
   "source": []
  },
  {
   "cell_type": "code",
   "execution_count": null,
   "metadata": {
    "collapsed": true
   },
   "outputs": [],
   "source": []
  },
  {
   "cell_type": "code",
   "execution_count": null,
   "metadata": {
    "collapsed": true
   },
   "outputs": [],
   "source": []
  }
 ],
 "metadata": {
  "kernelspec": {
   "display_name": "Python 3",
   "language": "python",
   "name": "python3"
  },
  "language_info": {
   "codemirror_mode": {
    "name": "ipython",
    "version": 3
   },
   "file_extension": ".py",
   "mimetype": "text/x-python",
   "name": "python",
   "nbconvert_exporter": "python",
   "pygments_lexer": "ipython3",
   "version": "3.6.3"
  }
 },
 "nbformat": 4,
 "nbformat_minor": 2
}
