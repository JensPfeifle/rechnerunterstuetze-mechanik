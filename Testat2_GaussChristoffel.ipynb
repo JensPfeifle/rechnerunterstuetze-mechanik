{
 "cells": [
  {
   "cell_type": "code",
   "execution_count": 1,
   "metadata": {},
   "outputs": [],
   "source": [
    "import numpy as np\n",
    "import matplotlib.pyplot as plt\n",
    "import scipy.io as sio\n",
    "import pickle"
   ]
  },
  {
   "cell_type": "markdown",
   "metadata": {},
   "source": [
    "**Testat2_GaussChristoffel** - Jens Pfeifle"
   ]
  },
  {
   "cell_type": "markdown",
   "metadata": {},
   "source": [
    "# Allgemeine Funktionen"
   ]
  },
  {
   "cell_type": "code",
   "execution_count": 2,
   "metadata": {},
   "outputs": [],
   "source": [
    "def save_obj(obj, name ):\n",
    "    with open('obj/'+ name + '.pkl', 'wb') as f:\n",
    "        pickle.dump(obj, f, pickle.HIGHEST_PROTOCOL)\n",
    "\n",
    "def load_obj(name ):\n",
    "    with open('obj/' + name + '.pkl', 'rb') as f:\n",
    "        return pickle.load(f)"
   ]
  },
  {
   "cell_type": "code",
   "execution_count": 3,
   "metadata": {},
   "outputs": [],
   "source": [
    "def integrate_polynomial(p, a, b):\n",
    "    \"\"\" \n",
    "    Calculate the exact integral of a polynomial p over bounds (a,b)\n",
    "    The polynomial is given by a coefficient vector, as in:\n",
    "    [3,2,1] -> 3 + 2x + x³\n",
    "    \"\"\"\n",
    "    t_integrals = np.array([(1/(i+1)) * (b**(i+1) - a**(i+1))\n",
    "                            for i in range(len(p))])\n",
    "    return sum(p * t_integrals)"
   ]
  },
  {
   "cell_type": "code",
   "execution_count": 4,
   "metadata": {},
   "outputs": [
    {
     "name": "stdout",
     "output_type": "stream",
     "text": [
      "integratepolynomial - tests passed\n"
     ]
    }
   ],
   "source": [
    "# tests\n",
    "p = np.array([ 0, 1, 0, 0, -1 ])\n",
    "assert integrate_polynomial(p, 0, 1) == 0.3\n",
    "p = np.array([ 0, 1])\n",
    "assert integrate_polynomial(p, 0, 1) == 0.5\n",
    "assert integrate_polynomial(p, -1, 1) == 0.0\n",
    "p = np.array([ 0, 0,0,1])\n",
    "assert integrate_polynomial(p, 0, 1) == 0.25\n",
    "assert integrate_polynomial(p, -1, 1) == 0.0\n",
    "print(\"integratepolynomial - tests passed\")"
   ]
  },
  {
   "cell_type": "code",
   "execution_count": 5,
   "metadata": {},
   "outputs": [],
   "source": [
    "def add_polynomials(p1, p2):\n",
    "    \"\"\"\n",
    "    Calculate the sum of two polynomials given by coefficient vectors\n",
    "    i.e. for p(x) = 3 + 2x + x³:\n",
    "    coefficients = [3,2,1]\n",
    "    The order (desceding or ascending exponent) doesnt matter,\n",
    "    but must be the same for both input polynomials.\n",
    "    \"\"\"\n",
    "    p3 = np.zeros(max([len(p1), len(p2)]))\n",
    "    for i, coeff in enumerate(p1):\n",
    "        p3[i] += coeff\n",
    "    for i,coeff in enumerate(p2):\n",
    "        p3[i] += coeff\n",
    "    return p3"
   ]
  },
  {
   "cell_type": "code",
   "execution_count": 6,
   "metadata": {},
   "outputs": [],
   "source": [
    "def compare_polynomials(p1,p2):\n",
    "    if not (len(p1) == len(p2)):\n",
    "        return False\n",
    "    for n in range(len(p1)):\n",
    "        if not p1[n] == p2[n]:\n",
    "            return False\n",
    "    else:\n",
    "        return True"
   ]
  },
  {
   "cell_type": "code",
   "execution_count": 7,
   "metadata": {},
   "outputs": [
    {
     "name": "stdout",
     "output_type": "stream",
     "text": [
      "add_polynomials - tests passed\n"
     ]
    }
   ],
   "source": [
    "#tests\n",
    "p1 = np.array([ 1, 2, 3])\n",
    "p2 = np.array([ 0 ])\n",
    "result = add_polynomials(p1,p2)\n",
    "expected = [1.,2.,3.]\n",
    "assert compare_polynomials(result, expected)\n",
    "\n",
    "p1 = np.array([ 1, 2, 3])\n",
    "p2 = np.array([ 1,1,1 ])\n",
    "result = add_polynomials(p1,p2)\n",
    "expected = [2.,3.,4.]\n",
    "assert compare_polynomials(result, expected)\n",
    "\n",
    "p1 = np.array([ 1, 2, 3])\n",
    "p2 = np.array([ -1, -2,-3 ])\n",
    "result = add_polynomials(p1,p2)\n",
    "expected = [0.,0.,0.]\n",
    "assert compare_polynomials(result, expected)\n",
    "\n",
    "print(\"add_polynomials - tests passed\")"
   ]
  },
  {
   "cell_type": "markdown",
   "metadata": {},
   "source": [
    "# Gauss-Christoffel-Quadratur"
   ]
  },
  {
   "cell_type": "markdown",
   "metadata": {},
   "source": [
    "## Legendre-Polynome Berechnen"
   ]
  },
  {
   "cell_type": "code",
   "execution_count": 8,
   "metadata": {},
   "outputs": [],
   "source": [
    "t_pow = lambda i: np.append(np.zeros(i), 1)  # returns t**i as polynomial \n",
    "\n",
    "\"\"\"\n",
    "Calculate Legendre-Polynomials through Gram-Schmidt-Orthogonalisation\n",
    "\"\"\"\n",
    "def legendre_polynomials(N = 10, tmin=-1.0, tmax = 1.0):\n",
    "    #A1\n",
    "    legendre = [np.array([1.0])]\n",
    "    for i in range(1,N):\n",
    "        alpha_i = []\n",
    "        #A2\n",
    "        sum_alpha_p = np.array([0])\n",
    "        for j in range(0,i):\n",
    "            alpha_i.append(integrate_polynomial(np.convolve(t_pow(i), legendre[j]), tmin, tmax))\n",
    "            sum_alpha_p = add_polynomials(sum_alpha_p, alpha_i[j] * legendre[j])\n",
    "        # A3\n",
    "        p_star = add_polynomials(t_pow(i), -1*sum_alpha_p)\n",
    "        # A4\n",
    "        norm_p_star = np.sqrt(integrate_polynomial(np.convolve(p_star, p_star), tmin, tmax))\n",
    "        p = p_star / norm_p_star\n",
    "        legendre.append(p)\n",
    "    return legendre"
   ]
  },
  {
   "cell_type": "code",
   "execution_count": 9,
   "metadata": {},
   "outputs": [],
   "source": [
    "legendre = legendre_polynomials(3, tmin= -1.0,tmax = 1.0)"
   ]
  },
  {
   "cell_type": "code",
   "execution_count": 10,
   "metadata": {},
   "outputs": [
    {
     "name": "stdout",
     "output_type": "stream",
     "text": [
      "Koeffizienten 1. Legendre Polynom \n",
      "Soll: [1.0]\n",
      "Ist : [1.]\n",
      "Koeffizienten 2. Legendre Polynom \n",
      "Soll: [0.0, 1.0]\n",
      "Ist : [0.         1.22474487]\n",
      "Koeffizienten 3. Legendre Polynom \n",
      "Soll: [-0.5, 0.0, 1.5]\n",
      "Ist : [-1.05409255  0.          1.58113883]\n"
     ]
    }
   ],
   "source": [
    "from scipy.special import legendre as scp_legendre\n",
    "for n,p in enumerate(legendre):\n",
    "    print(\"Koeffizienten {}. Legendre Polynom \".format(n+1))\n",
    "    print(\"Soll: \" + str(list(reversed(scp_legendre(n).coefficients))))\n",
    "    print(\"Ist : \" + str(p))"
   ]
  },
  {
   "cell_type": "markdown",
   "metadata": {},
   "source": [
    "Nach Absprache mit Hannes ist es für das Testat nicht nötig, bei dem Gram-Schmidt-Orthogonalisierungsverfahren die korrekten Ergebnisse zu haben. Verwende stattdessen die Legendre Polynome aus dem scipy Paket."
   ]
  },
  {
   "cell_type": "code",
   "execution_count": 11,
   "metadata": {},
   "outputs": [],
   "source": [
    "### ersetze berechnete Legendre-Polynome durch Legendre-Funktion von scipy.special.legendre\n",
    "legendre = lambda n: np.array(list(scp_legendre(n).coefficients))"
   ]
  },
  {
   "cell_type": "markdown",
   "metadata": {},
   "source": [
    "## Stützstellen als Nullstellen der Legendre-Polynome"
   ]
  },
  {
   "cell_type": "markdown",
   "metadata": {},
   "source": [
    "### Transformation von [-1,1] auf [0,1]"
   ]
  },
  {
   "cell_type": "code",
   "execution_count": 12,
   "metadata": {},
   "outputs": [
    {
     "name": "stdout",
     "output_type": "stream",
     "text": [
      "Stützstellen auf Referenzintervall [-1,1]:\n",
      "[0.]\n",
      "[-0.57735027  0.57735027]\n",
      "[-0.77459667  0.77459667  0.        ]\n",
      "[ 0.86113631 -0.86113631  0.33998104 -0.33998104]\n",
      "Stützstellen auf Referenzinterval [0,1]:\n",
      "[0.5]\n",
      "[0.21132487 0.78867513]\n",
      "[0.11270167 0.5        0.88729833]\n",
      "[0.06943184 0.33000948 0.66999052 0.93056816]\n"
     ]
    }
   ],
   "source": [
    "def transform_gausspts(pts, a = -1.0,b=1.0):\n",
    "    return np.array([(b-a)/2*x + (a+b)/2 for x in pts])\n",
    "\n",
    "print(\"Stützstellen auf Referenzintervall [-1,1]:\")\n",
    "for n in range(4):\n",
    "    print(np.roots(legendre(n+1)))\n",
    "    \n",
    "print(\"Stützstellen auf Referenzinterval [0,1]:\")\n",
    "for n in range(4):\n",
    "    print(transform_gausspts(sorted(np.roots(legendre(n+1))),0,1))"
   ]
  },
  {
   "cell_type": "markdown",
   "metadata": {},
   "source": [
    "### Speichern"
   ]
  },
  {
   "cell_type": "code",
   "execution_count": 13,
   "metadata": {},
   "outputs": [],
   "source": [
    "MAX_PTS = 10\n",
    "# auf -1,1\n",
    "lambdas = {n+1: sorted(np.roots(legendre(n+1))) for n in range(MAX_PTS+1)}\n",
    "# auf 0,1\n",
    "lambdas = {n: transform_gausspts(l,0,1) for n,l in lambdas.items()}\n",
    "save_obj(lambdas, \"testat2_tau\")\n",
    "# to load: load_obj(\"testat2_tau\")"
   ]
  },
  {
   "cell_type": "markdown",
   "metadata": {},
   "source": [
    "## Gewichte (Lagrange)"
   ]
  },
  {
   "cell_type": "markdown",
   "metadata": {},
   "source": [
    "### Berechnen"
   ]
  },
  {
   "cell_type": "code",
   "execution_count": 14,
   "metadata": {},
   "outputs": [],
   "source": [
    "def gauss_weights(gausspts, t_min = -1.0, t_max = 1.0):\n",
    "    \"\"\"\n",
    "    Given an array of gauss points,\n",
    "    calculate an array of Gauss weights\n",
    "    on the reference interval [t_min,t_max]\n",
    "    \"\"\"\n",
    " \n",
    "    npts = len(gausspts)\n",
    "    coeffs = np.zeros(npts)\n",
    "\n",
    "    for i in range(npts):\n",
    "\n",
    "        ti = gausspts[i]\n",
    "\n",
    "        prod = np.array([1])\n",
    "        for j in range(npts):\n",
    "            if not i == j:\n",
    "                tj = gausspts[j]\n",
    "                a = 1/(ti - tj)\n",
    "                p_ = a * np.array([-tj, 1]) # a*(t-t_j)\n",
    "                prod = np.convolve(prod, p_)  # polynomial multiplication\n",
    "        c = integrate_polynomial(prod, t_min, t_max) \n",
    "        assert c > 0, \"Weights must be > 0\"\n",
    "        coeffs[i] = c\n",
    "    return coeffs"
   ]
  },
  {
   "cell_type": "markdown",
   "metadata": {},
   "source": [
    "### Speichern"
   ]
  },
  {
   "cell_type": "code",
   "execution_count": 15,
   "metadata": {},
   "outputs": [],
   "source": [
    "tau = load_obj(\"testat2_tau\")\n",
    "# beachte intervall!\n",
    "tmin = 0.0\n",
    "tmax = 1.0\n",
    "\n",
    "all_weights = {}\n",
    "for n in range(1,max(tau.keys())):\n",
    "    all_weights[n] = gauss_weights(gausspts = tau[n],t_min=tmin,t_max=tmax)\n",
    "save_obj(all_weights, \"testat2_lambda\")    "
   ]
  },
  {
   "cell_type": "markdown",
   "metadata": {},
   "source": [
    "## Quadraturfunktion Gauss"
   ]
  },
  {
   "cell_type": "code",
   "execution_count": 16,
   "metadata": {},
   "outputs": [],
   "source": [
    "def quad_Gauss(f, a, b, N):\n",
    "    \"\"\"\n",
    "    Approximate the integral of any (callable) function f\n",
    "    on the interval a,b\n",
    "    using Gauss Quadrature with N support points.\n",
    "    Weights/support points are loaded for the reference interval [0,1]\n",
    "    and must be transformed to the integration interval.\n",
    "    \"\"\"\n",
    "    try:\n",
    "        weights = load_obj(\"testat2_lambda\")[N]\n",
    "    except KeyError as e:\n",
    "        print(\"Weights for N={} not available\".format(N))\n",
    "        return\n",
    "    \n",
    "    try:\n",
    "        support_points = load_obj(\"testat2_tau\")[N]\n",
    "    except KeyError as e:\n",
    "        print(\"Gausspts for N={} not available\".format(N))\n",
    "        return\n",
    "    \n",
    "    # transform support points to [a,b] to get function values\n",
    "    support_points = [a + (b-a)*t for t in support_points]\n",
    "    function_values = [f(t) for t in support_points]\n",
    "    \n",
    "    #print(\"weights: \\t {}\".format(weights))\n",
    "    #print(\"supports: \\t {}\".format(support_points))\n",
    "    #print(\"function: \\t {}\".format(function_values))\n",
    "    \n",
    "    return (b-a) * sum(weights*function_values)"
   ]
  },
  {
   "cell_type": "markdown",
   "metadata": {},
   "source": [
    "# Newton-Cotes\n",
    "## Quadraturfunction NC (Gewichte werden geladen)"
   ]
  },
  {
   "cell_type": "code",
   "execution_count": 17,
   "metadata": {},
   "outputs": [],
   "source": [
    "def quad_NC(f, a, b, N):\n",
    "    \"\"\"\n",
    "    Approximate the integral of any (callable) function f\n",
    "    on the interval a,b\n",
    "    using Newton-Cotes Quadrature with N support points.\n",
    "    The weights are loaded for the reference interval [0,1]\n",
    "    and must be transformed to the function interval.\n",
    "    \"\"\"\n",
    "    try:\n",
    "        weights = load_obj(\"ub8_nc_weights\")[N]\n",
    "    except KeyError as e:\n",
    "        print(\"Weights for N={} not available\".format(N))\n",
    "        return\n",
    "    weights = weights[:N]  # only the first N, rest are 0\n",
    "    support_points = np.linspace(a,b,N)\n",
    "    \n",
    "    function_values = [f(ti) for ti in support_points]\n",
    "    \n",
    "    return (b-a) * sum(weights*function_values)"
   ]
  },
  {
   "cell_type": "markdown",
   "metadata": {},
   "source": [
    "# Integration\n",
    "## Definitionen"
   ]
  },
  {
   "cell_type": "code",
   "execution_count": 18,
   "metadata": {},
   "outputs": [],
   "source": [
    "omega = 13.6753\n",
    "PI    = np.arccos(-1)\n",
    "Tmin  = 0.0\n",
    "Tmax  = 0.5*np.pi\n",
    "\n",
    "def f(t): \n",
    "    return np.sin(omega*t)"
   ]
  },
  {
   "cell_type": "markdown",
   "metadata": {},
   "source": [
    "## Plot function and integration points"
   ]
  },
  {
   "cell_type": "code",
   "execution_count": 19,
   "metadata": {},
   "outputs": [
    {
     "data": {
      "image/png": "[encoded data removed]",
      "text/plain": [
       "<Figure size 432x288 with 1 Axes>"
      ]
     },
     "metadata": {
      "needs_background": "light"
     },
     "output_type": "display_data"
    }
   ],
   "source": [
    "def transform_gausspts(pts, a = -1.0,b=1.0):\n",
    "    return np.array([(b-a)/2*x + (a+b)/2 for x in pts])\n",
    "\n",
    "\n",
    "N = 7  # anzahl Stüzstellen für Plot\n",
    "\n",
    "# Newton-Cotes Stützpunkte\n",
    "tau_NC = np.linspace(Tmin,Tmax,N)\n",
    "\n",
    "# Gauss Stützpunkte\n",
    "tau = load_obj(\"testat2_tau\")\n",
    "tau_G = tau[N]\n",
    "tau_G = Tmin + (Tmax - Tmin)*tau_G # transformation\n",
    "\n",
    "T = np.linspace(Tmin, Tmax, 100)\n",
    "plt.plot(T, f(T),label='f(x)')\n",
    "plt.plot(tau_G,f(tau_G),label='gauss',color='orange')\n",
    "plt.plot(tau_NC,f(tau_NC),label='newton-cotes',color='purple')\n",
    "plt.title(\"Stützpunkte\")\n",
    "# Put a legend to the right of the current axis\n",
    "plt.legend(bbox_to_anchor=(1.05, 1), loc=2, borderaxespad=0.)\n",
    "plt.show()"
   ]
  },
  {
   "cell_type": "markdown",
   "metadata": {},
   "source": [
    "## Exaktes Integral\n",
    "\n",
    "\"Exact\" -> scipy's quad function.\n",
    "\n",
    "$\n",
    "\\int_{t=0}^{\\pi/2} f(t) dt = \\int_{t=0}^{\\pi/2} sin (wt) dt =\n",
    "$"
   ]
  },
  {
   "cell_type": "code",
   "execution_count": 20,
   "metadata": {},
   "outputs": [
    {
     "name": "stdout",
     "output_type": "stream",
     "text": [
      "result = 0.13694223655230858\n",
      "max error = 6.026545148335449e-12\n"
     ]
    }
   ],
   "source": [
    "from scipy import integrate\n",
    "result, errorbound = integrate.quad(f, Tmin, Tmax)\n",
    "print(\"result = {}\".format(result))\n",
    "print(\"max error = {}\".format(errorbound))\n",
    "\n",
    "I_ex = result"
   ]
  },
  {
   "cell_type": "markdown",
   "metadata": {},
   "source": [
    "## Approximiertes Integral"
   ]
  },
  {
   "cell_type": "code",
   "execution_count": 21,
   "metadata": {
    "scrolled": false
   },
   "outputs": [
    {
     "name": "stdout",
     "output_type": "stream",
     "text": [
      "Newton-Cotes:\n",
      "o=2, I=0.38343926342917667 \t Fehler = 0.24649702687686809\n",
      "o=3, I=-0.8855165839223643 \t Fehler = 1.022458820474673\n",
      "o=4, I=1.1279553948515686 \t Fehler = 0.9910131582992601\n",
      "o=5, I=-0.803924390927535 \t Fehler = 0.9408666274798436\n",
      "o=6, I=-0.44276678415863785 \t Fehler = 0.5797090207109464\n",
      "o=7, I=-0.8660547701464941 \t Fehler = 1.0029970066988028\n",
      "Gauss-Christoffel:\n",
      "o=1, I=-1.5199945075981345 \t Fehler = 1.656936744150443\n",
      "o=2, I=-1.5148718618357326 \t Fehler = 1.6518140983880412\n",
      "o=3, I=-0.29642079887855327 \t Fehler = 0.43336303543086185\n",
      "o=4, I=1.385715363716855 \t Fehler = 1.2487731271645466\n",
      "o=5, I=-0.7277322732999928 \t Fehler = 0.8646745098523014\n",
      "o=6, I=0.4370722347045538 \t Fehler = 0.3001299981522452\n",
      "o=7, I=0.0714919237498817 \t Fehler = 0.06545031280242689\n",
      "o=8, I=0.14690429874386962 \t Fehler = 0.009962062191561039\n",
      "o=9, I=0.13581468201915053 \t Fehler = 0.0011275545331580483\n",
      "o=10, I=0.13704131124035962 \t Fehler = 9.907468805103736e-05\n"
     ]
    }
   ],
   "source": [
    "quadfunc = quad_NC\n",
    "print(\"Newton-Cotes:\")\n",
    "for n in range(2,8):\n",
    "    I = quadfunc(f, Tmin, Tmax, n)\n",
    "    e = abs(I_ex - I)\n",
    "    print(\"o={}, I={} \\t Fehler = {}\".format(n, I, e))\n",
    "\n",
    "quadfunc = quad_Gauss\n",
    "print(\"Gauss-Christoffel:\")\n",
    "for n in range(1,11):\n",
    "    I = quadfunc(f, Tmin, Tmax, n)\n",
    "    e = abs(I_ex - I)\n",
    "    print(\"o={}, I={} \\t Fehler = {}\".format(n, I, e))"
   ]
  },
  {
   "cell_type": "markdown",
   "metadata": {},
   "source": [
    "# e) Unterteilte Integration mit Gauss"
   ]
  },
  {
   "cell_type": "code",
   "execution_count": 23,
   "metadata": {
    "scrolled": false
   },
   "outputs": [
    {
     "data": {
      "image/png": "[encoded data removed]",
      "text/plain": [
       "<Figure size 432x288 with 1 Axes>"
      ]
     },
     "metadata": {
      "needs_background": "light"
     },
     "output_type": "display_data"
    },
    {
     "name": "stdout",
     "output_type": "stream",
     "text": [
      "7 Abschnitte, 4 Stützstellen:\n",
      "I = 0.13694135921169162\n",
      "e = 8.773406169615416e-07\n"
     ]
    }
   ],
   "source": [
    "M = 7 # Anzahl Abschnitte\n",
    "N = 4 # Anzahl Stützstellen\n",
    "\n",
    "fig, ax = plt.subplots(1,1)\n",
    "\n",
    "T = np.linspace(Tmin, Tmax, 100)\n",
    "\n",
    "# plot function\n",
    "ax.plot(T, f(T),label='f(x)')\n",
    "\n",
    "#split into parts\n",
    "parts = np.linspace(Tmin,Tmax,M+1)\n",
    "\n",
    "I = 0\n",
    "for m in range(M):\n",
    "    start = parts[m]\n",
    "    end = parts[m+1]\n",
    "    \n",
    "    # integration\n",
    "    I +=  quad_Gauss(f, start, end, N)\n",
    "    \n",
    "    #plots\n",
    "    # Gauss Stützpunkte\n",
    "    tau = load_obj(\"testat2_tau\")\n",
    "    tau_G = tau[N]\n",
    "    tau_G = start + (end - start)*tau_G # transformation\n",
    "    ax.plot(tau_G,f(tau_G),label='abschnitt {}'.format(m))\n",
    "    \n",
    "                                                         \n",
    "# Put a legend to the right of the current axis\n",
    "plt.legend(bbox_to_anchor=(1.05, 1), loc=2, borderaxespad=0.)\n",
    "\n",
    "plt.title(\"Integration Abschnittsweise\")\n",
    "plt.show()\n",
    "                                                         \n",
    "print(\"{} Abschnitte, {} Stützstellen:\".format(M,N))\n",
    "print(\"I = {}\".format(I))\n",
    "print(\"e = {}\".format(abs(I_ex - I)))"
   ]
  }
 ],
 "metadata": {
  "kernelspec": {
   "display_name": "Python 3",
   "language": "python",
   "name": "python3"
  },
  "language_info": {
   "codemirror_mode": {
    "name": "ipython",
    "version": 3
   },
   "file_extension": ".py",
   "mimetype": "text/x-python",
   "name": "python",
   "nbconvert_exporter": "python",
   "pygments_lexer": "ipython3",
   "version": "3.6.7"
  },
  "toc": {
   "base_numbering": 1,
   "nav_menu": {},
   "number_sections": true,
   "sideBar": true,
   "skip_h1_title": false,
   "title_cell": "Table of Contents",
   "title_sidebar": "Contents",
   "toc_cell": false,
   "toc_position": {},
   "toc_section_display": true,
   "toc_window_display": false
  }
 },
 "nbformat": 4,
 "nbformat_minor": 2
}
