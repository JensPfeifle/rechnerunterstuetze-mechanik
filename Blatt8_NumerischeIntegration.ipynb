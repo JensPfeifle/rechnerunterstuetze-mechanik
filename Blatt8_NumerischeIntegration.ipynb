{
 "cells": [
  {
   "cell_type": "code",
   "execution_count": 1,
   "metadata": {},
   "outputs": [],
   "source": [
    "import numpy as np\n",
    "import matplotlib.pyplot as plt\n",
    "import scipy.io as sio\n",
    "import pickle"
   ]
  },
  {
   "cell_type": "markdown",
   "metadata": {},
   "source": [
    "Functions for saving/loading objects"
   ]
  },
  {
   "cell_type": "code",
   "execution_count": 2,
   "metadata": {},
   "outputs": [],
   "source": [
    "def save_obj(obj, name ):\n",
    "    with open('obj/'+ name + '.pkl', 'wb') as f:\n",
    "        pickle.dump(obj, f, pickle.HIGHEST_PROTOCOL)\n",
    "\n",
    "def load_obj(name ):\n",
    "    with open('obj/' + name + '.pkl', 'rb') as f:\n",
    "        return pickle.load(f)"
   ]
  },
  {
   "cell_type": "markdown",
   "metadata": {},
   "source": [
    " # Newton-Cotes-Quadrature"
   ]
  },
  {
   "cell_type": "markdown",
   "metadata": {},
   "source": [
    "## Definitions"
   ]
  },
  {
   "cell_type": "code",
   "execution_count": 3,
   "metadata": {},
   "outputs": [],
   "source": [
    "omega = 2\n",
    "#PI    = np.arccos(-1) # Funktioniert auch in C++ oder Fortran am besten so!\n",
    "PI = np.pi  # so ists aber in Python schneller...\n",
    "Tmin  = 0\n",
    "Tmax  = PI/2   # Intervallbreite festlegen\n",
    "N = 100\n"
   ]
  },
  {
   "cell_type": "markdown",
   "metadata": {},
   "source": [
    "## a) Function and interval"
   ]
  },
  {
   "cell_type": "code",
   "execution_count": 4,
   "metadata": {},
   "outputs": [],
   "source": [
    "def f(t): \n",
    "    return np.sin(omega*t)\n",
    "\n",
    "T = np.linspace(Tmin, Tmax, N+1)"
   ]
  },
  {
   "cell_type": "markdown",
   "metadata": {},
   "source": [
    "## Exact integral\n",
    "\n",
    "\"Exact\" -> Here I am using scipy's quad function.\n",
    "\n",
    "$\n",
    "\\int_{t=0}^{\\pi/2} f(t) dt = \\int_{t=0}^{\\pi/2} sin (wt) dt =\n",
    "$"
   ]
  },
  {
   "cell_type": "code",
   "execution_count": 5,
   "metadata": {},
   "outputs": [
    {
     "name": "stdout",
     "output_type": "stream",
     "text": [
      "result = 1.0\n",
      "max error = 1.1102230246251565e-14\n"
     ]
    }
   ],
   "source": [
    "from scipy import integrate\n",
    "result, errorbound = integrate.quad(f, Tmin, Tmax)\n",
    "print(\"result = {}\".format(result))\n",
    "print(\"max error = {}\".format(errorbound))\n",
    "\n",
    "I_ex = result"
   ]
  },
  {
   "cell_type": "markdown",
   "metadata": {},
   "source": [
    "## Polynomial integration\n",
    "\n",
    "![images/integratepolyomial.png](images/integratepolyomial.png)\n",
    "\n",
    "The integral $ \\int_{a}^b t^i dt $ can be calculated easily in the form $ \\frac{1}{i+1} \\left( b^{i+1} - a^{i+1} \\right) $, for example:\n",
    "\n",
    "$\n",
    " i = 2: \\int_{a}^b t^2 dt = \\frac{1}{2+1} \\left( b^{2+1} - a^{2+1} \\right) = \\frac{b^{3}}{3} - \\frac{a^{3}}{3}\n",
    " $"
   ]
  },
  {
   "cell_type": "code",
   "execution_count": 6,
   "metadata": {},
   "outputs": [],
   "source": [
    "def integrate_polynomial(p, a, b):\n",
    "    \"\"\" \n",
    "    Calculate the exact integral of a polynomial p over bounds (a,b)\n",
    "    The polynomial is given by a coefficient vector, as in:\n",
    "    p(x) = 3 + 2x + x³\n",
    "    coefficients = [3,2,1]\n",
    "    \"\"\"\n",
    "    t_integrals = np.array([(1/(i+1)) * (b**(i+1) - a**(i+1))\n",
    "                            for i in range(len(p))])\n",
    "    return sum(p * t_integrals)\n",
    "       \n",
    "    \n",
    "p = np.array([ 0, 1, 0, 0, -1 ])\n",
    "assert integrate_polynomial(p, 0, 1) == 0.3"
   ]
  },
  {
   "cell_type": "markdown",
   "metadata": {},
   "source": [
    "## Calculate weights for NC\n",
    "\n",
    "The coefficients (weights) for the Newton-Cotes Quadrature $\\lambda_i$ are calculated from the Langragian interpolation polynomials, which have the form \n",
    "$ L_i(x) = \\prod_{i \\ne j} \\frac{x - x_j}{x_i - x_j} .$\n",
    "\n",
    "The interpolating polynomial for a function f(x) is \n",
    "$ L(x) = \\sum_i f(x_i) L_i $.\n",
    "\n",
    "Therefore, the weights are calculated as follows:\n",
    "\n",
    "$\n",
    "\\lambda_i = \\frac{1}{t_N - t_0} \\int_{t_0}^{t_N} \\prod_{i \\ne j} \\frac{t - t_j}{t_i - t_j} dt\n",
    "$\n",
    "\n",
    "For the Netwon-Cotes quadrature\n",
    "![](images/newtoncotes.png)\n",
    "\n",
    "the following block calculates a dictionary of NC-Weights **on a reference interval (0,1)** similar to the form:\n",
    "![images/lambdamatrix.png](images/lambdamatrix.png)"
   ]
  },
  {
   "cell_type": "code",
   "execution_count": 7,
   "metadata": {
    "scrolled": false
   },
   "outputs": [],
   "source": [
    "def calc_and_store_NC_weights(maxcoeffs = 7):\n",
    "\n",
    "    # referenzintervall\n",
    "    t_min = 0\n",
    "    t_max = 1.0\n",
    "\n",
    "    all_coeffs = {}\n",
    "\n",
    "    for n in range(2,maxcoeffs+1):\n",
    "        coeffs = np.zeros(n) \n",
    "\n",
    "        T = np.linspace(t_min,t_max,n)\n",
    "\n",
    "        for i in range(0, n):\n",
    "\n",
    "            ti = T[i]\n",
    "\n",
    "            p = np.array([1])\n",
    "            for j in range(len(T)):\n",
    "                if not i == j:\n",
    "                    tj = T[j]\n",
    "                    a = 1/(ti - tj)\n",
    "                    p_ = a * np.array([-tj, 1]) # a*(t-t_j)\n",
    "                    p = np.convolve(p, p_)  # polynomial multiplication\n",
    "\n",
    "            c = 1/(t_max - t_min) * integrate_polynomial(p, t_min, t_max) \n",
    "            assert c > 0\n",
    "            coeffs[i] = c\n",
    "        all_coeffs[n] = coeffs\n",
    "\n",
    "    save_obj(all_coeffs, \"ub8_nc_weights\")"
   ]
  },
  {
   "cell_type": "code",
   "execution_count": 13,
   "metadata": {},
   "outputs": [],
   "source": [
    "def quad_NC(f, a,b, N):\n",
    "    \"\"\"\n",
    "    Apprimate the integral of any (callable) function f\n",
    "    on the interval a,b\n",
    "    using Newton-Cotes Quadrature with N support points.\n",
    "    The weights are loaded for the reference interval\n",
    "    and must be transformed to the function interval.\n",
    "    \"\"\"\n",
    "    try:\n",
    "        weights = load_obj(\"ub8_nc_weights\")[N]\n",
    "    except KeyError as e:\n",
    "        print(\"Weights for N={} not available\".format(N))\n",
    "        return\n",
    "    weights = weights[:N]  # only the first N, rest are 0\n",
    "    support_points = np.linspace(a,b,N)\n",
    "    \n",
    "    function_values = [f(ti) for ti in support_points]\n",
    "    \n",
    "    \n",
    "    #print(\"function values\")\n",
    "    #print(function_values)\n",
    "    #print(\"weights\")\n",
    "    #print(weights)\n",
    "    \n",
    "    \n",
    "    return (b-a) * sum(weights*function_values)"
   ]
  },
  {
   "cell_type": "code",
   "execution_count": 14,
   "metadata": {
    "scrolled": false
   },
   "outputs": [
    {
     "data": {
      "image/png": "[encoded data removed]",
      "text/plain": [
       "<Figure size 432x288 with 1 Axes>"
      ]
     },
     "metadata": {
      "needs_background": "light"
     },
     "output_type": "display_data"
    },
    {
     "name": "stdout",
     "output_type": "stream",
     "text": [
      "order 2, I=4.809176734304475e-16\n",
      "order 3, I=1.047197551196598\n",
      "order 4, I=-1.0202621423817464\n",
      "order 5, I=-0.5804063454332812\n",
      "order 6, I=-5.3435297047828166e-17\n",
      "order 7, I=0.8251068252670467\n"
     ]
    }
   ],
   "source": [
    "omega = 10\n",
    "plt.plot(T, f(T))\n",
    "plt.show()\n",
    "\n",
    "calc_and_store_NC_weights()\n",
    "for n in range(2,8):\n",
    "    print(\"order {}, I={}\".format(n, quad_NC(f, Tmin, Tmax, n)))"
   ]
  },
  {
   "cell_type": "code",
   "execution_count": null,
   "metadata": {},
   "outputs": [],
   "source": []
  }
 ],
 "metadata": {
  "kernelspec": {
   "display_name": "Python 3",
   "language": "python",
   "name": "python3"
  },
  "language_info": {
   "codemirror_mode": {
    "name": "ipython",
    "version": 3
   },
   "file_extension": ".py",
   "mimetype": "text/x-python",
   "name": "python",
   "nbconvert_exporter": "python",
   "pygments_lexer": "ipython3",
   "version": "3.6.7"
  },
  "toc": {
   "base_numbering": 1,
   "nav_menu": {},
   "number_sections": true,
   "sideBar": true,
   "skip_h1_title": false,
   "title_cell": "Table of Contents",
   "title_sidebar": "Contents",
   "toc_cell": false,
   "toc_position": {},
   "toc_section_display": true,
   "toc_window_display": false
  }
 },
 "nbformat": 4,
 "nbformat_minor": 2
}
