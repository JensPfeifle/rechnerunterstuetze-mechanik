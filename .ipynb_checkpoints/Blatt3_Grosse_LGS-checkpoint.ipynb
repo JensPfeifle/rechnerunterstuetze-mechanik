{
 "cells": [
  {
   "cell_type": "markdown",
   "metadata": {},
   "source": [
    "# LUP-Factorization"
   ]
  },
  {
   "cell_type": "code",
   "execution_count": 1,
   "metadata": {
    "scrolled": true
   },
   "outputs": [],
   "source": [
    "import numpy as np\n",
    "import numpy.linalg as la\n",
    "from scipy.linalg import lu,lu_factor,lu_solve\n",
    "from rum.basics import matprint, matprops"
   ]
  },
  {
   "cell_type": "markdown",
   "metadata": {},
   "source": [
    "## a)"
   ]
  },
  {
   "cell_type": "markdown",
   "metadata": {},
   "source": [
    "### Test matrices"
   ]
  },
  {
   "cell_type": "code",
   "execution_count": 2,
   "metadata": {},
   "outputs": [],
   "source": [
    "A_blatt = np.array([[0,5,0,4],[-1,-6,0,2],[9,3,-2,1],[-4,7,-1,3]])\n",
    "#A = np.array([[0,2,3],[4,8,12],[1,2,2]])\n",
    "A_100 = np.random.rand(100,100)"
   ]
  },
  {
   "cell_type": "markdown",
   "metadata": {},
   "source": [
    "### Functions"
   ]
  },
  {
   "cell_type": "code",
   "execution_count": 3,
   "metadata": {},
   "outputs": [],
   "source": [
    "def factor_LUP_numpystyle(A):\n",
    "    \n",
    "    eps = 10**-14  # tolerance for zero comparison\n",
    "\n",
    "    N = A.shape[0]\n",
    "    LU = A.astype(np.float).copy()\n",
    "    P = np.identity(N)\n",
    "    \n",
    "    count_pivot = 0\n",
    "    \n",
    "    for j in range(0,N):\n",
    "        pivot = LU[j,j]\n",
    "        if abs(pivot) <= 1.0:\n",
    "            n = np.argmax(abs(LU[j][j:N])) + j  # (shift um i)\n",
    "            count_pivot += 1\n",
    "            # swap LU[:, i], LU[:,n] \n",
    "            LU[:, j], LU[:,n] = LU[:, n], LU[:, j].copy()\n",
    "            # swap P[i, :], P[m,:]\n",
    "            P[n, :], P[j,:] = P[j, :], P[n, :].copy()\n",
    "            pivot = LU[j,j]\n",
    "        for i in range(j+1,N):\n",
    "            L = LU[i,j] / pivot\n",
    "            LU[i] = LU[j]*L - LU[i]\n",
    "            if abs(LU[i,j]) < eps:\n",
    "                LU[i,j] = L\n",
    "            else:\n",
    "                print(\"Place for L is not 0! {}\".format(LU[i,j]))\n",
    "                raise ValueError\n",
    "\n",
    "    return (LU,P)"
   ]
  },
  {
   "cell_type": "code",
   "execution_count": 4,
   "metadata": {
    "scrolled": false
   },
   "outputs": [],
   "source": [
    "def factor_LUP(A):\n",
    "    \"\"\"            \n",
    "    Berechnet die LU-Zerlegung der Matrix A\n",
    "    Es gilt:\n",
    "    L = LU(i,j) ( i > j ); 1 ( i == j); 0 (sonst)\n",
    "    U = LU(i,j) ( j >= i ); 0 (sonst)\n",
    "    \"\"\"\n",
    "    N = A.shape[0]\n",
    "    \n",
    "    LU = A.astype(np.float).copy()\n",
    "    P = np.identity(N)\n",
    "    \n",
    "    count_pivot = 0\n",
    "    \n",
    "    for i in range(0,N):\n",
    "        for j in range(0,N):\n",
    "            if j < i:\n",
    "                summe = sum([LU[i,k]*LU[k,j] for k in range(0,j)])\n",
    "                LU[i,j] = (1/LU[j,j])*(LU[i,j] - summe)\n",
    "            else:\n",
    "                summe = sum([LU[i,k]*LU[k,j] for k in range(0,i)])\n",
    "                LU[i,j] = (LU[i,j] - summe)\n",
    "            \n",
    "        # ggf. Permutation der Spalten durchfuehren\n",
    "        if abs(LU[i,i] <= 1):\n",
    "            # Spalten-Pivotsuche: maximales Element in der aktuellen Zeile\n",
    "            n = np.argmax(LU[i][i:N]) + i  # (shift um i)\n",
    "            count_pivot += 1\n",
    "            # swap LU[:, i], LU[:,n] \n",
    "            LU[:, i], LU[:,n] = LU[:, n], LU[:, i].copy()\n",
    "            # swap P[i, :], P[m,:]\n",
    "            P[n, :], P[i,:] = P[i, :], P[n, :].copy()\n",
    "            \n",
    "    return LU, P"
   ]
  },
  {
   "cell_type": "code",
   "execution_count": 5,
   "metadata": {},
   "outputs": [],
   "source": [
    "import time\n",
    "\n",
    "def test_factor_LUP(factorfunc, A):\n",
    "    \n",
    "    t0 = time.time()\n",
    "    \n",
    "    LU,P = factorfunc(A)\n",
    "    \n",
    "    elapsed_time = time.time()-t0;\n",
    "    print('Elapsed time: {:.8f} s'.format(elapsed_time))\n",
    "    \n",
    "    print(\"==LU==\")\n",
    "    matprint(LU)    \n",
    "    N = LU.shape[0]\n",
    "\n",
    "    L = np.identity(N)\n",
    "    for i in range(0,N):\n",
    "        for j in range(0,i):\n",
    "            L[i,j] = LU[i,j]\n",
    "    print('==L==')\n",
    "    matprint(L)\n",
    "\n",
    "    U = LU.copy()\n",
    "    for i in range(0,N):\n",
    "        for j in range(0,i):\n",
    "            U[i,j] = 0\n",
    "    print('==U==')\n",
    "    matprint(U)\n",
    "\n",
    "    print('==P==')\n",
    "    matprint(P)\n",
    "\n",
    "    print('==LUP=A==')\n",
    "    matprint(np.dot(np.dot(L,U),P))"
   ]
  },
  {
   "cell_type": "markdown",
   "metadata": {},
   "source": [
    "### Test factorization"
   ]
  },
  {
   "cell_type": "code",
   "execution_count": 6,
   "metadata": {},
   "outputs": [
    {
     "name": "stdout",
     "output_type": "stream",
     "text": [
      "Elapsed time: 0.00045562 s\n",
      "==LU==\n",
      "   5         4         0        0 \n",
      "-1.2       6.8        -1        0 \n",
      " 0.6 -0.205882   8.79412       -2 \n",
      " 1.4 -0.382353 -0.498328 -1.99666 \n",
      "==L==\n",
      "   1         0         0 0 \n",
      "-1.2         1         0 0 \n",
      " 0.6 -0.205882         1 0 \n",
      " 1.4 -0.382353 -0.498328 1 \n",
      "==U==\n",
      "5   4       0        0 \n",
      "0 6.8      -1        0 \n",
      "0   0 8.79412       -2 \n",
      "0   0       0 -1.99666 \n",
      "==P==\n",
      "0 1 0 0 \n",
      "0 0 0 1 \n",
      "1 0 0 0 \n",
      "0 0 1 0 \n",
      "==LUP=A==\n",
      " 0  5  0 4 \n",
      "-1 -6  0 2 \n",
      " 9  3 -2 1 \n",
      "-4  7 -1 3 \n"
     ]
    }
   ],
   "source": [
    "test_factor_LUP(factor_LUP, A_blatt)"
   ]
  },
  {
   "cell_type": "code",
   "execution_count": 7,
   "metadata": {},
   "outputs": [
    {
     "name": "stdout",
     "output_type": "stream",
     "text": [
      "Elapsed time: 0.00030637 s\n",
      "==LU==\n",
      "        5         4   0       0 \n",
      "     -1.2      -6.8  -0       1 \n",
      "-0.352941 -0.205882  -2 8.79412 \n",
      " 0.764706  0.279412 0.5 8.77941 \n",
      "==L==\n",
      "        1         0   0 0 \n",
      "     -1.2         1   0 0 \n",
      "-0.352941 -0.205882   1 0 \n",
      " 0.764706  0.279412 0.5 1 \n",
      "==U==\n",
      "5    4  0       0 \n",
      "0 -6.8 -0       1 \n",
      "0    0 -2 8.79412 \n",
      "0    0  0 8.77941 \n",
      "==P==\n",
      "0 1 0 0 \n",
      "0 0 0 1 \n",
      "0 0 1 0 \n",
      "1 0 0 0 \n",
      "==LUP=A==\n",
      "      0        5  0          4 \n",
      "      1       -6  0      -11.6 \n",
      "8.58824 -1.76471 -2 -0.0117647 \n",
      "13.4559  3.82353 -1    1.15882 \n"
     ]
    }
   ],
   "source": [
    "test_factor_LUP(factor_LUP_numpystyle, A_blatt)"
   ]
  },
  {
   "cell_type": "markdown",
   "metadata": {},
   "source": [
    "### Timeit"
   ]
  },
  {
   "cell_type": "code",
   "execution_count": 8,
   "metadata": {},
   "outputs": [
    {
     "name": "stdout",
     "output_type": "stream",
     "text": [
      "123 ms ± 10.4 ms per loop (mean ± std. dev. of 7 runs, 10 loops each)\n"
     ]
    }
   ],
   "source": [
    "%timeit factor_LUP(A_100)"
   ]
  },
  {
   "cell_type": "code",
   "execution_count": 9,
   "metadata": {},
   "outputs": [
    {
     "name": "stdout",
     "output_type": "stream",
     "text": [
      "16.2 ms ± 4.16 ms per loop (mean ± std. dev. of 7 runs, 10 loops each)\n"
     ]
    }
   ],
   "source": [
    "%timeit factor_LUP_numpystyle(A_100)"
   ]
  },
  {
   "cell_type": "markdown",
   "metadata": {},
   "source": [
    "**10x faster :D**"
   ]
  },
  {
   "cell_type": "markdown",
   "metadata": {},
   "source": [
    "## b)"
   ]
  },
  {
   "cell_type": "code",
   "execution_count": 77,
   "metadata": {},
   "outputs": [],
   "source": [
    "from rum.solve import forwardsubs, backwardsubs\n",
    "b = np.random.rand(4)\n",
    "\n",
    "def solve_LUP(A, b):\n",
    "    \n",
    "    LU,P = factor_LUP(A)\n",
    "    N = LU.shape[0]\n",
    "    \n",
    "\n",
    "    # LUPx = L(UPx)= Lz\n",
    "    # solve z\n",
    "    L = np.identity(N)\n",
    "    for i in range(0,N):\n",
    "        for j in range(0,i):\n",
    "            L[i,j] = LU[i,j]\n",
    "    matprint(L)\n",
    "    z = forwardsubs(L, b)\n",
    "    \n",
    "    # UPx = U(Px) = Uv\n",
    "    # solve v\n",
    "    U = LU.copy()\n",
    "    for i in range(0,N):\n",
    "        for j in range(0,i):\n",
    "            U[i,j] = 0\n",
    "    v = backwardsubs(U, z)\n",
    "    matprint(U)\n",
    "    \n",
    "    #v=PX\n",
    "    x=np.dot(P.T, v)\n",
    "\n",
    "    return x"
   ]
  },
  {
   "cell_type": "markdown",
   "metadata": {},
   "source": [
    "### FIXME"
   ]
  },
  {
   "cell_type": "code",
   "execution_count": 78,
   "metadata": {},
   "outputs": [
    {
     "name": "stdout",
     "output_type": "stream",
     "text": [
      "   1         0         0 0 \n",
      "-1.2         1         0 0 \n",
      " 0.6 -0.205882         1 0 \n",
      " 1.4 -0.382353 -0.498328 1 \n",
      "5   4       0        0 \n",
      "0 6.8      -1        0 \n",
      "0   0 8.79412       -2 \n",
      "0   0       0 -1.99666 \n",
      "[0.18236192 0.5875098  0.3983138  0.15156842]\n",
      "[0.18236192 0.5875098  0.3983138  0.15156842]\n"
     ]
    }
   ],
   "source": [
    "x = solve_LUP(A_blatt,b)\n",
    "print(b)\n",
    "print(np.dot(A_blatt,x))"
   ]
  },
  {
   "cell_type": "markdown",
   "metadata": {},
   "source": [
    "# CG-Verfahren"
   ]
  },
  {
   "cell_type": "markdown",
   "metadata": {},
   "source": [
    "## a) \n",
    "Schreiben Sie ein Programm, welches das lineare Gleichungssystem Ax = y mit der Methode der konjugierten Gradienten löst."
   ]
  },
  {
   "cell_type": "code",
   "execution_count": 59,
   "metadata": {},
   "outputs": [],
   "source": [
    "import scipy.linalg as la\n",
    "\n",
    "def solve_CG(A,y, print_output=True):\n",
    "    \n",
    "    \"\"\" Solve Ax=y for a symmetric matric A.\n",
    "        \n",
    "    \"\"\"\n",
    "    \n",
    "    if not type(A) == np.ndarray:\n",
    "        print(\"This function only works with numpy.ndarray types!\")\n",
    "        return None\n",
    "    \n",
    "    EPSILON = 1e-8\n",
    "    \n",
    "    N = A.shape[0]\n",
    "    \n",
    "    x = np.zeros(N)\n",
    "    p = np.zeros(N)\n",
    "    d = np.zeros(N)\n",
    "    r = np.zeros(N)\n",
    "    \n",
    "    KMAX = 1000\n",
    "\n",
    "    k = 0\n",
    "    while (k < KMAX):\n",
    "\n",
    "            if k == 0: # first iteration\n",
    "                    beta = 0.0\n",
    "                    r = y\n",
    "            else:\n",
    "                beta = np.inner(r,r)/rTr_kminus1\n",
    "            p = r + np.multiply(beta,p)\n",
    "            d = A.dot(p)\n",
    "            alpha = np.inner(r,r)/np.inner(d,p)\n",
    "            x = x + np.multiply(alpha,p)\n",
    "            rTr_kminus1 = np.inner(r, r) # altes residium speichern für beta\n",
    "            r = r - np.multiply(alpha,d)  \n",
    "            \n",
    "            err = la.norm(r,2)/la.norm(y,2)\n",
    "            k = k + 1           \n",
    "                  \n",
    "            if (err < EPSILON):\n",
    "                if print_output:\n",
    "                    print(\"solve_CG:\")\n",
    "                    print(\"Residual: r = \", la.norm(r,2))\n",
    "                    print(\"Took \", k, \" iterations.\")\n",
    "                return x\n",
    "            \n",
    "    print(\"Error. Too many iterations.\")\n",
    "    return None"
   ]
  },
  {
   "cell_type": "markdown",
   "metadata": {},
   "source": [
    "## b) \n",
    "Vergleichen Sie die Anzahl der benötigten Iterationen mit dem bicg-Löser, der in Matlab\n",
    "implementiert ist. Stimmen die Ergebnisse überein? Eine geeignete Testmatrix B können Sie\n",
    "aus der Datei sparse_matrix.mat importieren. Um die Symmetrie sicher zu stellen kann\n",
    "hieraus die Matrix A = BB T zur Aufstellung des Gleichungssystems berechnet werden. Die\n",
    "rechte Seite des Gleichungssystems kann z.B. über einen Zufallsvektor gestaltet werden."
   ]
  },
  {
   "cell_type": "markdown",
   "metadata": {},
   "source": [
    "### Stucture of A"
   ]
  },
  {
   "cell_type": "code",
   "execution_count": 44,
   "metadata": {},
   "outputs": [
    {
     "data": {
      "image/png": "[encoded data removed]",
      "text/plain": [
       "<Figure size 432x288 with 1 Axes>"
      ]
     },
     "metadata": {
      "needs_background": "light"
     },
     "output_type": "display_data"
    }
   ],
   "source": [
    "import matplotlib.pyplot as plt\n",
    "%matplotlib inline\n",
    "plt.spy(A,precision=0.01,markersize=1)\n",
    "plt.show()"
   ]
  },
  {
   "cell_type": "markdown",
   "metadata": {},
   "source": [
    "### Compare my CG solver to scipy.sparse.linalg.cd"
   ]
  },
  {
   "cell_type": "code",
   "execution_count": 63,
   "metadata": {},
   "outputs": [],
   "source": [
    "import scipy.io\n",
    "file_contents = scipy.io.loadmat('Blatt3_sparse_matrix.mat')\n",
    "matrix = file_contents['B']\n",
    "\n",
    "# make matrix symmetric\n",
    "symm_matrix = np.dot(matrix.T, matrix)\n",
    "# to array for solve_CG() and np.cong()\n",
    "A = symm_matrix.toarray()\n",
    "\n",
    "# generate rhs\n",
    "y = np.random.rand(A.shape[0])"
   ]
  },
  {
   "cell_type": "code",
   "execution_count": 67,
   "metadata": {},
   "outputs": [
    {
     "name": "stdout",
     "output_type": "stream",
     "text": [
      "1.33 ms ± 27.4 µs per loop (mean ± std. dev. of 7 runs, 1000 loops each)\n"
     ]
    }
   ],
   "source": [
    " %timeit solve_CG(A,y, print_output=False)"
   ]
  },
  {
   "cell_type": "code",
   "execution_count": 68,
   "metadata": {},
   "outputs": [
    {
     "name": "stdout",
     "output_type": "stream",
     "text": [
      "1.85 ms ± 219 µs per loop (mean ± std. dev. of 7 runs, 100 loops each)\n"
     ]
    }
   ],
   "source": [
    "from scipy.sparse.linalg import cg\n",
    "%timeit cg(symm_matrix,y, tol=10**-8)"
   ]
  },
  {
   "cell_type": "code",
   "execution_count": null,
   "metadata": {},
   "outputs": [],
   "source": []
  }
 ],
 "metadata": {
  "kernelspec": {
   "display_name": "Python 3",
   "language": "python",
   "name": "python3"
  },
  "language_info": {
   "codemirror_mode": {
    "name": "ipython",
    "version": 3
   },
   "file_extension": ".py",
   "mimetype": "text/x-python",
   "name": "python",
   "nbconvert_exporter": "python",
   "pygments_lexer": "ipython3",
   "version": "3.6.6"
  },
  "toc": {
   "base_numbering": 1,
   "nav_menu": {},
   "number_sections": true,
   "sideBar": true,
   "skip_h1_title": false,
   "title_cell": "Table of Contents",
   "title_sidebar": "Contents",
   "toc_cell": false,
   "toc_position": {},
   "toc_section_display": true,
   "toc_window_display": false
  }
 },
 "nbformat": 4,
 "nbformat_minor": 2
}
